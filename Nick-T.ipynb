{
 "cells": [
  {
   "cell_type": "markdown",
   "id": "5e8b3e73",
   "metadata": {},
   "source": [
    "# BrightApps Assignment Problem\n",
    "## Table of Contents:\n",
    "* [Data Understanding](#data-understanding)\n",
    "* [Feature Importance](#feature-importance)\n",
    "* [Outlier Detection](#outlier-detection)\n",
    "* [Feature Engineering](#feature-engineering)\n",
    "* [Model Building](#model-building)\n",
    "* [Summary Recap](#summary-recap)"
   ]
  },
  {
   "cell_type": "code",
   "execution_count": 1,
   "id": "9ffd8aeb",
   "metadata": {},
   "outputs": [],
   "source": [
    "import pandas as pd\n",
    "import numpy as np\n",
    "\n",
    "from matplotlib import pyplot as plt\n",
    "from scipy.stats import shapiro, normaltest\n",
    "from sklearn.model_selection import train_test_split\n",
    "from sklearn.ensemble import RandomForestClassifier\n",
    "\n",
    "alpha = .05 # statistical testing level\n",
    "N = 10_0000 # reduced data regime"
   ]
  },
  {
   "cell_type": "markdown",
   "id": "a4e2c1c6",
   "metadata": {},
   "source": [
    "# Data Understanding <a class=\"anchor\" id=\"data-understanding\"></a>\n",
    "Familiarize yourself with the dataset and interpret the significance of each feature."
   ]
  },
  {
   "cell_type": "code",
   "execution_count": 2,
   "id": "3b55c1b5",
   "metadata": {},
   "outputs": [],
   "source": [
    "df = pd.read_csv('./data.csv')"
   ]
  },
  {
   "cell_type": "code",
   "execution_count": 3,
   "id": "e5f6766e",
   "metadata": {},
   "outputs": [
    {
     "data": {
      "text/plain": [
       "(281004, 15)"
      ]
     },
     "execution_count": 3,
     "metadata": {},
     "output_type": "execute_result"
    }
   ],
   "source": [
    "# long and skinny\n",
    "df.shape"
   ]
  },
  {
   "cell_type": "code",
   "execution_count": 4,
   "id": "5d6b7f50",
   "metadata": {},
   "outputs": [
    {
     "data": {
      "text/html": [
       "<div>\n",
       "<style scoped>\n",
       "    .dataframe tbody tr th:only-of-type {\n",
       "        vertical-align: middle;\n",
       "    }\n",
       "\n",
       "    .dataframe tbody tr th {\n",
       "        vertical-align: top;\n",
       "    }\n",
       "\n",
       "    .dataframe thead th {\n",
       "        text-align: right;\n",
       "    }\n",
       "</style>\n",
       "<table border=\"1\" class=\"dataframe\">\n",
       "  <thead>\n",
       "    <tr style=\"text-align: right;\">\n",
       "      <th></th>\n",
       "      <th>col_0</th>\n",
       "      <th>col_1</th>\n",
       "      <th>col_2</th>\n",
       "      <th>col_3</th>\n",
       "      <th>col_4</th>\n",
       "      <th>col_5</th>\n",
       "      <th>col_6</th>\n",
       "      <th>col_7</th>\n",
       "      <th>col_8</th>\n",
       "      <th>col_9</th>\n",
       "      <th>col_10</th>\n",
       "      <th>col_11</th>\n",
       "      <th>col_12</th>\n",
       "      <th>col_13</th>\n",
       "      <th>label</th>\n",
       "    </tr>\n",
       "  </thead>\n",
       "  <tbody>\n",
       "    <tr>\n",
       "      <th>0</th>\n",
       "      <td>0.860224</td>\n",
       "      <td>1.0</td>\n",
       "      <td>0.905699</td>\n",
       "      <td>0.0</td>\n",
       "      <td>0.000000</td>\n",
       "      <td>0.897801</td>\n",
       "      <td>0.416134</td>\n",
       "      <td>0.936249</td>\n",
       "      <td>0.954516</td>\n",
       "      <td>0.655994</td>\n",
       "      <td>70.0</td>\n",
       "      <td>0.904535</td>\n",
       "      <td>0.477965</td>\n",
       "      <td>1.000000</td>\n",
       "      <td>1</td>\n",
       "    </tr>\n",
       "    <tr>\n",
       "      <th>1</th>\n",
       "      <td>0.899660</td>\n",
       "      <td>0.0</td>\n",
       "      <td>0.950384</td>\n",
       "      <td>0.0</td>\n",
       "      <td>0.000000</td>\n",
       "      <td>0.899660</td>\n",
       "      <td>0.814271</td>\n",
       "      <td>0.965632</td>\n",
       "      <td>0.895718</td>\n",
       "      <td>0.866131</td>\n",
       "      <td>36.0</td>\n",
       "      <td>0.726427</td>\n",
       "      <td>0.770299</td>\n",
       "      <td>1.000000</td>\n",
       "      <td>1</td>\n",
       "    </tr>\n",
       "    <tr>\n",
       "      <th>2</th>\n",
       "      <td>0.604478</td>\n",
       "      <td>0.0</td>\n",
       "      <td>0.901425</td>\n",
       "      <td>0.0</td>\n",
       "      <td>0.544263</td>\n",
       "      <td>0.816494</td>\n",
       "      <td>0.542276</td>\n",
       "      <td>0.929602</td>\n",
       "      <td>0.982845</td>\n",
       "      <td>0.943498</td>\n",
       "      <td>106.0</td>\n",
       "      <td>0.855471</td>\n",
       "      <td>0.602923</td>\n",
       "      <td>0.670886</td>\n",
       "      <td>1</td>\n",
       "    </tr>\n",
       "    <tr>\n",
       "      <th>3</th>\n",
       "      <td>0.786914</td>\n",
       "      <td>0.0</td>\n",
       "      <td>0.874471</td>\n",
       "      <td>0.0</td>\n",
       "      <td>0.000000</td>\n",
       "      <td>0.767869</td>\n",
       "      <td>0.792423</td>\n",
       "      <td>0.901341</td>\n",
       "      <td>0.815631</td>\n",
       "      <td>0.793568</td>\n",
       "      <td>135.0</td>\n",
       "      <td>0.843382</td>\n",
       "      <td>1.000000</td>\n",
       "      <td>1.000000</td>\n",
       "      <td>1</td>\n",
       "    </tr>\n",
       "    <tr>\n",
       "      <th>4</th>\n",
       "      <td>0.485634</td>\n",
       "      <td>1.0</td>\n",
       "      <td>0.909619</td>\n",
       "      <td>0.5</td>\n",
       "      <td>0.000000</td>\n",
       "      <td>0.499489</td>\n",
       "      <td>1.000000</td>\n",
       "      <td>0.644051</td>\n",
       "      <td>0.890473</td>\n",
       "      <td>0.998848</td>\n",
       "      <td>0.0</td>\n",
       "      <td>0.825947</td>\n",
       "      <td>1.000000</td>\n",
       "      <td>0.000000</td>\n",
       "      <td>1</td>\n",
       "    </tr>\n",
       "  </tbody>\n",
       "</table>\n",
       "</div>"
      ],
      "text/plain": [
       "      col_0  col_1     col_2  col_3     col_4     col_5     col_6     col_7  \\\n",
       "0  0.860224    1.0  0.905699    0.0  0.000000  0.897801  0.416134  0.936249   \n",
       "1  0.899660    0.0  0.950384    0.0  0.000000  0.899660  0.814271  0.965632   \n",
       "2  0.604478    0.0  0.901425    0.0  0.544263  0.816494  0.542276  0.929602   \n",
       "3  0.786914    0.0  0.874471    0.0  0.000000  0.767869  0.792423  0.901341   \n",
       "4  0.485634    1.0  0.909619    0.5  0.000000  0.499489  1.000000  0.644051   \n",
       "\n",
       "      col_8     col_9  col_10    col_11    col_12    col_13  label  \n",
       "0  0.954516  0.655994    70.0  0.904535  0.477965  1.000000      1  \n",
       "1  0.895718  0.866131    36.0  0.726427  0.770299  1.000000      1  \n",
       "2  0.982845  0.943498   106.0  0.855471  0.602923  0.670886      1  \n",
       "3  0.815631  0.793568   135.0  0.843382  1.000000  1.000000      1  \n",
       "4  0.890473  0.998848     0.0  0.825947  1.000000  0.000000      1  "
      ]
     },
     "execution_count": 4,
     "metadata": {},
     "output_type": "execute_result"
    }
   ],
   "source": [
    "df.head()"
   ]
  },
  {
   "cell_type": "code",
   "execution_count": 5,
   "id": "88ef8060",
   "metadata": {},
   "outputs": [
    {
     "data": {
      "image/png": "[encoded data removed]",
      "text/plain": [
       "<Figure size 1080x720 with 16 Axes>"
      ]
     },
     "metadata": {
      "needs_background": "light"
     },
     "output_type": "display_data"
    }
   ],
   "source": [
    "df.hist(figsize=(15,10));"
   ]
  },
  {
   "cell_type": "markdown",
   "id": "671b422e",
   "metadata": {},
   "source": [
    "- Target classes look balanced\n",
    "- Many of these distributions are squashed by outliers"
   ]
  },
  {
   "cell_type": "code",
   "execution_count": 6,
   "id": "9412f164",
   "metadata": {},
   "outputs": [
    {
     "data": {
      "text/plain": [
       "col_0      ColumnDistribution.CONTINUOUS\n",
       "col_1          ColumnDistribution.BINARY\n",
       "col_2      ColumnDistribution.CONTINUOUS\n",
       "col_3     ColumnDistribution.CATEGORICAL\n",
       "col_4      ColumnDistribution.CONTINUOUS\n",
       "col_5      ColumnDistribution.CONTINUOUS\n",
       "col_6      ColumnDistribution.CONTINUOUS\n",
       "col_7      ColumnDistribution.CONTINUOUS\n",
       "col_8      ColumnDistribution.CONTINUOUS\n",
       "col_9      ColumnDistribution.CONTINUOUS\n",
       "col_10     ColumnDistribution.CONTINUOUS\n",
       "col_11     ColumnDistribution.CONTINUOUS\n",
       "col_12     ColumnDistribution.CONTINUOUS\n",
       "col_13     ColumnDistribution.CONTINUOUS\n",
       "label          ColumnDistribution.BINARY\n",
       "dtype: object"
      ]
     },
     "execution_count": 6,
     "metadata": {},
     "output_type": "execute_result"
    }
   ],
   "source": [
    "from enum import Enum\n",
    "\n",
    "class ColumnDistribution(Enum):\n",
    "    BINARY = 0\n",
    "    CATEGORICAL = 1\n",
    "    CONTINUOUS = 2\n",
    "    \n",
    "def col_binary_categorical_cont(s:pd.Series, max_categories=20):\n",
    "    lvc = len(s.value_counts())\n",
    "    if lvc == 2: return ColumnDistribution.BINARY\n",
    "    if lvc < max_categories: return ColumnDistribution.CATEGORICAL\n",
    "    else: return ColumnDistribution.CONTINUOUS\n",
    "\n",
    "column_distributions = df.apply(col_binary_categorical_cont)\n",
    "column_distributions"
   ]
  },
  {
   "cell_type": "code",
   "execution_count": 7,
   "id": "83f666ad",
   "metadata": {},
   "outputs": [
    {
     "data": {
      "text/plain": [
       "array([1, 0])"
      ]
     },
     "execution_count": 7,
     "metadata": {},
     "output_type": "execute_result"
    }
   ],
   "source": [
    "# Binary labels\n",
    "df.label.unique()"
   ]
  },
  {
   "cell_type": "code",
   "execution_count": 8,
   "id": "85532d16",
   "metadata": {},
   "outputs": [
    {
     "data": {
      "text/plain": [
       "col_0     0.0\n",
       "col_1     0.0\n",
       "col_2     0.0\n",
       "col_3     0.0\n",
       "col_4     0.0\n",
       "col_5     0.0\n",
       "col_6     0.0\n",
       "col_7     0.0\n",
       "col_8     0.0\n",
       "col_9     0.0\n",
       "col_10    0.0\n",
       "col_11    0.0\n",
       "col_12    0.0\n",
       "col_13    0.0\n",
       "label     0.0\n",
       "dtype: float64"
      ]
     },
     "execution_count": 8,
     "metadata": {},
     "output_type": "execute_result"
    }
   ],
   "source": [
    "# No Nulls -- probably pre-cleaned\n",
    "df.isnull().sum(axis=0)/len(df)"
   ]
  },
  {
   "cell_type": "code",
   "execution_count": 9,
   "id": "e398b4a2",
   "metadata": {},
   "outputs": [
    {
     "data": {
      "text/plain": [
       "False"
      ]
     },
     "execution_count": 9,
     "metadata": {},
     "output_type": "execute_result"
    }
   ],
   "source": [
    "# Test for all-zero columns (it happens!)\n",
    "any(df.sum() == 0)"
   ]
  },
  {
   "cell_type": "code",
   "execution_count": null,
   "id": "ee6679aa",
   "metadata": {},
   "outputs": [],
   "source": []
  },
  {
   "cell_type": "code",
   "execution_count": 10,
   "id": "7c88cbd1",
   "metadata": {},
   "outputs": [
    {
     "data": {
      "text/html": [
       "<div>\n",
       "<style scoped>\n",
       "    .dataframe tbody tr th:only-of-type {\n",
       "        vertical-align: middle;\n",
       "    }\n",
       "\n",
       "    .dataframe tbody tr th {\n",
       "        vertical-align: top;\n",
       "    }\n",
       "\n",
       "    .dataframe thead th {\n",
       "        text-align: right;\n",
       "    }\n",
       "</style>\n",
       "<table border=\"1\" class=\"dataframe\">\n",
       "  <thead>\n",
       "    <tr style=\"text-align: right;\">\n",
       "      <th></th>\n",
       "      <th>col_0</th>\n",
       "      <th>col_1</th>\n",
       "      <th>col_2</th>\n",
       "      <th>col_3</th>\n",
       "      <th>col_4</th>\n",
       "      <th>col_5</th>\n",
       "      <th>col_6</th>\n",
       "      <th>col_7</th>\n",
       "      <th>col_8</th>\n",
       "      <th>col_9</th>\n",
       "      <th>col_10</th>\n",
       "      <th>col_11</th>\n",
       "      <th>col_12</th>\n",
       "      <th>col_13</th>\n",
       "      <th>label</th>\n",
       "    </tr>\n",
       "  </thead>\n",
       "  <tbody>\n",
       "    <tr>\n",
       "      <th>count</th>\n",
       "      <td>281004.000000</td>\n",
       "      <td>281004.000000</td>\n",
       "      <td>281004.000000</td>\n",
       "      <td>281004.000000</td>\n",
       "      <td>281004.000000</td>\n",
       "      <td>281004.000000</td>\n",
       "      <td>281004.000000</td>\n",
       "      <td>281004.000000</td>\n",
       "      <td>281004.000000</td>\n",
       "      <td>281004.000000</td>\n",
       "      <td>281004.000000</td>\n",
       "      <td>281004.000000</td>\n",
       "      <td>281004.000000</td>\n",
       "      <td>281004.000000</td>\n",
       "      <td>281004.000000</td>\n",
       "    </tr>\n",
       "    <tr>\n",
       "      <th>mean</th>\n",
       "      <td>0.786245</td>\n",
       "      <td>0.085977</td>\n",
       "      <td>0.892915</td>\n",
       "      <td>0.132527</td>\n",
       "      <td>0.195575</td>\n",
       "      <td>0.773967</td>\n",
       "      <td>0.653034</td>\n",
       "      <td>0.884875</td>\n",
       "      <td>0.861789</td>\n",
       "      <td>0.863303</td>\n",
       "      <td>58.644184</td>\n",
       "      <td>0.758937</td>\n",
       "      <td>0.660080</td>\n",
       "      <td>0.914492</td>\n",
       "      <td>0.500160</td>\n",
       "    </tr>\n",
       "    <tr>\n",
       "      <th>std</th>\n",
       "      <td>0.089018</td>\n",
       "      <td>0.280331</td>\n",
       "      <td>0.083577</td>\n",
       "      <td>0.323653</td>\n",
       "      <td>0.303187</td>\n",
       "      <td>0.125954</td>\n",
       "      <td>0.248056</td>\n",
       "      <td>0.072949</td>\n",
       "      <td>0.190076</td>\n",
       "      <td>0.171181</td>\n",
       "      <td>67.475896</td>\n",
       "      <td>0.209225</td>\n",
       "      <td>0.257984</td>\n",
       "      <td>0.236541</td>\n",
       "      <td>0.500001</td>\n",
       "    </tr>\n",
       "    <tr>\n",
       "      <th>min</th>\n",
       "      <td>-0.063343</td>\n",
       "      <td>0.000000</td>\n",
       "      <td>0.427709</td>\n",
       "      <td>0.000000</td>\n",
       "      <td>-1.075384</td>\n",
       "      <td>-0.079069</td>\n",
       "      <td>-0.488159</td>\n",
       "      <td>0.128208</td>\n",
       "      <td>0.000000</td>\n",
       "      <td>-0.152368</td>\n",
       "      <td>-112.486216</td>\n",
       "      <td>0.000000</td>\n",
       "      <td>-0.649736</td>\n",
       "      <td>0.000000</td>\n",
       "      <td>0.000000</td>\n",
       "    </tr>\n",
       "    <tr>\n",
       "      <th>25%</th>\n",
       "      <td>0.738787</td>\n",
       "      <td>0.000000</td>\n",
       "      <td>0.848364</td>\n",
       "      <td>0.000000</td>\n",
       "      <td>0.000000</td>\n",
       "      <td>0.705784</td>\n",
       "      <td>0.464633</td>\n",
       "      <td>0.857066</td>\n",
       "      <td>0.856616</td>\n",
       "      <td>0.774144</td>\n",
       "      <td>20.000000</td>\n",
       "      <td>0.688354</td>\n",
       "      <td>0.461148</td>\n",
       "      <td>1.000000</td>\n",
       "      <td>0.000000</td>\n",
       "    </tr>\n",
       "    <tr>\n",
       "      <th>50%</th>\n",
       "      <td>0.796567</td>\n",
       "      <td>0.000000</td>\n",
       "      <td>0.908683</td>\n",
       "      <td>0.000000</td>\n",
       "      <td>0.000000</td>\n",
       "      <td>0.789394</td>\n",
       "      <td>0.626251</td>\n",
       "      <td>0.903768</td>\n",
       "      <td>0.912699</td>\n",
       "      <td>0.922107</td>\n",
       "      <td>42.000000</td>\n",
       "      <td>0.802971</td>\n",
       "      <td>0.628400</td>\n",
       "      <td>1.000000</td>\n",
       "      <td>1.000000</td>\n",
       "    </tr>\n",
       "    <tr>\n",
       "      <th>75%</th>\n",
       "      <td>0.846311</td>\n",
       "      <td>0.000000</td>\n",
       "      <td>0.953914</td>\n",
       "      <td>0.000000</td>\n",
       "      <td>0.434253</td>\n",
       "      <td>0.859719</td>\n",
       "      <td>0.849837</td>\n",
       "      <td>0.932482</td>\n",
       "      <td>0.945720</td>\n",
       "      <td>0.998507</td>\n",
       "      <td>73.000000</td>\n",
       "      <td>0.890945</td>\n",
       "      <td>0.910616</td>\n",
       "      <td>1.000000</td>\n",
       "      <td>1.000000</td>\n",
       "    </tr>\n",
       "    <tr>\n",
       "      <th>max</th>\n",
       "      <td>1.112313</td>\n",
       "      <td>1.000000</td>\n",
       "      <td>1.214537</td>\n",
       "      <td>1.000000</td>\n",
       "      <td>1.505117</td>\n",
       "      <td>1.240419</td>\n",
       "      <td>1.799994</td>\n",
       "      <td>1.119058</td>\n",
       "      <td>1.166633</td>\n",
       "      <td>1.559296</td>\n",
       "      <td>2676.000000</td>\n",
       "      <td>1.391272</td>\n",
       "      <td>2.020270</td>\n",
       "      <td>1.000000</td>\n",
       "      <td>1.000000</td>\n",
       "    </tr>\n",
       "  </tbody>\n",
       "</table>\n",
       "</div>"
      ],
      "text/plain": [
       "               col_0          col_1          col_2          col_3  \\\n",
       "count  281004.000000  281004.000000  281004.000000  281004.000000   \n",
       "mean        0.786245       0.085977       0.892915       0.132527   \n",
       "std         0.089018       0.280331       0.083577       0.323653   \n",
       "min        -0.063343       0.000000       0.427709       0.000000   \n",
       "25%         0.738787       0.000000       0.848364       0.000000   \n",
       "50%         0.796567       0.000000       0.908683       0.000000   \n",
       "75%         0.846311       0.000000       0.953914       0.000000   \n",
       "max         1.112313       1.000000       1.214537       1.000000   \n",
       "\n",
       "               col_4          col_5          col_6          col_7  \\\n",
       "count  281004.000000  281004.000000  281004.000000  281004.000000   \n",
       "mean        0.195575       0.773967       0.653034       0.884875   \n",
       "std         0.303187       0.125954       0.248056       0.072949   \n",
       "min        -1.075384      -0.079069      -0.488159       0.128208   \n",
       "25%         0.000000       0.705784       0.464633       0.857066   \n",
       "50%         0.000000       0.789394       0.626251       0.903768   \n",
       "75%         0.434253       0.859719       0.849837       0.932482   \n",
       "max         1.505117       1.240419       1.799994       1.119058   \n",
       "\n",
       "               col_8          col_9         col_10         col_11  \\\n",
       "count  281004.000000  281004.000000  281004.000000  281004.000000   \n",
       "mean        0.861789       0.863303      58.644184       0.758937   \n",
       "std         0.190076       0.171181      67.475896       0.209225   \n",
       "min         0.000000      -0.152368    -112.486216       0.000000   \n",
       "25%         0.856616       0.774144      20.000000       0.688354   \n",
       "50%         0.912699       0.922107      42.000000       0.802971   \n",
       "75%         0.945720       0.998507      73.000000       0.890945   \n",
       "max         1.166633       1.559296    2676.000000       1.391272   \n",
       "\n",
       "              col_12         col_13          label  \n",
       "count  281004.000000  281004.000000  281004.000000  \n",
       "mean        0.660080       0.914492       0.500160  \n",
       "std         0.257984       0.236541       0.500001  \n",
       "min        -0.649736       0.000000       0.000000  \n",
       "25%         0.461148       1.000000       0.000000  \n",
       "50%         0.628400       1.000000       1.000000  \n",
       "75%         0.910616       1.000000       1.000000  \n",
       "max         2.020270       1.000000       1.000000  "
      ]
     },
     "execution_count": 10,
     "metadata": {},
     "output_type": "execute_result"
    }
   ],
   "source": [
    "df.describe()"
   ]
  },
  {
   "cell_type": "code",
   "execution_count": 11,
   "id": "71574ad3",
   "metadata": {},
   "outputs": [],
   "source": [
    "# Everything appears normalized except column 10\n",
    "# Let's go ahead and normalize it\n",
    "df['col_10'] = (df.col_10 - df.col_10.mean())/df.col_10.std()"
   ]
  },
  {
   "cell_type": "code",
   "execution_count": 12,
   "id": "de724f78",
   "metadata": {},
   "outputs": [
    {
     "name": "stderr",
     "output_type": "stream",
     "text": [
      "/Users/six/envs/stacked/lib/python3.8/site-packages/scipy/stats/_morestats.py:1816: UserWarning: p-value may not be accurate for N > 5000.\n",
      "  warnings.warn(\"p-value may not be accurate for N > 5000.\")\n"
     ]
    },
    {
     "data": {
      "text/plain": [
       "{'col_0': 'non-normal',\n",
       " 'col_1': 'non-normal',\n",
       " 'col_2': 'non-normal',\n",
       " 'col_3': 'non-normal',\n",
       " 'col_4': 'non-normal',\n",
       " 'col_5': 'non-normal',\n",
       " 'col_6': 'non-normal',\n",
       " 'col_7': 'non-normal',\n",
       " 'col_8': 'non-normal',\n",
       " 'col_9': 'non-normal',\n",
       " 'col_10': 'non-normal',\n",
       " 'col_11': 'non-normal',\n",
       " 'col_12': 'non-normal',\n",
       " 'col_13': 'non-normal',\n",
       " 'label': 'non-normal'}"
      ]
     },
     "execution_count": 12,
     "metadata": {},
     "output_type": "execute_result"
    }
   ],
   "source": [
    "# Shapiro-Wilk Test for statistical normality\n",
    "dict(zip(df.columns, [['non-normal', 'normal'][bool(alpha < shapiro(df[col]).pvalue)] for col in df.columns]))"
   ]
  },
  {
   "cell_type": "markdown",
   "id": "643c89b9",
   "metadata": {},
   "source": [
    "- Shapiro-Wilk test claims that none of these columns were drawn from a gaussian distribution.\n",
    "- Higher the p-value, the more likely the column sample comes from a gaussian.\n",
    "- We'll look at one more test just to make sure"
   ]
  },
  {
   "cell_type": "code",
   "execution_count": 13,
   "id": "1592d75a",
   "metadata": {},
   "outputs": [
    {
     "data": {
      "text/plain": [
       "{'col_0': 'non-normal',\n",
       " 'col_1': 'non-normal',\n",
       " 'col_2': 'non-normal',\n",
       " 'col_3': 'non-normal',\n",
       " 'col_4': 'non-normal',\n",
       " 'col_5': 'non-normal',\n",
       " 'col_6': 'non-normal',\n",
       " 'col_7': 'non-normal',\n",
       " 'col_8': 'non-normal',\n",
       " 'col_9': 'non-normal',\n",
       " 'col_10': 'non-normal',\n",
       " 'col_11': 'non-normal',\n",
       " 'col_12': 'non-normal',\n",
       " 'col_13': 'non-normal',\n",
       " 'label': 'non-normal'}"
      ]
     },
     "execution_count": 13,
     "metadata": {},
     "output_type": "execute_result"
    }
   ],
   "source": [
    "# D’Agostino’s K^2 Test (\"normaltest\" in scipy) of statistical normality\n",
    "dict(zip(df.columns, [['non-normal', 'normal'][bool(alpha < normaltest(df[col]).pvalue)] for col in df.columns]))"
   ]
  },
  {
   "cell_type": "markdown",
   "id": "2f9fd743",
   "metadata": {},
   "source": [
    "- Both tests agree that these are not normal variables\n",
    "- This will limit our approach to modeling"
   ]
  },
  {
   "cell_type": "code",
   "execution_count": 14,
   "id": "48cd5817",
   "metadata": {},
   "outputs": [],
   "source": [
    "target = df['label']\n",
    "del df['label']"
   ]
  },
  {
   "cell_type": "markdown",
   "id": "9940fc5b",
   "metadata": {},
   "source": [
    "## Data Understanding Summary\n",
    "- Dataset is long and skinny\n",
    "- Appears normalized other than column 10, so normalize it.\n",
    "- No missing values\n",
    "- No all-zero columns\n",
    "- Columns are *not* normally distributed\n",
    "- No columnar colinearity\n",
    "- Target correlations look well-formed"
   ]
  },
  {
   "cell_type": "markdown",
   "id": "bd08b3cc",
   "metadata": {},
   "source": [
    "# Outlier Detection <a class=\"anchor\" id=\"outlier-detection\"></a>\n",
    "Can you identify outliers in the dataset? What techniques do you use to identify these outliers, and how would you handle them?\n",
    "\n",
    "----------\n",
    "\n",
    "- Due to the non-normality of the data, the standard mean, stddev approach will be avoided in favor of a quantile-based approach.\n",
    "- Handle by replacing high or low outliers with their upper or lower quantile respectively."
   ]
  },
  {
   "cell_type": "code",
   "execution_count": 15,
   "id": "21bc712e",
   "metadata": {},
   "outputs": [
    {
     "data": {
      "text/plain": [
       "[('col_0', 0.5134994439, 0.9452360014899999),\n",
       " ('col_1', 0.0, 1.0),\n",
       " ('col_2', 0.633925901087379, 1.0),\n",
       " ('col_3', 0.0, 1.0),\n",
       " ('col_4', 0.0, 0.9244941075099995),\n",
       " ('col_5', 0.3943825634141313, 1.0),\n",
       " ('col_6', 0.18468812471, 1.0),\n",
       " ('col_7', 0.614496592, 0.97115236728),\n",
       " ('col_8', 0.0, 0.978920528),\n",
       " ('col_9', 0.326004505, 0.999264452),\n",
       " ('col_10', -0.8691130789384277, 3.8733211805354832),\n",
       " ('col_11', 0.0, 1.0),\n",
       " ('col_12', 0.210828195, 1.0),\n",
       " ('col_13', 0.0, 1.0)]"
      ]
     },
     "execution_count": 15,
     "metadata": {},
     "output_type": "execute_result"
    }
   ],
   "source": [
    "[(col, df[col].quantile(.01), df[col].quantile(.99)) for col in df.columns]"
   ]
  },
  {
   "cell_type": "code",
   "execution_count": 16,
   "id": "1dd44282",
   "metadata": {},
   "outputs": [
    {
     "name": "stdout",
     "output_type": "stream",
     "text": [
      "col_0 5622 # outliers\n",
      "col_1 0 # outliers\n",
      "col_2 3770 # outliers\n",
      "col_3 0 # outliers\n",
      "col_4 3827 # outliers\n",
      "col_5 3788 # outliers\n",
      "col_6 3803 # outliers\n",
      "col_7 5621 # outliers\n",
      "col_8 2811 # outliers\n",
      "col_9 5129 # outliers\n",
      "col_10 3827 # outliers\n",
      "col_11 997 # outliers\n",
      "col_12 3790 # outliers\n",
      "col_13 0 # outliers\n"
     ]
    }
   ],
   "source": [
    "# Quantile based outlier detection and handling\n",
    "low = .01\n",
    "high = .99\n",
    "dq = dict() # dictionary of quantiles\n",
    "for col in df.columns:\n",
    "    dq[(col, 'low')]  = df[col].quantile(low)\n",
    "    dq[(col, 'high')] = df[col].quantile(high)\n",
    "    # Detection\n",
    "    print(\n",
    "        col,\n",
    "        ((df[col] < dq[(col, 'low')]) | (dq[(col, 'high')] < df[col])).sum()\n",
    "        , '# outliers')\n",
    "    # Handling\n",
    "    df[col] = df[col].apply(\n",
    "        lambda x: x\n",
    "        if (dq[(col, 'low')] <= x and x<=dq[(col, 'high')]) \\\n",
    "        else (dq[(col, 'high')] if x>dq[(col, 'high')] else dq[(col, 'low')])\n",
    "    )"
   ]
  },
  {
   "cell_type": "code",
   "execution_count": 17,
   "id": "5c3c635e",
   "metadata": {},
   "outputs": [
    {
     "name": "stdout",
     "output_type": "stream",
     "text": [
      "col_0 0 # outliers\n",
      "col_1 0 # outliers\n",
      "col_2 0 # outliers\n",
      "col_3 0 # outliers\n",
      "col_4 0 # outliers\n",
      "col_5 0 # outliers\n",
      "col_6 0 # outliers\n",
      "col_7 0 # outliers\n",
      "col_8 0 # outliers\n",
      "col_9 0 # outliers\n",
      "col_10 0 # outliers\n",
      "col_11 0 # outliers\n",
      "col_12 0 # outliers\n",
      "col_13 0 # outliers\n"
     ]
    }
   ],
   "source": [
    "# Rerun detection to verify outliers have been handled\n",
    "for col in df.columns:\n",
    "    print(\n",
    "        col,\n",
    "        ((df[col] < dq[(col, 'low')]) | (dq[(col, 'high')] < df[col])).sum()\n",
    "        , '# outliers')"
   ]
  },
  {
   "cell_type": "code",
   "execution_count": 18,
   "id": "7b1c0f24",
   "metadata": {},
   "outputs": [
    {
     "data": {
      "image/png": "[encoded data removed]",
      "text/plain": [
       "<Figure size 1080x720 with 16 Axes>"
      ]
     },
     "metadata": {
      "needs_background": "light"
     },
     "output_type": "display_data"
    }
   ],
   "source": [
    "df.hist(figsize=(15,10));"
   ]
  },
  {
   "cell_type": "markdown",
   "id": "02cd3837",
   "metadata": {},
   "source": [
    "## Outlier Detection Summary\n",
    "- Removing the outliers definitely helps unsquash the distributions"
   ]
  },
  {
   "cell_type": "code",
   "execution_count": null,
   "id": "7b9d132b",
   "metadata": {},
   "outputs": [],
   "source": []
  },
  {
   "cell_type": "code",
   "execution_count": null,
   "id": "4822bd66",
   "metadata": {},
   "outputs": [],
   "source": []
  },
  {
   "cell_type": "markdown",
   "id": "d9099a0f",
   "metadata": {},
   "source": [
    "# Feature Importance <a class=\"anchor\" id=\"feature-importance\"></a>\n",
    "Identify the essential features in the dataset. What makes these features significant? How do they influence the outcome variable?"
   ]
  },
  {
   "cell_type": "code",
   "execution_count": 19,
   "id": "40ee0bdb",
   "metadata": {},
   "outputs": [
    {
     "data": {
      "text/plain": [
       "{'matrix rank:': 14, 'num cols:': 14, 'superflous_cols:': 0}"
      ]
     },
     "execution_count": 19,
     "metadata": {},
     "output_type": "execute_result"
    }
   ],
   "source": [
    "rank = np.linalg.matrix_rank(df)\n",
    "{'matrix rank:':rank,\n",
    " 'num cols:':df.shape[1],\n",
    " 'superflous_cols:':df.shape[1] - rank}"
   ]
  },
  {
   "cell_type": "code",
   "execution_count": 20,
   "id": "992e7366",
   "metadata": {},
   "outputs": [
    {
     "data": {
      "text/plain": [
       "col_6     0.419001\n",
       "col_12    0.406758\n",
       "col_3     0.280728\n",
       "col_2     0.245197\n",
       "col_9     0.212937\n",
       "col_0     0.197812\n",
       "col_1     0.178260\n",
       "col_11    0.155775\n",
       "col_8     0.110973\n",
       "col_5     0.083907\n",
       "col_4     0.043136\n",
       "col_13   -0.031404\n",
       "col_10   -0.036080\n",
       "col_7    -0.080593\n",
       "dtype: float64"
      ]
     },
     "execution_count": 20,
     "metadata": {},
     "output_type": "execute_result"
    }
   ],
   "source": [
    "# Recall our correlation values\n",
    "df.corrwith(target).sort_values(ascending=False)"
   ]
  },
  {
   "cell_type": "code",
   "execution_count": 21,
   "id": "ca38a074",
   "metadata": {},
   "outputs": [
    {
     "data": {
      "text/plain": [
       "col_6     0.412108\n",
       "col_12    0.401256\n",
       "col_3     0.292964\n",
       "col_2     0.266255\n",
       "col_9     0.224945\n",
       "col_0     0.215502\n",
       "col_1     0.178260\n",
       "col_11    0.155689\n",
       "col_8     0.111913\n",
       "col_5     0.095393\n",
       "col_4     0.039003\n",
       "col_10   -0.053015\n",
       "col_13   -0.056589\n",
       "col_7    -0.070437\n",
       "dtype: float64"
      ]
     },
     "execution_count": 21,
     "metadata": {},
     "output_type": "execute_result"
    }
   ],
   "source": [
    "# Recall our correlation values\n",
    "df.corrwith(target, method='spearman').sort_values(ascending=False)"
   ]
  },
  {
   "cell_type": "code",
   "execution_count": 22,
   "id": "9e0c713b",
   "metadata": {},
   "outputs": [
    {
     "name": "stderr",
     "output_type": "stream",
     "text": [
      "/Users/six/envs/stacked/lib/python3.8/site-packages/scipy/stats/_stats_py.py:5283: RuntimeWarning: overflow encountered in long_scalars\n",
      "  (2 * xtie * ytie) / m + x0 * y0 / (9 * m * (size - 2)))\n"
     ]
    },
    {
     "data": {
      "text/plain": [
       "col_6     0.342247\n",
       "col_12    0.334438\n",
       "col_3     0.288697\n",
       "col_2     0.217659\n",
       "col_9     0.184232\n",
       "col_1     0.178260\n",
       "col_0     0.175975\n",
       "col_11    0.127260\n",
       "col_8     0.091462\n",
       "col_5     0.077902\n",
       "col_4     0.035654\n",
       "col_10   -0.043494\n",
       "col_13   -0.054103\n",
       "col_7    -0.057519\n",
       "dtype: float64"
      ]
     },
     "execution_count": 22,
     "metadata": {},
     "output_type": "execute_result"
    }
   ],
   "source": [
    "# Recall our correlation values\n",
    "df.corrwith(target, method='kendall').sort_values(ascending=False)"
   ]
  },
  {
   "cell_type": "code",
   "execution_count": 23,
   "id": "5d75ddad",
   "metadata": {},
   "outputs": [],
   "source": [
    "import sklearn.feature_selection as fs"
   ]
  },
  {
   "cell_type": "code",
   "execution_count": 24,
   "id": "1cd07191",
   "metadata": {},
   "outputs": [
    {
     "data": {
      "text/html": [
       "<div>\n",
       "<style scoped>\n",
       "    .dataframe tbody tr th:only-of-type {\n",
       "        vertical-align: middle;\n",
       "    }\n",
       "\n",
       "    .dataframe tbody tr th {\n",
       "        vertical-align: top;\n",
       "    }\n",
       "\n",
       "    .dataframe thead th {\n",
       "        text-align: right;\n",
       "    }\n",
       "</style>\n",
       "<table border=\"1\" class=\"dataframe\">\n",
       "  <thead>\n",
       "    <tr style=\"text-align: right;\">\n",
       "      <th></th>\n",
       "      <th>feature</th>\n",
       "      <th>classif_f_score</th>\n",
       "      <th>classif_f_p_values</th>\n",
       "      <th>classif_f_sig?</th>\n",
       "    </tr>\n",
       "  </thead>\n",
       "  <tbody>\n",
       "    <tr>\n",
       "      <th>0</th>\n",
       "      <td>col_0</td>\n",
       "      <td>11443.319807</td>\n",
       "      <td>0.000000e+00</td>\n",
       "      <td>True</td>\n",
       "    </tr>\n",
       "    <tr>\n",
       "      <th>1</th>\n",
       "      <td>col_1</td>\n",
       "      <td>9222.351806</td>\n",
       "      <td>0.000000e+00</td>\n",
       "      <td>True</td>\n",
       "    </tr>\n",
       "    <tr>\n",
       "      <th>2</th>\n",
       "      <td>col_2</td>\n",
       "      <td>17974.985000</td>\n",
       "      <td>0.000000e+00</td>\n",
       "      <td>True</td>\n",
       "    </tr>\n",
       "    <tr>\n",
       "      <th>3</th>\n",
       "      <td>col_3</td>\n",
       "      <td>24039.879856</td>\n",
       "      <td>0.000000e+00</td>\n",
       "      <td>True</td>\n",
       "    </tr>\n",
       "    <tr>\n",
       "      <th>4</th>\n",
       "      <td>col_4</td>\n",
       "      <td>523.849098</td>\n",
       "      <td>7.860091e-116</td>\n",
       "      <td>True</td>\n",
       "    </tr>\n",
       "    <tr>\n",
       "      <th>5</th>\n",
       "      <td>col_5</td>\n",
       "      <td>1992.393100</td>\n",
       "      <td>0.000000e+00</td>\n",
       "      <td>True</td>\n",
       "    </tr>\n",
       "    <tr>\n",
       "      <th>6</th>\n",
       "      <td>col_6</td>\n",
       "      <td>59838.442237</td>\n",
       "      <td>0.000000e+00</td>\n",
       "      <td>True</td>\n",
       "    </tr>\n",
       "    <tr>\n",
       "      <th>7</th>\n",
       "      <td>col_7</td>\n",
       "      <td>1837.123373</td>\n",
       "      <td>0.000000e+00</td>\n",
       "      <td>True</td>\n",
       "    </tr>\n",
       "    <tr>\n",
       "      <th>8</th>\n",
       "      <td>col_8</td>\n",
       "      <td>3503.718232</td>\n",
       "      <td>0.000000e+00</td>\n",
       "      <td>True</td>\n",
       "    </tr>\n",
       "    <tr>\n",
       "      <th>9</th>\n",
       "      <td>col_9</td>\n",
       "      <td>13346.425110</td>\n",
       "      <td>0.000000e+00</td>\n",
       "      <td>True</td>\n",
       "    </tr>\n",
       "    <tr>\n",
       "      <th>10</th>\n",
       "      <td>col_10</td>\n",
       "      <td>366.284154</td>\n",
       "      <td>1.359363e-81</td>\n",
       "      <td>True</td>\n",
       "    </tr>\n",
       "    <tr>\n",
       "      <th>11</th>\n",
       "      <td>col_11</td>\n",
       "      <td>6988.347142</td>\n",
       "      <td>0.000000e+00</td>\n",
       "      <td>True</td>\n",
       "    </tr>\n",
       "    <tr>\n",
       "      <th>12</th>\n",
       "      <td>col_12</td>\n",
       "      <td>55709.493527</td>\n",
       "      <td>0.000000e+00</td>\n",
       "      <td>True</td>\n",
       "    </tr>\n",
       "    <tr>\n",
       "      <th>13</th>\n",
       "      <td>col_13</td>\n",
       "      <td>277.409680</td>\n",
       "      <td>2.951275e-62</td>\n",
       "      <td>True</td>\n",
       "    </tr>\n",
       "  </tbody>\n",
       "</table>\n",
       "</div>"
      ],
      "text/plain": [
       "   feature  classif_f_score  classif_f_p_values  classif_f_sig?\n",
       "0    col_0     11443.319807        0.000000e+00            True\n",
       "1    col_1      9222.351806        0.000000e+00            True\n",
       "2    col_2     17974.985000        0.000000e+00            True\n",
       "3    col_3     24039.879856        0.000000e+00            True\n",
       "4    col_4       523.849098       7.860091e-116            True\n",
       "5    col_5      1992.393100        0.000000e+00            True\n",
       "6    col_6     59838.442237        0.000000e+00            True\n",
       "7    col_7      1837.123373        0.000000e+00            True\n",
       "8    col_8      3503.718232        0.000000e+00            True\n",
       "9    col_9     13346.425110        0.000000e+00            True\n",
       "10  col_10       366.284154        1.359363e-81            True\n",
       "11  col_11      6988.347142        0.000000e+00            True\n",
       "12  col_12     55709.493527        0.000000e+00            True\n",
       "13  col_13       277.409680        2.951275e-62            True"
      ]
     },
     "execution_count": 24,
     "metadata": {},
     "output_type": "execute_result"
    }
   ],
   "source": [
    "# Assign anova F score for the discrete target variable\n",
    "\n",
    "f_classif_mdl = fs.f_classif(df, target)\n",
    "\n",
    "scores_df = pd.DataFrame(df.columns, columns = ['feature'])\n",
    "scores_df['classif_f_score'] = f_classif_mdl[0] \n",
    "scores_df['classif_f_p_values'] = f_classif_mdl[1]\n",
    "scores_df['classif_f_sig?'] = scores_df['classif_f_p_values']<=0.05\n",
    "\n",
    "scores_df"
   ]
  },
  {
   "cell_type": "code",
   "execution_count": 25,
   "id": "5a193741",
   "metadata": {},
   "outputs": [
    {
     "data": {
      "text/html": [
       "<div>\n",
       "<style scoped>\n",
       "    .dataframe tbody tr th:only-of-type {\n",
       "        vertical-align: middle;\n",
       "    }\n",
       "\n",
       "    .dataframe tbody tr th {\n",
       "        vertical-align: top;\n",
       "    }\n",
       "\n",
       "    .dataframe thead th {\n",
       "        text-align: right;\n",
       "    }\n",
       "</style>\n",
       "<table border=\"1\" class=\"dataframe\">\n",
       "  <thead>\n",
       "    <tr style=\"text-align: right;\">\n",
       "      <th></th>\n",
       "      <th>feature</th>\n",
       "      <th>chi2_score</th>\n",
       "      <th>chi2_p_values</th>\n",
       "      <th>chi2_sig?</th>\n",
       "    </tr>\n",
       "  </thead>\n",
       "  <tbody>\n",
       "    <tr>\n",
       "      <th>0</th>\n",
       "      <td>col_0</td>\n",
       "      <td>100.019329</td>\n",
       "      <td>1.509170e-23</td>\n",
       "      <td>True</td>\n",
       "    </tr>\n",
       "    <tr>\n",
       "      <th>1</th>\n",
       "      <td>col_1</td>\n",
       "      <td>8161.636722</td>\n",
       "      <td>0.000000e+00</td>\n",
       "      <td>True</td>\n",
       "    </tr>\n",
       "    <tr>\n",
       "      <th>2</th>\n",
       "      <td>col_2</td>\n",
       "      <td>124.164361</td>\n",
       "      <td>7.754669e-29</td>\n",
       "      <td>True</td>\n",
       "    </tr>\n",
       "    <tr>\n",
       "      <th>3</th>\n",
       "      <td>col_3</td>\n",
       "      <td>17504.095452</td>\n",
       "      <td>0.000000e+00</td>\n",
       "      <td>True</td>\n",
       "    </tr>\n",
       "    <tr>\n",
       "      <th>4</th>\n",
       "      <td>col_4</td>\n",
       "      <td>226.318389</td>\n",
       "      <td>3.786764e-51</td>\n",
       "      <td>True</td>\n",
       "    </tr>\n",
       "    <tr>\n",
       "      <th>5</th>\n",
       "      <td>col_5</td>\n",
       "      <td>38.069708</td>\n",
       "      <td>6.826172e-10</td>\n",
       "      <td>True</td>\n",
       "    </tr>\n",
       "    <tr>\n",
       "      <th>6</th>\n",
       "      <td>col_6</td>\n",
       "      <td>4219.670392</td>\n",
       "      <td>0.000000e+00</td>\n",
       "      <td>True</td>\n",
       "    </tr>\n",
       "    <tr>\n",
       "      <th>7</th>\n",
       "      <td>col_7</td>\n",
       "      <td>9.389556</td>\n",
       "      <td>2.182250e-03</td>\n",
       "      <td>True</td>\n",
       "    </tr>\n",
       "    <tr>\n",
       "      <th>8</th>\n",
       "      <td>col_8</td>\n",
       "      <td>144.368366</td>\n",
       "      <td>2.951575e-33</td>\n",
       "      <td>True</td>\n",
       "    </tr>\n",
       "    <tr>\n",
       "      <th>9</th>\n",
       "      <td>col_9</td>\n",
       "      <td>402.051546</td>\n",
       "      <td>1.969435e-89</td>\n",
       "      <td>True</td>\n",
       "    </tr>\n",
       "    <tr>\n",
       "      <th>10</th>\n",
       "      <td>col_10</td>\n",
       "      <td>319.635132</td>\n",
       "      <td>1.739312e-71</td>\n",
       "      <td>True</td>\n",
       "    </tr>\n",
       "    <tr>\n",
       "      <th>11</th>\n",
       "      <td>col_11</td>\n",
       "      <td>386.461879</td>\n",
       "      <td>4.876851e-86</td>\n",
       "      <td>True</td>\n",
       "    </tr>\n",
       "    <tr>\n",
       "      <th>12</th>\n",
       "      <td>col_12</td>\n",
       "      <td>4122.788194</td>\n",
       "      <td>0.000000e+00</td>\n",
       "      <td>True</td>\n",
       "    </tr>\n",
       "    <tr>\n",
       "      <th>13</th>\n",
       "      <td>col_13</td>\n",
       "      <td>16.956184</td>\n",
       "      <td>3.825251e-05</td>\n",
       "      <td>True</td>\n",
       "    </tr>\n",
       "  </tbody>\n",
       "</table>\n",
       "</div>"
      ],
      "text/plain": [
       "   feature    chi2_score  chi2_p_values  chi2_sig?\n",
       "0    col_0    100.019329   1.509170e-23       True\n",
       "1    col_1   8161.636722   0.000000e+00       True\n",
       "2    col_2    124.164361   7.754669e-29       True\n",
       "3    col_3  17504.095452   0.000000e+00       True\n",
       "4    col_4    226.318389   3.786764e-51       True\n",
       "5    col_5     38.069708   6.826172e-10       True\n",
       "6    col_6   4219.670392   0.000000e+00       True\n",
       "7    col_7      9.389556   2.182250e-03       True\n",
       "8    col_8    144.368366   2.951575e-33       True\n",
       "9    col_9    402.051546   1.969435e-89       True\n",
       "10  col_10    319.635132   1.739312e-71       True\n",
       "11  col_11    386.461879   4.876851e-86       True\n",
       "12  col_12   4122.788194   0.000000e+00       True\n",
       "13  col_13     16.956184   3.825251e-05       True"
      ]
     },
     "execution_count": 25,
     "metadata": {},
     "output_type": "execute_result"
    }
   ],
   "source": [
    "# Chi^2 can't handle negative values\n",
    "# df.min() # uncomment to check that only column 10 has a negative min\n",
    "min10 = df.col_10.min()\n",
    "df['col_10'] = df.col_10 - min10\n",
    "\n",
    "chi2_mdl = fs.chi2(df, target)\n",
    "\n",
    "scores_df = pd.DataFrame(df.columns, columns = ['feature'])\n",
    "scores_df['chi2_score'] = chi2_mdl[0]\n",
    "scores_df['chi2_p_values'] = chi2_mdl[1]\n",
    "scores_df['chi2_sig?'] = scores_df['chi2_p_values']<=0.05\n",
    "\n",
    "scores_df"
   ]
  },
  {
   "cell_type": "code",
   "execution_count": 26,
   "id": "3cb23636",
   "metadata": {},
   "outputs": [],
   "source": [
    "# reduce column 10 back to original state\n",
    "df['col_10'] = df.col_10 + min10"
   ]
  },
  {
   "cell_type": "markdown",
   "id": "4f403e32",
   "metadata": {},
   "source": [
    "## Discretized Target Means\n",
    "- In this section we will analyze the difference in feature means when label is 0 vs 1."
   ]
  },
  {
   "cell_type": "code",
   "execution_count": 27,
   "id": "825e826e",
   "metadata": {},
   "outputs": [
    {
     "data": {
      "text/plain": [
       "(0.4998398599308195, 0.5001601400691805)"
      ]
     },
     "execution_count": 27,
     "metadata": {},
     "output_type": "execute_result"
    }
   ],
   "source": [
    "ix0 = (target==0) # index for binary target classes\n",
    "ix1 = ~ix0\n",
    "np.mean(ix0), np.mean(ix1)"
   ]
  },
  {
   "cell_type": "markdown",
   "id": "1765545e",
   "metadata": {},
   "source": [
    "- Target variable 'label' is perfectly balanced."
   ]
  },
  {
   "cell_type": "code",
   "execution_count": 28,
   "id": "0545ae45",
   "metadata": {},
   "outputs": [
    {
     "data": {
      "text/html": [
       "<div>\n",
       "<style scoped>\n",
       "    .dataframe tbody tr th:only-of-type {\n",
       "        vertical-align: middle;\n",
       "    }\n",
       "\n",
       "    .dataframe tbody tr th {\n",
       "        vertical-align: top;\n",
       "    }\n",
       "\n",
       "    .dataframe thead th {\n",
       "        text-align: right;\n",
       "    }\n",
       "</style>\n",
       "<table border=\"1\" class=\"dataframe\">\n",
       "  <thead>\n",
       "    <tr style=\"text-align: right;\">\n",
       "      <th></th>\n",
       "      <th>col_0</th>\n",
       "      <th>col_1</th>\n",
       "      <th>col_2</th>\n",
       "      <th>col_3</th>\n",
       "      <th>col_4</th>\n",
       "      <th>col_5</th>\n",
       "      <th>col_6</th>\n",
       "      <th>col_7</th>\n",
       "      <th>col_8</th>\n",
       "      <th>col_9</th>\n",
       "      <th>col_10</th>\n",
       "      <th>col_11</th>\n",
       "      <th>col_12</th>\n",
       "      <th>col_13</th>\n",
       "    </tr>\n",
       "    <tr>\n",
       "      <th>label</th>\n",
       "      <th></th>\n",
       "      <th></th>\n",
       "      <th></th>\n",
       "      <th></th>\n",
       "      <th></th>\n",
       "      <th></th>\n",
       "      <th></th>\n",
       "      <th></th>\n",
       "      <th></th>\n",
       "      <th></th>\n",
       "      <th></th>\n",
       "      <th></th>\n",
       "      <th></th>\n",
       "      <th></th>\n",
       "    </tr>\n",
       "  </thead>\n",
       "  <tbody>\n",
       "    <tr>\n",
       "      <th>False</th>\n",
       "      <td>0.769718</td>\n",
       "      <td>0.035990</td>\n",
       "      <td>0.872862</td>\n",
       "      <td>0.041639</td>\n",
       "      <td>0.184505</td>\n",
       "      <td>0.763796</td>\n",
       "      <td>0.553865</td>\n",
       "      <td>0.890713</td>\n",
       "      <td>0.840219</td>\n",
       "      <td>0.827246</td>\n",
       "      <td>0.017308</td>\n",
       "      <td>0.725601</td>\n",
       "      <td>0.561398</td>\n",
       "      <td>0.921923</td>\n",
       "    </tr>\n",
       "    <tr>\n",
       "      <th>True</th>\n",
       "      <td>0.803180</td>\n",
       "      <td>0.135933</td>\n",
       "      <td>0.912584</td>\n",
       "      <td>0.223356</td>\n",
       "      <td>0.209705</td>\n",
       "      <td>0.784277</td>\n",
       "      <td>0.751900</td>\n",
       "      <td>0.879835</td>\n",
       "      <td>0.882290</td>\n",
       "      <td>0.897499</td>\n",
       "      <td>-0.045071</td>\n",
       "      <td>0.790171</td>\n",
       "      <td>0.758179</td>\n",
       "      <td>0.907066</td>\n",
       "    </tr>\n",
       "  </tbody>\n",
       "</table>\n",
       "</div>"
      ],
      "text/plain": [
       "          col_0     col_1     col_2     col_3     col_4     col_5     col_6  \\\n",
       "label                                                                         \n",
       "False  0.769718  0.035990  0.872862  0.041639  0.184505  0.763796  0.553865   \n",
       "True   0.803180  0.135933  0.912584  0.223356  0.209705  0.784277  0.751900   \n",
       "\n",
       "          col_7     col_8     col_9    col_10    col_11    col_12    col_13  \n",
       "label                                                                        \n",
       "False  0.890713  0.840219  0.827246  0.017308  0.725601  0.561398  0.921923  \n",
       "True   0.879835  0.882290  0.897499 -0.045071  0.790171  0.758179  0.907066  "
      ]
     },
     "execution_count": 28,
     "metadata": {},
     "output_type": "execute_result"
    }
   ],
   "source": [
    "# Means of all features when label == 0 (False) and label == 1 (True)\n",
    "df.groupby(ix1).mean()"
   ]
  },
  {
   "cell_type": "code",
   "execution_count": 113,
   "id": "0fb41b99",
   "metadata": {},
   "outputs": [
    {
     "data": {
      "image/png": "[encoded data removed]",
      "text/plain": [
       "<Figure size 1080x504 with 1 Axes>"
      ]
     },
     "metadata": {
      "needs_background": "light"
     },
     "output_type": "display_data"
    }
   ],
   "source": [
    "df.groupby(ix1).mean().transpose().plot(kind='bar', figsize=(15,7));"
   ]
  },
  {
   "cell_type": "code",
   "execution_count": 30,
   "id": "55bf8809",
   "metadata": {},
   "outputs": [
    {
     "data": {
      "image/png": "[encoded data removed]",
      "text/plain": [
       "<Figure size 1080x540 with 1 Axes>"
      ]
     },
     "metadata": {
      "needs_background": "light"
     },
     "output_type": "display_data"
    }
   ],
   "source": [
    "y_0_means = df.loc[ix0].mean()\n",
    "y_1_means = df.loc[ix1].mean()\n",
    "\n",
    "mean_diffs = (y_1_means - y_0_means).abs()\n",
    "mean_diffs = mean_diffs.sort_values()\n",
    "\n",
    "plt.figure(figsize=(15,7.5));\n",
    "plt.barh(range(len(mean_diffs)), mean_diffs, tick_label=mean_diffs.index);\n",
    "plt.title('Label mean difference when split by each feature.');"
   ]
  },
  {
   "cell_type": "code",
   "execution_count": 31,
   "id": "056c94f9",
   "metadata": {},
   "outputs": [
    {
     "data": {
      "image/png": "[encoded data removed]",
      "text/plain": [
       "<Figure size 1080x540 with 1 Axes>"
      ]
     },
     "metadata": {
      "needs_background": "light"
     },
     "output_type": "display_data"
    }
   ],
   "source": [
    "scales = 10**np.mean([np.log10(y_0_means.abs()), np.log10(y_1_means.abs())], axis=0)\n",
    "mean_diffs = (y_1_means - y_0_means).abs()/scales\n",
    "mean_diffs = mean_diffs.sort_values()\n",
    "\n",
    "plt.figure(figsize=(15,7.5));\n",
    "plt.barh(range(len(mean_diffs)), mean_diffs, tick_label=mean_diffs.index);\n",
    "plt.title('% Label mean difference when split by each feature. Variable magnitude is accounted for.');"
   ]
  },
  {
   "cell_type": "markdown",
   "id": "f9e98e82",
   "metadata": {},
   "source": [
    "## Feature Selection Summary\n",
    "- Identify the essential features in the dataset.\n",
    "    - Top correlated and feature mean splits by target variable give a good indication, but this is ultimately decided by the top-performing models.\n",
    "- What makes these features significant?\n",
    "    - The rank of the matrix equals the number of features, meaning they're each distinct from one another.\n",
    "    - Discrete versions of the Oneway Anova F and Chi^2 tests agree they are each significant relative to the target variable.\n",
    "- How do they influence the outcome variable?\n",
    "    - We saw the difference in feature means when the label == 0 vs label == 1."
   ]
  },
  {
   "cell_type": "markdown",
   "id": "563b8937",
   "metadata": {},
   "source": [
    "# Model Building and Evaluation <a class=\"anchor\" id=\"model-building\"></a>\n",
    "Build a predictive model using the dataset. Which model did you choose and why? How well does your model perform?"
   ]
  },
  {
   "cell_type": "code",
   "execution_count": 32,
   "id": "7f436f24",
   "metadata": {},
   "outputs": [],
   "source": [
    "# Split data into training and test. 80/20 split\n",
    "df_train, df_test, y_train, y_test = train_test_split(df, target, test_size=.20, shuffle=True)"
   ]
  },
  {
   "cell_type": "markdown",
   "id": "63727751",
   "metadata": {},
   "source": [
    "## Model Selection\n",
    "- As the data is non-normal, we will eschew models which rest upon assumptions of normality.\n",
    "- As indicated in the feature selection section, the target classes present nice distributional separation (\"splits\") in the independent variables.\n",
    "- Tree models both benefit from good splits and don't assume feature normality.\n",
    "- Specifically we'll be comparing Random Forests vs Gradient Boosted Trees.\n",
    "\n",
    "## Model Building\n",
    "### In this section we'll look at:\n",
    "- Baseline tree model performance\n",
    "- Feature Engineering: feature convolvement improves model performance, we'll use this augmented dataset\n",
    "- Model Selection: Choose between tree models\n",
    "- Hyperparameter Tuning\n",
    "- Model Evaluation"
   ]
  },
  {
   "cell_type": "markdown",
   "id": "68c2a76a",
   "metadata": {},
   "source": [
    "### Baseline model performance"
   ]
  },
  {
   "cell_type": "code",
   "execution_count": 104,
   "id": "beaad3ae",
   "metadata": {},
   "outputs": [],
   "source": [
    "rfc_model = RandomForestClassifier(n_jobs=-1) # TODO hyperparams"
   ]
  },
  {
   "cell_type": "code",
   "execution_count": 34,
   "id": "3a7be49f",
   "metadata": {},
   "outputs": [
    {
     "name": "stdout",
     "output_type": "stream",
     "text": [
      "CPU times: user 2min 38s, sys: 1.73 s, total: 2min 39s\n",
      "Wall time: 43.4 s\n"
     ]
    },
    {
     "data": {
      "text/html": [
       "<style>#sk-container-id-1 {color: black;background-color: white;}#sk-container-id-1 pre{padding: 0;}#sk-container-id-1 div.sk-toggleable {background-color: white;}#sk-container-id-1 label.sk-toggleable__label {cursor: pointer;display: block;width: 100%;margin-bottom: 0;padding: 0.3em;box-sizing: border-box;text-align: center;}#sk-container-id-1 label.sk-toggleable__label-arrow:before {content: \"▸\";float: left;margin-right: 0.25em;color: #696969;}#sk-container-id-1 label.sk-toggleable__label-arrow:hover:before {color: black;}#sk-container-id-1 div.sk-estimator:hover label.sk-toggleable__label-arrow:before {color: black;}#sk-container-id-1 div.sk-toggleable__content {max-height: 0;max-width: 0;overflow: hidden;text-align: left;background-color: #f0f8ff;}#sk-container-id-1 div.sk-toggleable__content pre {margin: 0.2em;color: black;border-radius: 0.25em;background-color: #f0f8ff;}#sk-container-id-1 input.sk-toggleable__control:checked~div.sk-toggleable__content {max-height: 200px;max-width: 100%;overflow: auto;}#sk-container-id-1 input.sk-toggleable__control:checked~label.sk-toggleable__label-arrow:before {content: \"▾\";}#sk-container-id-1 div.sk-estimator input.sk-toggleable__control:checked~label.sk-toggleable__label {background-color: #d4ebff;}#sk-container-id-1 div.sk-label input.sk-toggleable__control:checked~label.sk-toggleable__label {background-color: #d4ebff;}#sk-container-id-1 input.sk-hidden--visually {border: 0;clip: rect(1px 1px 1px 1px);clip: rect(1px, 1px, 1px, 1px);height: 1px;margin: -1px;overflow: hidden;padding: 0;position: absolute;width: 1px;}#sk-container-id-1 div.sk-estimator {font-family: monospace;background-color: #f0f8ff;border: 1px dotted black;border-radius: 0.25em;box-sizing: border-box;margin-bottom: 0.5em;}#sk-container-id-1 div.sk-estimator:hover {background-color: #d4ebff;}#sk-container-id-1 div.sk-parallel-item::after {content: \"\";width: 100%;border-bottom: 1px solid gray;flex-grow: 1;}#sk-container-id-1 div.sk-label:hover label.sk-toggleable__label {background-color: #d4ebff;}#sk-container-id-1 div.sk-serial::before {content: \"\";position: absolute;border-left: 1px solid gray;box-sizing: border-box;top: 0;bottom: 0;left: 50%;z-index: 0;}#sk-container-id-1 div.sk-serial {display: flex;flex-direction: column;align-items: center;background-color: white;padding-right: 0.2em;padding-left: 0.2em;position: relative;}#sk-container-id-1 div.sk-item {position: relative;z-index: 1;}#sk-container-id-1 div.sk-parallel {display: flex;align-items: stretch;justify-content: center;background-color: white;position: relative;}#sk-container-id-1 div.sk-item::before, #sk-container-id-1 div.sk-parallel-item::before {content: \"\";position: absolute;border-left: 1px solid gray;box-sizing: border-box;top: 0;bottom: 0;left: 50%;z-index: -1;}#sk-container-id-1 div.sk-parallel-item {display: flex;flex-direction: column;z-index: 1;position: relative;background-color: white;}#sk-container-id-1 div.sk-parallel-item:first-child::after {align-self: flex-end;width: 50%;}#sk-container-id-1 div.sk-parallel-item:last-child::after {align-self: flex-start;width: 50%;}#sk-container-id-1 div.sk-parallel-item:only-child::after {width: 0;}#sk-container-id-1 div.sk-dashed-wrapped {border: 1px dashed gray;margin: 0 0.4em 0.5em 0.4em;box-sizing: border-box;padding-bottom: 0.4em;background-color: white;}#sk-container-id-1 div.sk-label label {font-family: monospace;font-weight: bold;display: inline-block;line-height: 1.2em;}#sk-container-id-1 div.sk-label-container {text-align: center;}#sk-container-id-1 div.sk-container {/* jupyter's `normalize.less` sets `[hidden] { display: none; }` but bootstrap.min.css set `[hidden] { display: none !important; }` so we also need the `!important` here to be able to override the default hidden behavior on the sphinx rendered scikit-learn.org. See: https://github.com/scikit-learn/scikit-learn/issues/21755 */display: inline-block !important;position: relative;}#sk-container-id-1 div.sk-text-repr-fallback {display: none;}</style><div id=\"sk-container-id-1\" class=\"sk-top-container\"><div class=\"sk-text-repr-fallback\"><pre>RandomForestClassifier(n_jobs=-1)</pre><b>In a Jupyter environment, please rerun this cell to show the HTML representation or trust the notebook. <br />On GitHub, the HTML representation is unable to render, please try loading this page with nbviewer.org.</b></div><div class=\"sk-container\" hidden><div class=\"sk-item\"><div class=\"sk-estimator sk-toggleable\"><input class=\"sk-toggleable__control sk-hidden--visually\" id=\"sk-estimator-id-1\" type=\"checkbox\" checked><label for=\"sk-estimator-id-1\" class=\"sk-toggleable__label sk-toggleable__label-arrow\">RandomForestClassifier</label><div class=\"sk-toggleable__content\"><pre>RandomForestClassifier(n_jobs=-1)</pre></div></div></div></div></div>"
      ],
      "text/plain": [
       "RandomForestClassifier(n_jobs=-1)"
      ]
     },
     "execution_count": 34,
     "metadata": {},
     "output_type": "execute_result"
    }
   ],
   "source": [
    "%%time\n",
    "rfc_model.fit(df_train, y_train)"
   ]
  },
  {
   "cell_type": "code",
   "execution_count": 35,
   "id": "aa49893b",
   "metadata": {},
   "outputs": [
    {
     "data": {
      "text/plain": [
       "0.73"
      ]
     },
     "execution_count": 35,
     "metadata": {},
     "output_type": "execute_result"
    }
   ],
   "source": [
    "# Model r^2 Score\n",
    "round(rfc_model.score(df_test, y_test), 3)\n",
    "\n",
    "## Baseline: .730"
   ]
  },
  {
   "cell_type": "code",
   "execution_count": 102,
   "id": "bb80db07",
   "metadata": {},
   "outputs": [],
   "source": [
    "N=10_000"
   ]
  },
  {
   "cell_type": "code",
   "execution_count": 105,
   "id": "8daccb7f",
   "metadata": {},
   "outputs": [
    {
     "name": "stdout",
     "output_type": "stream",
     "text": [
      "CPU times: user 4.92 s, sys: 97.7 ms, total: 5.01 s\n",
      "Wall time: 1.56 s\n"
     ]
    },
    {
     "data": {
      "text/plain": [
       "0.709"
      ]
     },
     "execution_count": 105,
     "metadata": {},
     "output_type": "execute_result"
    }
   ],
   "source": [
    "%%time\n",
    "rfc_model.fit(df_train[:N], y_train[:N])\n",
    "round(rfc_model.score(df_test, y_test), 3)"
   ]
  },
  {
   "cell_type": "markdown",
   "id": "61cb7af4",
   "metadata": {},
   "source": [
    "# Feature Engineering <a class=\"anchor\" id=\"feature-engineering\"></a>\n",
    "How would you create new features from the existing ones to better capture the underlying patterns in the data?\n",
    "- Convolving all 14 features with one another will yield 91 features\n",
    "- We'll make a second dataset with less rows, and compare it to the original (scaled-down) dataset."
   ]
  },
  {
   "cell_type": "code",
   "execution_count": 37,
   "id": "debb1497",
   "metadata": {},
   "outputs": [
    {
     "data": {
      "text/plain": [
       "14"
      ]
     },
     "execution_count": 37,
     "metadata": {},
     "output_type": "execute_result"
    }
   ],
   "source": [
    "len(df.columns)"
   ]
  },
  {
   "cell_type": "code",
   "execution_count": 38,
   "id": "7756f697",
   "metadata": {},
   "outputs": [
    {
     "data": {
      "text/plain": [
       "105.0"
      ]
     },
     "execution_count": 38,
     "metadata": {},
     "output_type": "execute_result"
    }
   ],
   "source": [
    "# 15 choose 2 + original 15 features\n",
    "import scipy as sp\n",
    "sp.special.comb(14, 2) + 14"
   ]
  },
  {
   "cell_type": "code",
   "execution_count": 39,
   "id": "c6e0936e",
   "metadata": {},
   "outputs": [],
   "source": [
    "from sklearn.preprocessing import PolynomialFeatures\n",
    "poly_fs = PolynomialFeatures(degree=2, interaction_only=False, include_bias=False)\n",
    "N = 10_000\n",
    "# df train \"engineered\"\n",
    "df_train_eng = poly_fs.fit_transform(df_train[:100_000])\n",
    "df_train_eng = pd.DataFrame(df_train_eng, columns=poly_fs.get_feature_names_out()) # Reformat"
   ]
  },
  {
   "cell_type": "code",
   "execution_count": 40,
   "id": "3ead62cf",
   "metadata": {},
   "outputs": [],
   "source": [
    "df_test_eng = poly_fs.fit_transform(df_test)\n",
    "df_test_eng = pd.DataFrame(df_test_eng, columns=poly_fs.get_feature_names_out())"
   ]
  },
  {
   "cell_type": "code",
   "execution_count": 41,
   "id": "62aa5a51",
   "metadata": {},
   "outputs": [
    {
     "data": {
      "text/html": [
       "<div>\n",
       "<style scoped>\n",
       "    .dataframe tbody tr th:only-of-type {\n",
       "        vertical-align: middle;\n",
       "    }\n",
       "\n",
       "    .dataframe tbody tr th {\n",
       "        vertical-align: top;\n",
       "    }\n",
       "\n",
       "    .dataframe thead th {\n",
       "        text-align: right;\n",
       "    }\n",
       "</style>\n",
       "<table border=\"1\" class=\"dataframe\">\n",
       "  <thead>\n",
       "    <tr style=\"text-align: right;\">\n",
       "      <th></th>\n",
       "      <th>col_0</th>\n",
       "      <th>col_1</th>\n",
       "      <th>col_2</th>\n",
       "      <th>col_3</th>\n",
       "      <th>col_4</th>\n",
       "      <th>col_5</th>\n",
       "      <th>col_6</th>\n",
       "      <th>col_7</th>\n",
       "      <th>col_8</th>\n",
       "      <th>col_9</th>\n",
       "      <th>...</th>\n",
       "      <th>col_10^2</th>\n",
       "      <th>col_10 col_11</th>\n",
       "      <th>col_10 col_12</th>\n",
       "      <th>col_10 col_13</th>\n",
       "      <th>col_11^2</th>\n",
       "      <th>col_11 col_12</th>\n",
       "      <th>col_11 col_13</th>\n",
       "      <th>col_12^2</th>\n",
       "      <th>col_12 col_13</th>\n",
       "      <th>col_13^2</th>\n",
       "    </tr>\n",
       "  </thead>\n",
       "  <tbody>\n",
       "    <tr>\n",
       "      <th>0</th>\n",
       "      <td>0.780770</td>\n",
       "      <td>0.0</td>\n",
       "      <td>0.886988</td>\n",
       "      <td>0.0</td>\n",
       "      <td>0.000000</td>\n",
       "      <td>0.755750</td>\n",
       "      <td>0.240750</td>\n",
       "      <td>0.896739</td>\n",
       "      <td>0.858061</td>\n",
       "      <td>0.640383</td>\n",
       "      <td>...</td>\n",
       "      <td>0.826826</td>\n",
       "      <td>0.598540</td>\n",
       "      <td>0.297228</td>\n",
       "      <td>0.909300</td>\n",
       "      <td>0.433283</td>\n",
       "      <td>0.215164</td>\n",
       "      <td>0.658243</td>\n",
       "      <td>0.106848</td>\n",
       "      <td>0.326876</td>\n",
       "      <td>1.00000</td>\n",
       "    </tr>\n",
       "    <tr>\n",
       "      <th>1</th>\n",
       "      <td>0.787909</td>\n",
       "      <td>0.0</td>\n",
       "      <td>0.753728</td>\n",
       "      <td>0.0</td>\n",
       "      <td>0.503725</td>\n",
       "      <td>0.707453</td>\n",
       "      <td>0.424008</td>\n",
       "      <td>0.883280</td>\n",
       "      <td>0.930934</td>\n",
       "      <td>0.454047</td>\n",
       "      <td>...</td>\n",
       "      <td>0.068376</td>\n",
       "      <td>-0.212429</td>\n",
       "      <td>-0.167739</td>\n",
       "      <td>-0.261489</td>\n",
       "      <td>0.659965</td>\n",
       "      <td>0.521125</td>\n",
       "      <td>0.812382</td>\n",
       "      <td>0.411494</td>\n",
       "      <td>0.641478</td>\n",
       "      <td>1.00000</td>\n",
       "    </tr>\n",
       "    <tr>\n",
       "      <th>2</th>\n",
       "      <td>0.699486</td>\n",
       "      <td>0.0</td>\n",
       "      <td>0.908892</td>\n",
       "      <td>1.0</td>\n",
       "      <td>0.598551</td>\n",
       "      <td>0.781316</td>\n",
       "      <td>1.000000</td>\n",
       "      <td>0.877894</td>\n",
       "      <td>0.944873</td>\n",
       "      <td>0.998996</td>\n",
       "      <td>...</td>\n",
       "      <td>0.122787</td>\n",
       "      <td>-0.299592</td>\n",
       "      <td>-0.350409</td>\n",
       "      <td>-0.211454</td>\n",
       "      <td>0.730985</td>\n",
       "      <td>0.854976</td>\n",
       "      <td>0.515934</td>\n",
       "      <td>1.000000</td>\n",
       "      <td>0.603448</td>\n",
       "      <td>0.36415</td>\n",
       "    </tr>\n",
       "    <tr>\n",
       "      <th>3</th>\n",
       "      <td>0.945236</td>\n",
       "      <td>0.0</td>\n",
       "      <td>0.973960</td>\n",
       "      <td>0.5</td>\n",
       "      <td>0.000000</td>\n",
       "      <td>0.990412</td>\n",
       "      <td>1.000000</td>\n",
       "      <td>0.920124</td>\n",
       "      <td>0.866112</td>\n",
       "      <td>0.998507</td>\n",
       "      <td>...</td>\n",
       "      <td>0.082286</td>\n",
       "      <td>0.182919</td>\n",
       "      <td>0.286855</td>\n",
       "      <td>0.286855</td>\n",
       "      <td>0.406625</td>\n",
       "      <td>0.637672</td>\n",
       "      <td>0.637672</td>\n",
       "      <td>1.000000</td>\n",
       "      <td>1.000000</td>\n",
       "      <td>1.00000</td>\n",
       "    </tr>\n",
       "    <tr>\n",
       "      <th>4</th>\n",
       "      <td>0.774315</td>\n",
       "      <td>0.0</td>\n",
       "      <td>0.912153</td>\n",
       "      <td>0.0</td>\n",
       "      <td>0.877128</td>\n",
       "      <td>0.796313</td>\n",
       "      <td>0.581309</td>\n",
       "      <td>0.946191</td>\n",
       "      <td>0.928339</td>\n",
       "      <td>0.808453</td>\n",
       "      <td>...</td>\n",
       "      <td>0.058755</td>\n",
       "      <td>0.229726</td>\n",
       "      <td>0.151802</td>\n",
       "      <td>0.242395</td>\n",
       "      <td>0.898202</td>\n",
       "      <td>0.593528</td>\n",
       "      <td>0.947735</td>\n",
       "      <td>0.392200</td>\n",
       "      <td>0.626259</td>\n",
       "      <td>1.00000</td>\n",
       "    </tr>\n",
       "  </tbody>\n",
       "</table>\n",
       "<p>5 rows × 119 columns</p>\n",
       "</div>"
      ],
      "text/plain": [
       "      col_0  col_1     col_2  col_3     col_4     col_5     col_6     col_7  \\\n",
       "0  0.780770    0.0  0.886988    0.0  0.000000  0.755750  0.240750  0.896739   \n",
       "1  0.787909    0.0  0.753728    0.0  0.503725  0.707453  0.424008  0.883280   \n",
       "2  0.699486    0.0  0.908892    1.0  0.598551  0.781316  1.000000  0.877894   \n",
       "3  0.945236    0.0  0.973960    0.5  0.000000  0.990412  1.000000  0.920124   \n",
       "4  0.774315    0.0  0.912153    0.0  0.877128  0.796313  0.581309  0.946191   \n",
       "\n",
       "      col_8     col_9  ...  col_10^2  col_10 col_11  col_10 col_12  \\\n",
       "0  0.858061  0.640383  ...  0.826826       0.598540       0.297228   \n",
       "1  0.930934  0.454047  ...  0.068376      -0.212429      -0.167739   \n",
       "2  0.944873  0.998996  ...  0.122787      -0.299592      -0.350409   \n",
       "3  0.866112  0.998507  ...  0.082286       0.182919       0.286855   \n",
       "4  0.928339  0.808453  ...  0.058755       0.229726       0.151802   \n",
       "\n",
       "   col_10 col_13  col_11^2  col_11 col_12  col_11 col_13  col_12^2  \\\n",
       "0       0.909300  0.433283       0.215164       0.658243  0.106848   \n",
       "1      -0.261489  0.659965       0.521125       0.812382  0.411494   \n",
       "2      -0.211454  0.730985       0.854976       0.515934  1.000000   \n",
       "3       0.286855  0.406625       0.637672       0.637672  1.000000   \n",
       "4       0.242395  0.898202       0.593528       0.947735  0.392200   \n",
       "\n",
       "   col_12 col_13  col_13^2  \n",
       "0       0.326876   1.00000  \n",
       "1       0.641478   1.00000  \n",
       "2       0.603448   0.36415  \n",
       "3       1.000000   1.00000  \n",
       "4       0.626259   1.00000  \n",
       "\n",
       "[5 rows x 119 columns]"
      ]
     },
     "execution_count": 41,
     "metadata": {},
     "output_type": "execute_result"
    }
   ],
   "source": [
    "# Augmented training set\n",
    "df_train_eng.head()"
   ]
  },
  {
   "cell_type": "code",
   "execution_count": 42,
   "id": "4820152a",
   "metadata": {},
   "outputs": [
    {
     "name": "stdout",
     "output_type": "stream",
     "text": [
      "CPU times: user 13.3 s, sys: 137 ms, total: 13.4 s\n",
      "Wall time: 3.74 s\n"
     ]
    },
    {
     "data": {
      "text/plain": [
       "0.704"
      ]
     },
     "execution_count": 42,
     "metadata": {},
     "output_type": "execute_result"
    }
   ],
   "source": [
    "%%time\n",
    "# Compare Performance\n",
    "rfc_model = RandomForestClassifier(n_jobs=-1)\n",
    "rfc_model.fit(df_train_eng[:N], y_train[:N])\n",
    "round(rfc_model.score(df_test_eng, y_test), 3)"
   ]
  },
  {
   "cell_type": "code",
   "execution_count": 43,
   "id": "e3655f43",
   "metadata": {},
   "outputs": [
    {
     "data": {
      "text/plain": [
       "0.695307912670593"
      ]
     },
     "execution_count": 43,
     "metadata": {},
     "output_type": "execute_result"
    }
   ],
   "source": [
    "from sklearn.linear_model import LogisticRegression as LR\n",
    "logistic_model = LR(n_jobs=-1)\n",
    "logistic_model.fit(df_train[:N], y_train[:N])\n",
    "logistic_model.score(df_test, y_test)"
   ]
  },
  {
   "cell_type": "code",
   "execution_count": 44,
   "id": "4b888147",
   "metadata": {},
   "outputs": [
    {
     "name": "stdout",
     "output_type": "stream",
     "text": [
      "CPU times: user 97 ms, sys: 37.5 ms, total: 134 ms\n",
      "Wall time: 1.27 s\n"
     ]
    },
    {
     "data": {
      "text/plain": [
       "0.7009305884236935"
      ]
     },
     "execution_count": 44,
     "metadata": {},
     "output_type": "execute_result"
    }
   ],
   "source": [
    "%%time\n",
    "# augmented\n",
    "logistic_model = LR(n_jobs=-1)\n",
    "logistic_model.fit(df_train_eng[:10_000], y_train[:10_000])\n",
    "logistic_model.score(df_test_eng, y_test)"
   ]
  },
  {
   "cell_type": "code",
   "execution_count": 45,
   "id": "b620b8a5",
   "metadata": {},
   "outputs": [
    {
     "data": {
      "text/plain": [
       "0.21383657060678873"
      ]
     },
     "execution_count": 45,
     "metadata": {},
     "output_type": "execute_result"
    }
   ],
   "source": [
    "from sklearn.linear_model import LassoCV\n",
    "lasso = LassoCV()\n",
    "# baseline\n",
    "lasso.fit(df_train[:N], y_train[:N])\n",
    "lasso.score(df_test, y_test)"
   ]
  },
  {
   "cell_type": "code",
   "execution_count": 46,
   "id": "1cdbdf9b",
   "metadata": {},
   "outputs": [
    {
     "name": "stderr",
     "output_type": "stream",
     "text": [
      "/Users/six/envs/stacked/lib/python3.8/site-packages/sklearn/linear_model/_coordinate_descent.py:634: ConvergenceWarning: Objective did not converge. You might want to increase the number of iterations. Duality gap: 4.475591608810646, tolerance: 1.9999900987499972\n",
      "  model = cd_fast.enet_coordinate_descent_gram(\n"
     ]
    },
    {
     "name": "stdout",
     "output_type": "stream",
     "text": [
      "CPU times: user 23.1 s, sys: 1.4 s, total: 24.5 s\n",
      "Wall time: 12.7 s\n"
     ]
    },
    {
     "name": "stderr",
     "output_type": "stream",
     "text": [
      "/Users/six/envs/stacked/lib/python3.8/site-packages/sklearn/linear_model/_coordinate_descent.py:648: ConvergenceWarning: Objective did not converge. You might want to increase the number of iterations, check the scale of the features or consider increasing regularisation. Duality gap: 2.394e+02, tolerance: 2.500e+00\n",
      "  model = cd_fast.enet_coordinate_descent(\n"
     ]
    },
    {
     "data": {
      "text/plain": [
       "0.23522538526416237"
      ]
     },
     "execution_count": 46,
     "metadata": {},
     "output_type": "execute_result"
    }
   ],
   "source": [
    "%%time\n",
    "# augmented\n",
    "lasso = LassoCV()\n",
    "lasso.fit(df_train_eng[:100_000], y_train[:100_000])\n",
    "lasso.score(df_test_eng, y_test)"
   ]
  },
  {
   "cell_type": "markdown",
   "id": "235fb35a",
   "metadata": {},
   "source": [
    "## Feature Engineering Summary\n",
    "- We created an augmented dataset from engineered features of the form f1*f2, f2*f3, f1^2, f2^2 ...etc\n",
    "- We went from a baseline dataset performance of .709, down to an augmented dataset performance of .705.\n",
    "- Augmentation did not increase performance of tree models.\n",
    "- Augmentation only of slightly marginal benefit for linear models."
   ]
  },
  {
   "cell_type": "code",
   "execution_count": 47,
   "id": "f52c6b0d",
   "metadata": {},
   "outputs": [],
   "source": [
    "# Free up the memory from the augmented set\n",
    "del df_train_eng\n",
    "del df_test_eng"
   ]
  },
  {
   "cell_type": "markdown",
   "id": "e3302968",
   "metadata": {},
   "source": [
    "### Model Selection: Choose between tree models"
   ]
  },
  {
   "cell_type": "code",
   "execution_count": 48,
   "id": "c3c5cb78",
   "metadata": {},
   "outputs": [],
   "source": [
    "from sklearn.ensemble import GradientBoostingClassifier as GBT, HistGradientBoostingClassifier as HGBT"
   ]
  },
  {
   "cell_type": "code",
   "execution_count": 49,
   "id": "265ac04e",
   "metadata": {},
   "outputs": [],
   "source": [
    "gbt_model  = GBT()\n",
    "hgbt_model = HGBT()"
   ]
  },
  {
   "cell_type": "code",
   "execution_count": 50,
   "id": "94241c2b",
   "metadata": {},
   "outputs": [
    {
     "name": "stdout",
     "output_type": "stream",
     "text": [
      "CPU times: user 12.9 s, sys: 731 ms, total: 13.6 s\n",
      "Wall time: 4.35 s\n"
     ]
    },
    {
     "data": {
      "text/plain": [
       "0.7228163199943062"
      ]
     },
     "execution_count": 50,
     "metadata": {},
     "output_type": "execute_result"
    }
   ],
   "source": [
    "%%time\n",
    "hgbt_model.fit(df_train, y_train) # 10 seconds\n",
    "hgbt_model.score(df_test, y_test)"
   ]
  },
  {
   "cell_type": "code",
   "execution_count": 51,
   "id": "6f146baa",
   "metadata": {},
   "outputs": [
    {
     "name": "stdout",
     "output_type": "stream",
     "text": [
      "CPU times: user 1min 32s, sys: 985 ms, total: 1min 33s\n",
      "Wall time: 1min 33s\n"
     ]
    },
    {
     "data": {
      "text/plain": [
       "0.7167132257433142"
      ]
     },
     "execution_count": 51,
     "metadata": {},
     "output_type": "execute_result"
    }
   ],
   "source": [
    "%%time\n",
    "# gbt_model.fit(df_train[:N], y_train[:N])\n",
    "gbt_model.fit(df_train, y_train)\n",
    "gbt_model.score(df_test, y_test)"
   ]
  },
  {
   "cell_type": "markdown",
   "id": "2d31cc8c",
   "metadata": {},
   "source": [
    "### Model Selection Summary\n",
    "- Going with the random forest, hgbt and logistic regression models due to:\n",
    "    1. Have the highest overall performance\n",
    "    2. Maintain performance in low-data regimes (r^2 of ~.70(rand forest and logreg) vs .43(gbt) on 10k samples)\n",
    "2. Will become important in the next section on hyperparameter tuning."
   ]
  },
  {
   "cell_type": "markdown",
   "id": "37d059d9",
   "metadata": {},
   "source": [
    "# Hyperparameter Tuning <a class=\"anchor\" id=\"hyperparameter-tuning\"></a>\n",
    "- We will make use of validation datasets in the form of *cross-validation* in this section.\n",
    "- It will help us both optimize the hyperparamers while avoid overfitting to the training data.\n",
    "- We will tune one tree and one linear model.\n",
    "- Tuning will be done on a reduced N of 10k; testing will then be done on the full set with the optimal params."
   ]
  },
  {
   "cell_type": "code",
   "execution_count": 52,
   "id": "05eb51f7",
   "metadata": {},
   "outputs": [
    {
     "data": {
      "text/plain": [
       "10000"
      ]
     },
     "execution_count": 52,
     "metadata": {},
     "output_type": "execute_result"
    }
   ],
   "source": [
    "# Recall we're searching on a reduced sample size\n",
    "N"
   ]
  },
  {
   "cell_type": "code",
   "execution_count": 53,
   "id": "4abdcd81",
   "metadata": {},
   "outputs": [],
   "source": [
    "from sklearn.model_selection import GridSearchCV"
   ]
  },
  {
   "cell_type": "markdown",
   "id": "9617112f",
   "metadata": {},
   "source": [
    "### Histogram Boosted Decision Tree HP Tuning"
   ]
  },
  {
   "cell_type": "code",
   "execution_count": 54,
   "id": "56f6782d",
   "metadata": {},
   "outputs": [
    {
     "name": "stdout",
     "output_type": "stream",
     "text": [
      "Fitting 2 folds for each of 16 candidates, totalling 32 fits\n",
      "CPU times: user 18.9 s, sys: 1.23 s, total: 20.1 s\n",
      "Wall time: 47.6 s\n"
     ]
    },
    {
     "data": {
      "text/html": [
       "<style>#sk-container-id-2 {color: black;background-color: white;}#sk-container-id-2 pre{padding: 0;}#sk-container-id-2 div.sk-toggleable {background-color: white;}#sk-container-id-2 label.sk-toggleable__label {cursor: pointer;display: block;width: 100%;margin-bottom: 0;padding: 0.3em;box-sizing: border-box;text-align: center;}#sk-container-id-2 label.sk-toggleable__label-arrow:before {content: \"▸\";float: left;margin-right: 0.25em;color: #696969;}#sk-container-id-2 label.sk-toggleable__label-arrow:hover:before {color: black;}#sk-container-id-2 div.sk-estimator:hover label.sk-toggleable__label-arrow:before {color: black;}#sk-container-id-2 div.sk-toggleable__content {max-height: 0;max-width: 0;overflow: hidden;text-align: left;background-color: #f0f8ff;}#sk-container-id-2 div.sk-toggleable__content pre {margin: 0.2em;color: black;border-radius: 0.25em;background-color: #f0f8ff;}#sk-container-id-2 input.sk-toggleable__control:checked~div.sk-toggleable__content {max-height: 200px;max-width: 100%;overflow: auto;}#sk-container-id-2 input.sk-toggleable__control:checked~label.sk-toggleable__label-arrow:before {content: \"▾\";}#sk-container-id-2 div.sk-estimator input.sk-toggleable__control:checked~label.sk-toggleable__label {background-color: #d4ebff;}#sk-container-id-2 div.sk-label input.sk-toggleable__control:checked~label.sk-toggleable__label {background-color: #d4ebff;}#sk-container-id-2 input.sk-hidden--visually {border: 0;clip: rect(1px 1px 1px 1px);clip: rect(1px, 1px, 1px, 1px);height: 1px;margin: -1px;overflow: hidden;padding: 0;position: absolute;width: 1px;}#sk-container-id-2 div.sk-estimator {font-family: monospace;background-color: #f0f8ff;border: 1px dotted black;border-radius: 0.25em;box-sizing: border-box;margin-bottom: 0.5em;}#sk-container-id-2 div.sk-estimator:hover {background-color: #d4ebff;}#sk-container-id-2 div.sk-parallel-item::after {content: \"\";width: 100%;border-bottom: 1px solid gray;flex-grow: 1;}#sk-container-id-2 div.sk-label:hover label.sk-toggleable__label {background-color: #d4ebff;}#sk-container-id-2 div.sk-serial::before {content: \"\";position: absolute;border-left: 1px solid gray;box-sizing: border-box;top: 0;bottom: 0;left: 50%;z-index: 0;}#sk-container-id-2 div.sk-serial {display: flex;flex-direction: column;align-items: center;background-color: white;padding-right: 0.2em;padding-left: 0.2em;position: relative;}#sk-container-id-2 div.sk-item {position: relative;z-index: 1;}#sk-container-id-2 div.sk-parallel {display: flex;align-items: stretch;justify-content: center;background-color: white;position: relative;}#sk-container-id-2 div.sk-item::before, #sk-container-id-2 div.sk-parallel-item::before {content: \"\";position: absolute;border-left: 1px solid gray;box-sizing: border-box;top: 0;bottom: 0;left: 50%;z-index: -1;}#sk-container-id-2 div.sk-parallel-item {display: flex;flex-direction: column;z-index: 1;position: relative;background-color: white;}#sk-container-id-2 div.sk-parallel-item:first-child::after {align-self: flex-end;width: 50%;}#sk-container-id-2 div.sk-parallel-item:last-child::after {align-self: flex-start;width: 50%;}#sk-container-id-2 div.sk-parallel-item:only-child::after {width: 0;}#sk-container-id-2 div.sk-dashed-wrapped {border: 1px dashed gray;margin: 0 0.4em 0.5em 0.4em;box-sizing: border-box;padding-bottom: 0.4em;background-color: white;}#sk-container-id-2 div.sk-label label {font-family: monospace;font-weight: bold;display: inline-block;line-height: 1.2em;}#sk-container-id-2 div.sk-label-container {text-align: center;}#sk-container-id-2 div.sk-container {/* jupyter's `normalize.less` sets `[hidden] { display: none; }` but bootstrap.min.css set `[hidden] { display: none !important; }` so we also need the `!important` here to be able to override the default hidden behavior on the sphinx rendered scikit-learn.org. See: https://github.com/scikit-learn/scikit-learn/issues/21755 */display: inline-block !important;position: relative;}#sk-container-id-2 div.sk-text-repr-fallback {display: none;}</style><div id=\"sk-container-id-2\" class=\"sk-top-container\"><div class=\"sk-text-repr-fallback\"><pre>GridSearchCV(cv=2, estimator=HistGradientBoostingClassifier(), n_jobs=-1,\n",
       "             param_grid={&#x27;learning_rate&#x27;: [0.1, 0.5], &#x27;max_depth&#x27;: [None],\n",
       "                         &#x27;max_iter&#x27;: [100, 200], &#x27;max_leaf_nodes&#x27;: [10, 31],\n",
       "                         &#x27;min_samples_leaf&#x27;: [20, 40]},\n",
       "             scoring=&#x27;accuracy&#x27;, verbose=1)</pre><b>In a Jupyter environment, please rerun this cell to show the HTML representation or trust the notebook. <br />On GitHub, the HTML representation is unable to render, please try loading this page with nbviewer.org.</b></div><div class=\"sk-container\" hidden><div class=\"sk-item sk-dashed-wrapped\"><div class=\"sk-label-container\"><div class=\"sk-label sk-toggleable\"><input class=\"sk-toggleable__control sk-hidden--visually\" id=\"sk-estimator-id-2\" type=\"checkbox\" ><label for=\"sk-estimator-id-2\" class=\"sk-toggleable__label sk-toggleable__label-arrow\">GridSearchCV</label><div class=\"sk-toggleable__content\"><pre>GridSearchCV(cv=2, estimator=HistGradientBoostingClassifier(), n_jobs=-1,\n",
       "             param_grid={&#x27;learning_rate&#x27;: [0.1, 0.5], &#x27;max_depth&#x27;: [None],\n",
       "                         &#x27;max_iter&#x27;: [100, 200], &#x27;max_leaf_nodes&#x27;: [10, 31],\n",
       "                         &#x27;min_samples_leaf&#x27;: [20, 40]},\n",
       "             scoring=&#x27;accuracy&#x27;, verbose=1)</pre></div></div></div><div class=\"sk-parallel\"><div class=\"sk-parallel-item\"><div class=\"sk-item\"><div class=\"sk-label-container\"><div class=\"sk-label sk-toggleable\"><input class=\"sk-toggleable__control sk-hidden--visually\" id=\"sk-estimator-id-3\" type=\"checkbox\" ><label for=\"sk-estimator-id-3\" class=\"sk-toggleable__label sk-toggleable__label-arrow\">estimator: HistGradientBoostingClassifier</label><div class=\"sk-toggleable__content\"><pre>HistGradientBoostingClassifier()</pre></div></div></div><div class=\"sk-serial\"><div class=\"sk-item\"><div class=\"sk-estimator sk-toggleable\"><input class=\"sk-toggleable__control sk-hidden--visually\" id=\"sk-estimator-id-4\" type=\"checkbox\" ><label for=\"sk-estimator-id-4\" class=\"sk-toggleable__label sk-toggleable__label-arrow\">HistGradientBoostingClassifier</label><div class=\"sk-toggleable__content\"><pre>HistGradientBoostingClassifier()</pre></div></div></div></div></div></div></div></div></div></div>"
      ],
      "text/plain": [
       "GridSearchCV(cv=2, estimator=HistGradientBoostingClassifier(), n_jobs=-1,\n",
       "             param_grid={'learning_rate': [0.1, 0.5], 'max_depth': [None],\n",
       "                         'max_iter': [100, 200], 'max_leaf_nodes': [10, 31],\n",
       "                         'min_samples_leaf': [20, 40]},\n",
       "             scoring='accuracy', verbose=1)"
      ]
     },
     "execution_count": 54,
     "metadata": {},
     "output_type": "execute_result"
    }
   ],
   "source": [
    "%%time\n",
    "''' Histogram Boosted Decision Trees\n",
    "learning_rate : float, default=0.1\n",
    "    The learning rate, also known as *shrinkage*. This is used as a\n",
    "    multiplicative factor for the leaves values. Use ``1`` for no\n",
    "    shrinkage.\n",
    "max_iter : int, default=100\n",
    "    The maximum number of iterations of the boosting process, i.e. the\n",
    "    maximum number of trees for binary classification. For multiclass\n",
    "    classification, `n_classes` trees per iteration are built.\n",
    "max_leaf_nodes : int or None, default=31\n",
    "    The maximum number of leaves for each tree. Must be strictly greater\n",
    "    than 1. If None, there is no maximum limit.\n",
    "max_depth : int or None, default=None\n",
    "    The maximum depth of each tree. The depth of a tree is the number of\n",
    "    edges to go from the root to the deepest leaf.\n",
    "    Depth isn't constrained by default.\n",
    "min_samples_leaf : int, default=20\n",
    "    The minimum number of samples per leaf. For small datasets with less\n",
    "    than a few hundred samples, it is recommended to lower this value\n",
    "    since only very shallow trees would be built.\n",
    "'''\n",
    "hgbt_params = {\n",
    "    'learning_rate': [.1, .5]\n",
    "    , 'max_iter': [100, 200]\n",
    "    , 'max_leaf_nodes' : [10, 31]\n",
    "    , 'max_depth': [None]\n",
    "    , 'min_samples_leaf': [20, 40]\n",
    "}\n",
    "grid_search_hgbt = GridSearchCV(\n",
    "    estimator=HGBT(),\n",
    "    param_grid=hgbt_params,\n",
    "    cv=2, n_jobs=-1, verbose=1, scoring=\"accuracy\")\n",
    "grid_search_hgbt.fit(df_train, y_train)"
   ]
  },
  {
   "cell_type": "code",
   "execution_count": 55,
   "id": "e13d88ec",
   "metadata": {},
   "outputs": [
    {
     "data": {
      "image/png": "[encoded data removed]",
      "text/plain": [
       "<Figure size 1080x720 with 1 Axes>"
      ]
     },
     "metadata": {
      "needs_background": "light"
     },
     "output_type": "display_data"
    }
   ],
   "source": [
    "df_scores_hgbt = pd.DataFrame(grid_search_hgbt.cv_results_)\n",
    "\n",
    "labels = np.arange(len(df_scores_hgbt))\n",
    "legend = [str(v) for v in df_scores_hgbt.params.values]\n",
    "stds = df_scores_hgbt.std_test_score\n",
    "means = df_scores_hgbt.mean_test_score\n",
    "ix_best_score = np.argmax(means)\n",
    "plt.figure(figsize=(15,10));\n",
    "for i in labels:\n",
    "    if i == ix_best_score:\n",
    "        plt.errorbar(labels[i], means[i], stds[i], fmt='or', lw=4)\n",
    "    else:\n",
    "        plt.errorbar(labels[i], means[i], stds[i], fmt='ok', lw=4)\n",
    "plt.title(f'''Histogram Boosted Trees Hyperparameter Search Scores\\n\n",
    "    Best Params:{legend[ix_best_score]}''');"
   ]
  },
  {
   "cell_type": "code",
   "execution_count": 56,
   "id": "db274ced",
   "metadata": {},
   "outputs": [
    {
     "name": "stdout",
     "output_type": "stream",
     "text": [
      "best hgbt params {'learning_rate': 0.1, 'max_depth': None, 'max_iter': 200, 'max_leaf_nodes': 31, 'min_samples_leaf': 20}\n",
      "CPU times: user 21.7 s, sys: 1.31 s, total: 23 s\n",
      "Wall time: 7.02 s\n"
     ]
    },
    {
     "data": {
      "text/plain": [
       "0.7243999217095781"
      ]
     },
     "execution_count": 56,
     "metadata": {},
     "output_type": "execute_result"
    }
   ],
   "source": [
    "%%time\n",
    "best_hgbt_params = df_scores_hgbt.params[np.argmax(means)]\n",
    "print('best hgbt params', best_hgbt_params)\n",
    "hgbt_model = HGBT(**best_hgbt_params)\n",
    "hgbt_model.fit(df_train, y_train)\n",
    "hgbt_model.score(df_test, y_test)"
   ]
  },
  {
   "cell_type": "code",
   "execution_count": 57,
   "id": "728a387a",
   "metadata": {},
   "outputs": [],
   "source": [
    "df_scores_hgbt = pd.concat([\n",
    "    df_scores_hgbt,\n",
    "    pd.DataFrame.from_records(df_scores_hgbt.params.values, index=df_scores_hgbt.index)\n",
    "], axis=1)"
   ]
  },
  {
   "cell_type": "code",
   "execution_count": 58,
   "id": "a80bf562",
   "metadata": {},
   "outputs": [
    {
     "data": {
      "image/png": "[encoded data removed]",
      "text/plain": [
       "<Figure size 432x288 with 1 Axes>"
      ]
     },
     "metadata": {
      "needs_background": "light"
     },
     "output_type": "display_data"
    },
    {
     "data": {
      "image/png": "[encoded data removed]",
      "text/plain": [
       "<Figure size 432x288 with 1 Axes>"
      ]
     },
     "metadata": {
      "needs_background": "light"
     },
     "output_type": "display_data"
    },
    {
     "data": {
      "image/png": "[encoded data removed]",
      "text/plain": [
       "<Figure size 432x288 with 1 Axes>"
      ]
     },
     "metadata": {
      "needs_background": "light"
     },
     "output_type": "display_data"
    },
    {
     "data": {
      "image/png": "[encoded data removed]",
      "text/plain": [
       "<Figure size 432x288 with 1 Axes>"
      ]
     },
     "metadata": {
      "needs_background": "light"
     },
     "output_type": "display_data"
    },
    {
     "data": {
      "image/png": "[encoded data removed]",
      "text/plain": [
       "<Figure size 432x288 with 1 Axes>"
      ]
     },
     "metadata": {
      "needs_background": "light"
     },
     "output_type": "display_data"
    }
   ],
   "source": [
    "for param in df_scores_hgbt.params[0].keys():\n",
    "    groups = df_scores_hgbt.groupby(param).mean_test_score\n",
    "    means = groups.mean()\n",
    "    stds = groups.std()\n",
    "    plt.errorbar(means.index, means.values, stds.values, fmt='ok', lw=3);\n",
    "    plt.title(param);\n",
    "    plt.show();"
   ]
  },
  {
   "cell_type": "markdown",
   "id": "bf2cf1e6",
   "metadata": {},
   "source": [
    "- These are the average model performances for the various hyperparam settings"
   ]
  },
  {
   "cell_type": "markdown",
   "id": "f65d3d71",
   "metadata": {},
   "source": [
    "### Logistic Regression HP Tuning"
   ]
  },
  {
   "cell_type": "code",
   "execution_count": 59,
   "id": "011c2aea",
   "metadata": {},
   "outputs": [],
   "source": [
    "# Create the parameter grid based on the results of random search \n",
    "logreg_params = {\n",
    "    'l1_ratio': [0, .1, .5, 1.0]\n",
    "    , 'C': [.1, .5, 1.0]\n",
    "}"
   ]
  },
  {
   "cell_type": "code",
   "execution_count": 60,
   "id": "12d65060",
   "metadata": {},
   "outputs": [],
   "source": [
    "# Instantiate base models\n",
    "logistic_model = LR(solver='saga', warm_start=True, n_jobs=-1, penalty='elasticnet')"
   ]
  },
  {
   "cell_type": "code",
   "execution_count": 61,
   "id": "de244add",
   "metadata": {},
   "outputs": [
    {
     "name": "stdout",
     "output_type": "stream",
     "text": [
      "Fitting 4 folds for each of 12 candidates, totalling 48 fits\n",
      "CPU times: user 2.44 s, sys: 184 ms, total: 2.63 s\n",
      "Wall time: 32.4 s\n"
     ]
    },
    {
     "data": {
      "text/html": [
       "<style>#sk-container-id-3 {color: black;background-color: white;}#sk-container-id-3 pre{padding: 0;}#sk-container-id-3 div.sk-toggleable {background-color: white;}#sk-container-id-3 label.sk-toggleable__label {cursor: pointer;display: block;width: 100%;margin-bottom: 0;padding: 0.3em;box-sizing: border-box;text-align: center;}#sk-container-id-3 label.sk-toggleable__label-arrow:before {content: \"▸\";float: left;margin-right: 0.25em;color: #696969;}#sk-container-id-3 label.sk-toggleable__label-arrow:hover:before {color: black;}#sk-container-id-3 div.sk-estimator:hover label.sk-toggleable__label-arrow:before {color: black;}#sk-container-id-3 div.sk-toggleable__content {max-height: 0;max-width: 0;overflow: hidden;text-align: left;background-color: #f0f8ff;}#sk-container-id-3 div.sk-toggleable__content pre {margin: 0.2em;color: black;border-radius: 0.25em;background-color: #f0f8ff;}#sk-container-id-3 input.sk-toggleable__control:checked~div.sk-toggleable__content {max-height: 200px;max-width: 100%;overflow: auto;}#sk-container-id-3 input.sk-toggleable__control:checked~label.sk-toggleable__label-arrow:before {content: \"▾\";}#sk-container-id-3 div.sk-estimator input.sk-toggleable__control:checked~label.sk-toggleable__label {background-color: #d4ebff;}#sk-container-id-3 div.sk-label input.sk-toggleable__control:checked~label.sk-toggleable__label {background-color: #d4ebff;}#sk-container-id-3 input.sk-hidden--visually {border: 0;clip: rect(1px 1px 1px 1px);clip: rect(1px, 1px, 1px, 1px);height: 1px;margin: -1px;overflow: hidden;padding: 0;position: absolute;width: 1px;}#sk-container-id-3 div.sk-estimator {font-family: monospace;background-color: #f0f8ff;border: 1px dotted black;border-radius: 0.25em;box-sizing: border-box;margin-bottom: 0.5em;}#sk-container-id-3 div.sk-estimator:hover {background-color: #d4ebff;}#sk-container-id-3 div.sk-parallel-item::after {content: \"\";width: 100%;border-bottom: 1px solid gray;flex-grow: 1;}#sk-container-id-3 div.sk-label:hover label.sk-toggleable__label {background-color: #d4ebff;}#sk-container-id-3 div.sk-serial::before {content: \"\";position: absolute;border-left: 1px solid gray;box-sizing: border-box;top: 0;bottom: 0;left: 50%;z-index: 0;}#sk-container-id-3 div.sk-serial {display: flex;flex-direction: column;align-items: center;background-color: white;padding-right: 0.2em;padding-left: 0.2em;position: relative;}#sk-container-id-3 div.sk-item {position: relative;z-index: 1;}#sk-container-id-3 div.sk-parallel {display: flex;align-items: stretch;justify-content: center;background-color: white;position: relative;}#sk-container-id-3 div.sk-item::before, #sk-container-id-3 div.sk-parallel-item::before {content: \"\";position: absolute;border-left: 1px solid gray;box-sizing: border-box;top: 0;bottom: 0;left: 50%;z-index: -1;}#sk-container-id-3 div.sk-parallel-item {display: flex;flex-direction: column;z-index: 1;position: relative;background-color: white;}#sk-container-id-3 div.sk-parallel-item:first-child::after {align-self: flex-end;width: 50%;}#sk-container-id-3 div.sk-parallel-item:last-child::after {align-self: flex-start;width: 50%;}#sk-container-id-3 div.sk-parallel-item:only-child::after {width: 0;}#sk-container-id-3 div.sk-dashed-wrapped {border: 1px dashed gray;margin: 0 0.4em 0.5em 0.4em;box-sizing: border-box;padding-bottom: 0.4em;background-color: white;}#sk-container-id-3 div.sk-label label {font-family: monospace;font-weight: bold;display: inline-block;line-height: 1.2em;}#sk-container-id-3 div.sk-label-container {text-align: center;}#sk-container-id-3 div.sk-container {/* jupyter's `normalize.less` sets `[hidden] { display: none; }` but bootstrap.min.css set `[hidden] { display: none !important; }` so we also need the `!important` here to be able to override the default hidden behavior on the sphinx rendered scikit-learn.org. See: https://github.com/scikit-learn/scikit-learn/issues/21755 */display: inline-block !important;position: relative;}#sk-container-id-3 div.sk-text-repr-fallback {display: none;}</style><div id=\"sk-container-id-3\" class=\"sk-top-container\"><div class=\"sk-text-repr-fallback\"><pre>GridSearchCV(cv=4,\n",
       "             estimator=LogisticRegression(n_jobs=-1, penalty=&#x27;elasticnet&#x27;,\n",
       "                                          solver=&#x27;saga&#x27;, warm_start=True),\n",
       "             n_jobs=-1,\n",
       "             param_grid={&#x27;C&#x27;: [0.1, 0.5, 1.0], &#x27;l1_ratio&#x27;: [0, 0.1, 0.5, 1.0]},\n",
       "             scoring=&#x27;accuracy&#x27;, verbose=1)</pre><b>In a Jupyter environment, please rerun this cell to show the HTML representation or trust the notebook. <br />On GitHub, the HTML representation is unable to render, please try loading this page with nbviewer.org.</b></div><div class=\"sk-container\" hidden><div class=\"sk-item sk-dashed-wrapped\"><div class=\"sk-label-container\"><div class=\"sk-label sk-toggleable\"><input class=\"sk-toggleable__control sk-hidden--visually\" id=\"sk-estimator-id-5\" type=\"checkbox\" ><label for=\"sk-estimator-id-5\" class=\"sk-toggleable__label sk-toggleable__label-arrow\">GridSearchCV</label><div class=\"sk-toggleable__content\"><pre>GridSearchCV(cv=4,\n",
       "             estimator=LogisticRegression(n_jobs=-1, penalty=&#x27;elasticnet&#x27;,\n",
       "                                          solver=&#x27;saga&#x27;, warm_start=True),\n",
       "             n_jobs=-1,\n",
       "             param_grid={&#x27;C&#x27;: [0.1, 0.5, 1.0], &#x27;l1_ratio&#x27;: [0, 0.1, 0.5, 1.0]},\n",
       "             scoring=&#x27;accuracy&#x27;, verbose=1)</pre></div></div></div><div class=\"sk-parallel\"><div class=\"sk-parallel-item\"><div class=\"sk-item\"><div class=\"sk-label-container\"><div class=\"sk-label sk-toggleable\"><input class=\"sk-toggleable__control sk-hidden--visually\" id=\"sk-estimator-id-6\" type=\"checkbox\" ><label for=\"sk-estimator-id-6\" class=\"sk-toggleable__label sk-toggleable__label-arrow\">estimator: LogisticRegression</label><div class=\"sk-toggleable__content\"><pre>LogisticRegression(n_jobs=-1, penalty=&#x27;elasticnet&#x27;, solver=&#x27;saga&#x27;,\n",
       "                   warm_start=True)</pre></div></div></div><div class=\"sk-serial\"><div class=\"sk-item\"><div class=\"sk-estimator sk-toggleable\"><input class=\"sk-toggleable__control sk-hidden--visually\" id=\"sk-estimator-id-7\" type=\"checkbox\" ><label for=\"sk-estimator-id-7\" class=\"sk-toggleable__label sk-toggleable__label-arrow\">LogisticRegression</label><div class=\"sk-toggleable__content\"><pre>LogisticRegression(n_jobs=-1, penalty=&#x27;elasticnet&#x27;, solver=&#x27;saga&#x27;,\n",
       "                   warm_start=True)</pre></div></div></div></div></div></div></div></div></div></div>"
      ],
      "text/plain": [
       "GridSearchCV(cv=4,\n",
       "             estimator=LogisticRegression(n_jobs=-1, penalty='elasticnet',\n",
       "                                          solver='saga', warm_start=True),\n",
       "             n_jobs=-1,\n",
       "             param_grid={'C': [0.1, 0.5, 1.0], 'l1_ratio': [0, 0.1, 0.5, 1.0]},\n",
       "             scoring='accuracy', verbose=1)"
      ]
     },
     "execution_count": 61,
     "metadata": {},
     "output_type": "execute_result"
    }
   ],
   "source": [
    "%%time\n",
    "# Instantiate the grid search models\n",
    "grid_search_logistic = GridSearchCV(\n",
    "    estimator=logistic_model, param_grid=logreg_params, \n",
    "    cv=4, n_jobs=-1, verbose=1, scoring = \"accuracy\")\n",
    "grid_search_logistic.fit(df_train, y_train)"
   ]
  },
  {
   "cell_type": "code",
   "execution_count": 62,
   "id": "632e7045",
   "metadata": {},
   "outputs": [
    {
     "data": {
      "image/png": "[encoded data removed]",
      "text/plain": [
       "<Figure size 720x360 with 1 Axes>"
      ]
     },
     "metadata": {
      "needs_background": "light"
     },
     "output_type": "display_data"
    }
   ],
   "source": [
    "df_scores_logistic = pd.DataFrame(grid_search_logistic.cv_results_)\n",
    "\n",
    "labels = np.arange(len(df_scores_logistic))\n",
    "legend = [str(v) for v in df_scores_logistic.params.values]\n",
    "stds = df_scores_logistic.std_test_score\n",
    "means = df_scores_logistic.mean_test_score\n",
    "ix_best_score = np.argmax(means)\n",
    "plt.figure(figsize=(10,5));\n",
    "for i in labels:\n",
    "    if i == ix_best_score:\n",
    "        plt.errorbar(labels[i], means[i], stds[i], fmt='or', lw=4)\n",
    "    else:\n",
    "        plt.errorbar(labels[i], means[i], stds[i], fmt='ok', lw=4)\n",
    "plt.legend(legend);\n",
    "plt.title('Logistic Regression Hyperparameter Search Scores');"
   ]
  },
  {
   "cell_type": "code",
   "execution_count": 63,
   "id": "c43bed3c",
   "metadata": {},
   "outputs": [
    {
     "name": "stdout",
     "output_type": "stream",
     "text": [
      "{'C': 1.0, 'l1_ratio': 1.0, 'solver': 'saga', 'warm_start': True, 'n_jobs': -1, 'penalty': 'elasticnet'}\n"
     ]
    }
   ],
   "source": [
    "logistic_params_star = {\n",
    "    **df_scores_logistic.params[ix_best_score], 'solver':'saga'\n",
    "    , 'warm_start':True, 'n_jobs':-1, 'penalty':'elasticnet'}\n",
    "print(logistic_params_star)"
   ]
  },
  {
   "cell_type": "markdown",
   "id": "870a1640",
   "metadata": {},
   "source": [
    "- Logistic regression seems robust to hyperparameters chosen.\n",
    "    - All means within the variance of one another.\n",
    "- Let's see if the same is true for the random forests."
   ]
  },
  {
   "cell_type": "markdown",
   "id": "ed02c998",
   "metadata": {},
   "source": [
    "### Random Forest HP Tuning"
   ]
  },
  {
   "cell_type": "markdown",
   "id": "c77ff5f4",
   "metadata": {},
   "source": [
    "'''\n",
    "Parameters\n",
    "----------\n",
    "n_estimators : int, default=100\n",
    "    The number of trees in the forest.\n",
    "\n",
    "criterion : {\"gini\", \"entropy\", \"log_loss\"}, default=\"gini\"\n",
    "    The function to measure the quality of a split. Supported criteria are\n",
    "    \"gini\" for the Gini impurity and \"log_loss\" and \"entropy\" both for the\n",
    "    Shannon information gain, see :ref:`tree_mathematical_formulation`.\n",
    "    Note: This parameter is tree-specific.\n",
    "\n",
    "max_depth : int, default=None\n",
    "    The maximum depth of the tree. If None, then nodes are expanded until\n",
    "    all leaves are pure or until all leaves contain less than\n",
    "    min_samples_split samples.\n",
    "\n",
    "min_samples_split : int or float, default=2\n",
    "    The minimum number of samples required to split an internal node:\n",
    "\n",
    "    - If int, then consider `min_samples_split` as the minimum number.\n",
    "    - If float, then `min_samples_split` is a fraction and\n",
    "      `ceil(min_samples_split * n_samples)` are the minimum\n",
    "      number of samples for each split.\n",
    "      \n",
    "min_samples_leaf : int or float, default=1\n",
    "    The minimum number of samples required to be at a leaf node.\n",
    "    A split point at any depth will only be considered if it leaves at\n",
    "    least ``min_samples_leaf`` training samples in each of the left and\n",
    "    right branches.  This may have the effect of smoothing the model,\n",
    "    especially in regression.\n",
    "\n",
    "    - If int, then consider `min_samples_leaf` as the minimum number.\n",
    "    - If float, then `min_samples_leaf` is a fraction and\n",
    "      `ceil(min_samples_leaf * n_samples)` are the minimum\n",
    "      number of samples for each node.\n",
    "'''"
   ]
  },
  {
   "cell_type": "code",
   "execution_count": 65,
   "id": "27dcaf75",
   "metadata": {},
   "outputs": [
    {
     "name": "stdout",
     "output_type": "stream",
     "text": [
      "Fitting 4 folds for each of 50 candidates, totalling 200 fits\n",
      "CPU times: user 3.57 s, sys: 157 ms, total: 3.72 s\n",
      "Wall time: 1min 42s\n"
     ]
    },
    {
     "data": {
      "text/html": [
       "<style>#sk-container-id-4 {color: black;background-color: white;}#sk-container-id-4 pre{padding: 0;}#sk-container-id-4 div.sk-toggleable {background-color: white;}#sk-container-id-4 label.sk-toggleable__label {cursor: pointer;display: block;width: 100%;margin-bottom: 0;padding: 0.3em;box-sizing: border-box;text-align: center;}#sk-container-id-4 label.sk-toggleable__label-arrow:before {content: \"▸\";float: left;margin-right: 0.25em;color: #696969;}#sk-container-id-4 label.sk-toggleable__label-arrow:hover:before {color: black;}#sk-container-id-4 div.sk-estimator:hover label.sk-toggleable__label-arrow:before {color: black;}#sk-container-id-4 div.sk-toggleable__content {max-height: 0;max-width: 0;overflow: hidden;text-align: left;background-color: #f0f8ff;}#sk-container-id-4 div.sk-toggleable__content pre {margin: 0.2em;color: black;border-radius: 0.25em;background-color: #f0f8ff;}#sk-container-id-4 input.sk-toggleable__control:checked~div.sk-toggleable__content {max-height: 200px;max-width: 100%;overflow: auto;}#sk-container-id-4 input.sk-toggleable__control:checked~label.sk-toggleable__label-arrow:before {content: \"▾\";}#sk-container-id-4 div.sk-estimator input.sk-toggleable__control:checked~label.sk-toggleable__label {background-color: #d4ebff;}#sk-container-id-4 div.sk-label input.sk-toggleable__control:checked~label.sk-toggleable__label {background-color: #d4ebff;}#sk-container-id-4 input.sk-hidden--visually {border: 0;clip: rect(1px 1px 1px 1px);clip: rect(1px, 1px, 1px, 1px);height: 1px;margin: -1px;overflow: hidden;padding: 0;position: absolute;width: 1px;}#sk-container-id-4 div.sk-estimator {font-family: monospace;background-color: #f0f8ff;border: 1px dotted black;border-radius: 0.25em;box-sizing: border-box;margin-bottom: 0.5em;}#sk-container-id-4 div.sk-estimator:hover {background-color: #d4ebff;}#sk-container-id-4 div.sk-parallel-item::after {content: \"\";width: 100%;border-bottom: 1px solid gray;flex-grow: 1;}#sk-container-id-4 div.sk-label:hover label.sk-toggleable__label {background-color: #d4ebff;}#sk-container-id-4 div.sk-serial::before {content: \"\";position: absolute;border-left: 1px solid gray;box-sizing: border-box;top: 0;bottom: 0;left: 50%;z-index: 0;}#sk-container-id-4 div.sk-serial {display: flex;flex-direction: column;align-items: center;background-color: white;padding-right: 0.2em;padding-left: 0.2em;position: relative;}#sk-container-id-4 div.sk-item {position: relative;z-index: 1;}#sk-container-id-4 div.sk-parallel {display: flex;align-items: stretch;justify-content: center;background-color: white;position: relative;}#sk-container-id-4 div.sk-item::before, #sk-container-id-4 div.sk-parallel-item::before {content: \"\";position: absolute;border-left: 1px solid gray;box-sizing: border-box;top: 0;bottom: 0;left: 50%;z-index: -1;}#sk-container-id-4 div.sk-parallel-item {display: flex;flex-direction: column;z-index: 1;position: relative;background-color: white;}#sk-container-id-4 div.sk-parallel-item:first-child::after {align-self: flex-end;width: 50%;}#sk-container-id-4 div.sk-parallel-item:last-child::after {align-self: flex-start;width: 50%;}#sk-container-id-4 div.sk-parallel-item:only-child::after {width: 0;}#sk-container-id-4 div.sk-dashed-wrapped {border: 1px dashed gray;margin: 0 0.4em 0.5em 0.4em;box-sizing: border-box;padding-bottom: 0.4em;background-color: white;}#sk-container-id-4 div.sk-label label {font-family: monospace;font-weight: bold;display: inline-block;line-height: 1.2em;}#sk-container-id-4 div.sk-label-container {text-align: center;}#sk-container-id-4 div.sk-container {/* jupyter's `normalize.less` sets `[hidden] { display: none; }` but bootstrap.min.css set `[hidden] { display: none !important; }` so we also need the `!important` here to be able to override the default hidden behavior on the sphinx rendered scikit-learn.org. See: https://github.com/scikit-learn/scikit-learn/issues/21755 */display: inline-block !important;position: relative;}#sk-container-id-4 div.sk-text-repr-fallback {display: none;}</style><div id=\"sk-container-id-4\" class=\"sk-top-container\"><div class=\"sk-text-repr-fallback\"><pre>GridSearchCV(cv=4, estimator=RandomForestClassifier(n_jobs=-1), n_jobs=-1,\n",
       "             param_grid={&#x27;criterion&#x27;: [&#x27;gini&#x27;, &#x27;entropy&#x27;],\n",
       "                         &#x27;max_depth&#x27;: [2, 3, 5, 10, 20],\n",
       "                         &#x27;min_samples_leaf&#x27;: [5, 10, 20, 50, 100]},\n",
       "             scoring=&#x27;accuracy&#x27;, verbose=1)</pre><b>In a Jupyter environment, please rerun this cell to show the HTML representation or trust the notebook. <br />On GitHub, the HTML representation is unable to render, please try loading this page with nbviewer.org.</b></div><div class=\"sk-container\" hidden><div class=\"sk-item sk-dashed-wrapped\"><div class=\"sk-label-container\"><div class=\"sk-label sk-toggleable\"><input class=\"sk-toggleable__control sk-hidden--visually\" id=\"sk-estimator-id-8\" type=\"checkbox\" ><label for=\"sk-estimator-id-8\" class=\"sk-toggleable__label sk-toggleable__label-arrow\">GridSearchCV</label><div class=\"sk-toggleable__content\"><pre>GridSearchCV(cv=4, estimator=RandomForestClassifier(n_jobs=-1), n_jobs=-1,\n",
       "             param_grid={&#x27;criterion&#x27;: [&#x27;gini&#x27;, &#x27;entropy&#x27;],\n",
       "                         &#x27;max_depth&#x27;: [2, 3, 5, 10, 20],\n",
       "                         &#x27;min_samples_leaf&#x27;: [5, 10, 20, 50, 100]},\n",
       "             scoring=&#x27;accuracy&#x27;, verbose=1)</pre></div></div></div><div class=\"sk-parallel\"><div class=\"sk-parallel-item\"><div class=\"sk-item\"><div class=\"sk-label-container\"><div class=\"sk-label sk-toggleable\"><input class=\"sk-toggleable__control sk-hidden--visually\" id=\"sk-estimator-id-9\" type=\"checkbox\" ><label for=\"sk-estimator-id-9\" class=\"sk-toggleable__label sk-toggleable__label-arrow\">estimator: RandomForestClassifier</label><div class=\"sk-toggleable__content\"><pre>RandomForestClassifier(n_jobs=-1)</pre></div></div></div><div class=\"sk-serial\"><div class=\"sk-item\"><div class=\"sk-estimator sk-toggleable\"><input class=\"sk-toggleable__control sk-hidden--visually\" id=\"sk-estimator-id-10\" type=\"checkbox\" ><label for=\"sk-estimator-id-10\" class=\"sk-toggleable__label sk-toggleable__label-arrow\">RandomForestClassifier</label><div class=\"sk-toggleable__content\"><pre>RandomForestClassifier(n_jobs=-1)</pre></div></div></div></div></div></div></div></div></div></div>"
      ],
      "text/plain": [
       "GridSearchCV(cv=4, estimator=RandomForestClassifier(n_jobs=-1), n_jobs=-1,\n",
       "             param_grid={'criterion': ['gini', 'entropy'],\n",
       "                         'max_depth': [2, 3, 5, 10, 20],\n",
       "                         'min_samples_leaf': [5, 10, 20, 50, 100]},\n",
       "             scoring='accuracy', verbose=1)"
      ]
     },
     "execution_count": 65,
     "metadata": {},
     "output_type": "execute_result"
    }
   ],
   "source": [
    "%%time\n",
    "tree_params = {\n",
    "    'max_depth': [2, 3, 5, 10, 20],\n",
    "    'min_samples_leaf': [5, 10, 20, 50, 100],\n",
    "    'criterion': [\"gini\", \"entropy\"]\n",
    "}\n",
    "rfc_model = RandomForestClassifier(n_jobs=-1)\n",
    "grid_search_rfc = GridSearchCV(\n",
    "    estimator=rfc_model, param_grid=tree_params,\n",
    "    cv=4, n_jobs=-1, verbose=1, scoring='accuracy')\n",
    "grid_search_rfc.fit(df_train[:N], y_train[:N])"
   ]
  },
  {
   "cell_type": "code",
   "execution_count": 66,
   "id": "ba9bc1fa",
   "metadata": {},
   "outputs": [
    {
     "data": {
      "image/png": "[encoded data removed]",
      "text/plain": [
       "<Figure size 1080x720 with 1 Axes>"
      ]
     },
     "metadata": {
      "needs_background": "light"
     },
     "output_type": "display_data"
    }
   ],
   "source": [
    "df_scores_rfc = pd.DataFrame(grid_search_rfc.cv_results_)\n",
    "\n",
    "labels = np.arange(len(df_scores_rfc))\n",
    "legend = [str(v) for v in df_scores_rfc.params.values]\n",
    "stds = df_scores_rfc.std_test_score\n",
    "means = df_scores_rfc.mean_test_score\n",
    "ix_best_score = np.argmax(means)\n",
    "plt.figure(figsize=(15,10));\n",
    "for i in labels:\n",
    "    if i == ix_best_score:\n",
    "        plt.errorbar(labels[i], means[i], stds[i], fmt='or', lw=4)\n",
    "    else:\n",
    "        plt.errorbar(labels[i], means[i], stds[i], fmt='ok', lw=4)\n",
    "# plt.legend(str(legend[ix_best_score]));\n",
    "plt.title(f'''Random Forest Hyperparameter Search Scores\\n\n",
    "    Best Params:{legend[ix_best_score]}''');"
   ]
  },
  {
   "cell_type": "markdown",
   "id": "d333b1af",
   "metadata": {},
   "source": [
    "- The same is not true for random forests\n",
    "- Hyperparameter selection does make a significant impact on performance\n",
    "- Let's identify which params mattered the most"
   ]
  },
  {
   "cell_type": "code",
   "execution_count": 67,
   "id": "7b8fab17",
   "metadata": {},
   "outputs": [],
   "source": [
    "df_scores_rfc = pd.concat([\n",
    "    df_scores_rfc,\n",
    "    pd.DataFrame.from_records(df_scores_rfc.params.values, index=df_scores_rfc.index)\n",
    "], axis=1)"
   ]
  },
  {
   "cell_type": "code",
   "execution_count": 68,
   "id": "cb2db7ab",
   "metadata": {},
   "outputs": [
    {
     "data": {
      "image/png": "[encoded data removed]",
      "text/plain": [
       "<Figure size 432x288 with 1 Axes>"
      ]
     },
     "metadata": {
      "needs_background": "light"
     },
     "output_type": "display_data"
    },
    {
     "data": {
      "image/png": "[encoded data removed]",
      "text/plain": [
       "<Figure size 432x288 with 1 Axes>"
      ]
     },
     "metadata": {
      "needs_background": "light"
     },
     "output_type": "display_data"
    },
    {
     "data": {
      "image/png": "[encoded data removed]",
      "text/plain": [
       "<Figure size 432x288 with 1 Axes>"
      ]
     },
     "metadata": {
      "needs_background": "light"
     },
     "output_type": "display_data"
    }
   ],
   "source": [
    "for param in df_scores_rfc.params[0].keys():\n",
    "    groups = df_scores_rfc.groupby(param).mean_test_score\n",
    "    means = groups.mean()\n",
    "    stds = groups.std()\n",
    "    plt.errorbar(means.index, means.values, stds.values, fmt='ok', lw=3);\n",
    "    plt.title(param);\n",
    "    plt.show();"
   ]
  },
  {
   "cell_type": "markdown",
   "id": "73c067aa",
   "metadata": {},
   "source": [
    "- As we can see max_depth, matters more than the other two params.\n",
    "- Let's do one more round, drilling down on max depth and incorporate max estimators as well"
   ]
  },
  {
   "cell_type": "code",
   "execution_count": 69,
   "id": "68067a05",
   "metadata": {},
   "outputs": [],
   "source": [
    "tree_params = {\n",
    "    'max_depth': [7, 10, 12, 15], # new range from sweet-spot of chart above\n",
    "    'n_estimators': [10, 100, 500],\n",
    "    'min_samples_split': [.1, .3, .5]\n",
    "}"
   ]
  },
  {
   "cell_type": "code",
   "execution_count": 70,
   "id": "a7d9eb20",
   "metadata": {},
   "outputs": [],
   "source": [
    "grid_search_rfc = GridSearchCV(\n",
    "    estimator=rfc_model, param_grid=tree_params,\n",
    "    cv=4, n_jobs=-1, verbose=1, scoring='accuracy')"
   ]
  },
  {
   "cell_type": "code",
   "execution_count": 71,
   "id": "1db290aa",
   "metadata": {},
   "outputs": [
    {
     "name": "stdout",
     "output_type": "stream",
     "text": [
      "Fitting 4 folds for each of 36 candidates, totalling 144 fits\n",
      "CPU times: user 2.17 s, sys: 121 ms, total: 2.29 s\n",
      "Wall time: 1min 29s\n"
     ]
    },
    {
     "data": {
      "text/html": [
       "<style>#sk-container-id-5 {color: black;background-color: white;}#sk-container-id-5 pre{padding: 0;}#sk-container-id-5 div.sk-toggleable {background-color: white;}#sk-container-id-5 label.sk-toggleable__label {cursor: pointer;display: block;width: 100%;margin-bottom: 0;padding: 0.3em;box-sizing: border-box;text-align: center;}#sk-container-id-5 label.sk-toggleable__label-arrow:before {content: \"▸\";float: left;margin-right: 0.25em;color: #696969;}#sk-container-id-5 label.sk-toggleable__label-arrow:hover:before {color: black;}#sk-container-id-5 div.sk-estimator:hover label.sk-toggleable__label-arrow:before {color: black;}#sk-container-id-5 div.sk-toggleable__content {max-height: 0;max-width: 0;overflow: hidden;text-align: left;background-color: #f0f8ff;}#sk-container-id-5 div.sk-toggleable__content pre {margin: 0.2em;color: black;border-radius: 0.25em;background-color: #f0f8ff;}#sk-container-id-5 input.sk-toggleable__control:checked~div.sk-toggleable__content {max-height: 200px;max-width: 100%;overflow: auto;}#sk-container-id-5 input.sk-toggleable__control:checked~label.sk-toggleable__label-arrow:before {content: \"▾\";}#sk-container-id-5 div.sk-estimator input.sk-toggleable__control:checked~label.sk-toggleable__label {background-color: #d4ebff;}#sk-container-id-5 div.sk-label input.sk-toggleable__control:checked~label.sk-toggleable__label {background-color: #d4ebff;}#sk-container-id-5 input.sk-hidden--visually {border: 0;clip: rect(1px 1px 1px 1px);clip: rect(1px, 1px, 1px, 1px);height: 1px;margin: -1px;overflow: hidden;padding: 0;position: absolute;width: 1px;}#sk-container-id-5 div.sk-estimator {font-family: monospace;background-color: #f0f8ff;border: 1px dotted black;border-radius: 0.25em;box-sizing: border-box;margin-bottom: 0.5em;}#sk-container-id-5 div.sk-estimator:hover {background-color: #d4ebff;}#sk-container-id-5 div.sk-parallel-item::after {content: \"\";width: 100%;border-bottom: 1px solid gray;flex-grow: 1;}#sk-container-id-5 div.sk-label:hover label.sk-toggleable__label {background-color: #d4ebff;}#sk-container-id-5 div.sk-serial::before {content: \"\";position: absolute;border-left: 1px solid gray;box-sizing: border-box;top: 0;bottom: 0;left: 50%;z-index: 0;}#sk-container-id-5 div.sk-serial {display: flex;flex-direction: column;align-items: center;background-color: white;padding-right: 0.2em;padding-left: 0.2em;position: relative;}#sk-container-id-5 div.sk-item {position: relative;z-index: 1;}#sk-container-id-5 div.sk-parallel {display: flex;align-items: stretch;justify-content: center;background-color: white;position: relative;}#sk-container-id-5 div.sk-item::before, #sk-container-id-5 div.sk-parallel-item::before {content: \"\";position: absolute;border-left: 1px solid gray;box-sizing: border-box;top: 0;bottom: 0;left: 50%;z-index: -1;}#sk-container-id-5 div.sk-parallel-item {display: flex;flex-direction: column;z-index: 1;position: relative;background-color: white;}#sk-container-id-5 div.sk-parallel-item:first-child::after {align-self: flex-end;width: 50%;}#sk-container-id-5 div.sk-parallel-item:last-child::after {align-self: flex-start;width: 50%;}#sk-container-id-5 div.sk-parallel-item:only-child::after {width: 0;}#sk-container-id-5 div.sk-dashed-wrapped {border: 1px dashed gray;margin: 0 0.4em 0.5em 0.4em;box-sizing: border-box;padding-bottom: 0.4em;background-color: white;}#sk-container-id-5 div.sk-label label {font-family: monospace;font-weight: bold;display: inline-block;line-height: 1.2em;}#sk-container-id-5 div.sk-label-container {text-align: center;}#sk-container-id-5 div.sk-container {/* jupyter's `normalize.less` sets `[hidden] { display: none; }` but bootstrap.min.css set `[hidden] { display: none !important; }` so we also need the `!important` here to be able to override the default hidden behavior on the sphinx rendered scikit-learn.org. See: https://github.com/scikit-learn/scikit-learn/issues/21755 */display: inline-block !important;position: relative;}#sk-container-id-5 div.sk-text-repr-fallback {display: none;}</style><div id=\"sk-container-id-5\" class=\"sk-top-container\"><div class=\"sk-text-repr-fallback\"><pre>GridSearchCV(cv=4, estimator=RandomForestClassifier(n_jobs=-1), n_jobs=-1,\n",
       "             param_grid={&#x27;max_depth&#x27;: [7, 10, 12, 15],\n",
       "                         &#x27;min_samples_split&#x27;: [0.1, 0.3, 0.5],\n",
       "                         &#x27;n_estimators&#x27;: [10, 100, 500]},\n",
       "             scoring=&#x27;accuracy&#x27;, verbose=1)</pre><b>In a Jupyter environment, please rerun this cell to show the HTML representation or trust the notebook. <br />On GitHub, the HTML representation is unable to render, please try loading this page with nbviewer.org.</b></div><div class=\"sk-container\" hidden><div class=\"sk-item sk-dashed-wrapped\"><div class=\"sk-label-container\"><div class=\"sk-label sk-toggleable\"><input class=\"sk-toggleable__control sk-hidden--visually\" id=\"sk-estimator-id-11\" type=\"checkbox\" ><label for=\"sk-estimator-id-11\" class=\"sk-toggleable__label sk-toggleable__label-arrow\">GridSearchCV</label><div class=\"sk-toggleable__content\"><pre>GridSearchCV(cv=4, estimator=RandomForestClassifier(n_jobs=-1), n_jobs=-1,\n",
       "             param_grid={&#x27;max_depth&#x27;: [7, 10, 12, 15],\n",
       "                         &#x27;min_samples_split&#x27;: [0.1, 0.3, 0.5],\n",
       "                         &#x27;n_estimators&#x27;: [10, 100, 500]},\n",
       "             scoring=&#x27;accuracy&#x27;, verbose=1)</pre></div></div></div><div class=\"sk-parallel\"><div class=\"sk-parallel-item\"><div class=\"sk-item\"><div class=\"sk-label-container\"><div class=\"sk-label sk-toggleable\"><input class=\"sk-toggleable__control sk-hidden--visually\" id=\"sk-estimator-id-12\" type=\"checkbox\" ><label for=\"sk-estimator-id-12\" class=\"sk-toggleable__label sk-toggleable__label-arrow\">estimator: RandomForestClassifier</label><div class=\"sk-toggleable__content\"><pre>RandomForestClassifier(n_jobs=-1)</pre></div></div></div><div class=\"sk-serial\"><div class=\"sk-item\"><div class=\"sk-estimator sk-toggleable\"><input class=\"sk-toggleable__control sk-hidden--visually\" id=\"sk-estimator-id-13\" type=\"checkbox\" ><label for=\"sk-estimator-id-13\" class=\"sk-toggleable__label sk-toggleable__label-arrow\">RandomForestClassifier</label><div class=\"sk-toggleable__content\"><pre>RandomForestClassifier(n_jobs=-1)</pre></div></div></div></div></div></div></div></div></div></div>"
      ],
      "text/plain": [
       "GridSearchCV(cv=4, estimator=RandomForestClassifier(n_jobs=-1), n_jobs=-1,\n",
       "             param_grid={'max_depth': [7, 10, 12, 15],\n",
       "                         'min_samples_split': [0.1, 0.3, 0.5],\n",
       "                         'n_estimators': [10, 100, 500]},\n",
       "             scoring='accuracy', verbose=1)"
      ]
     },
     "execution_count": 71,
     "metadata": {},
     "output_type": "execute_result"
    }
   ],
   "source": [
    "%%time\n",
    "grid_search_rfc.fit(df_train[:N], y_train[:N])"
   ]
  },
  {
   "cell_type": "code",
   "execution_count": 72,
   "id": "5be2db8a",
   "metadata": {},
   "outputs": [
    {
     "data": {
      "image/png": "[encoded data removed]",
      "text/plain": [
       "<Figure size 1080x720 with 1 Axes>"
      ]
     },
     "metadata": {
      "needs_background": "light"
     },
     "output_type": "display_data"
    }
   ],
   "source": [
    "df_scores_rfc = pd.DataFrame(grid_search_rfc.cv_results_)\n",
    "\n",
    "labels = np.arange(len(df_scores_rfc))\n",
    "legend = [str(v) for v in df_scores_rfc.params.values]\n",
    "stds = df_scores_rfc.std_test_score\n",
    "means = df_scores_rfc.mean_test_score\n",
    "ix_best_score = np.argmax(means)\n",
    "plt.figure(figsize=(15,10));\n",
    "for i in labels:\n",
    "    if i == ix_best_score:\n",
    "        plt.errorbar(labels[i], means[i], stds[i], fmt='or', lw=4)\n",
    "    else:\n",
    "        plt.errorbar(labels[i], means[i], stds[i], fmt='ok', lw=4)\n",
    "plt.title(f'''Random Forest Hyperparameter Search Scores\\n\n",
    "    Best Params:{legend[ix_best_score]}''');"
   ]
  },
  {
   "cell_type": "code",
   "execution_count": 73,
   "id": "ae34f95b",
   "metadata": {},
   "outputs": [
    {
     "data": {
      "image/png": "[encoded data removed]",
      "text/plain": [
       "<Figure size 432x288 with 1 Axes>"
      ]
     },
     "metadata": {
      "needs_background": "light"
     },
     "output_type": "display_data"
    },
    {
     "data": {
      "image/png": "[encoded data removed]",
      "text/plain": [
       "<Figure size 432x288 with 1 Axes>"
      ]
     },
     "metadata": {
      "needs_background": "light"
     },
     "output_type": "display_data"
    },
    {
     "data": {
      "image/png": "[encoded data removed]",
      "text/plain": [
       "<Figure size 432x288 with 1 Axes>"
      ]
     },
     "metadata": {
      "needs_background": "light"
     },
     "output_type": "display_data"
    }
   ],
   "source": [
    "df_scores_rfc = pd.concat([\n",
    "    df_scores_rfc,\n",
    "    pd.DataFrame.from_records(df_scores_rfc.params.values, index=df_scores_rfc.index)\n",
    "], axis=1)\n",
    "\n",
    "for param in df_scores_rfc.params[0].keys():\n",
    "    groups = df_scores_rfc.groupby(param).mean_test_score\n",
    "    means = groups.mean()\n",
    "    stds = groups.std()\n",
    "    plt.errorbar(means.index, means.values, stds.values, fmt='ok', lw=3);\n",
    "    plt.title(param);\n",
    "    plt.show();"
   ]
  },
  {
   "cell_type": "code",
   "execution_count": 74,
   "id": "d366fb72",
   "metadata": {},
   "outputs": [],
   "source": [
    "tree_params = {\n",
    "    'n_estimators': [100, 200, 500],\n",
    "    'max_depth': [10],\n",
    "    'criterion': ['gini'],\n",
    "    'min_samples_split':[.1],\n",
    "    'min_samples_leaf':[2]\n",
    "}"
   ]
  },
  {
   "cell_type": "code",
   "execution_count": 75,
   "id": "9bcb3be4",
   "metadata": {},
   "outputs": [],
   "source": [
    "grid_search_rfc = GridSearchCV(\n",
    "    estimator=RandomForestClassifier(n_jobs=-1), param_grid=tree_params,\n",
    "    cv=4, n_jobs=-1, verbose=1, scoring='accuracy')"
   ]
  },
  {
   "cell_type": "code",
   "execution_count": 76,
   "id": "977e8f8c",
   "metadata": {},
   "outputs": [
    {
     "name": "stdout",
     "output_type": "stream",
     "text": [
      "Fitting 4 folds for each of 3 candidates, totalling 12 fits\n",
      "CPU times: user 1.74 s, sys: 71.1 ms, total: 1.81 s\n",
      "Wall time: 13.9 s\n"
     ]
    },
    {
     "data": {
      "text/html": [
       "<style>#sk-container-id-6 {color: black;background-color: white;}#sk-container-id-6 pre{padding: 0;}#sk-container-id-6 div.sk-toggleable {background-color: white;}#sk-container-id-6 label.sk-toggleable__label {cursor: pointer;display: block;width: 100%;margin-bottom: 0;padding: 0.3em;box-sizing: border-box;text-align: center;}#sk-container-id-6 label.sk-toggleable__label-arrow:before {content: \"▸\";float: left;margin-right: 0.25em;color: #696969;}#sk-container-id-6 label.sk-toggleable__label-arrow:hover:before {color: black;}#sk-container-id-6 div.sk-estimator:hover label.sk-toggleable__label-arrow:before {color: black;}#sk-container-id-6 div.sk-toggleable__content {max-height: 0;max-width: 0;overflow: hidden;text-align: left;background-color: #f0f8ff;}#sk-container-id-6 div.sk-toggleable__content pre {margin: 0.2em;color: black;border-radius: 0.25em;background-color: #f0f8ff;}#sk-container-id-6 input.sk-toggleable__control:checked~div.sk-toggleable__content {max-height: 200px;max-width: 100%;overflow: auto;}#sk-container-id-6 input.sk-toggleable__control:checked~label.sk-toggleable__label-arrow:before {content: \"▾\";}#sk-container-id-6 div.sk-estimator input.sk-toggleable__control:checked~label.sk-toggleable__label {background-color: #d4ebff;}#sk-container-id-6 div.sk-label input.sk-toggleable__control:checked~label.sk-toggleable__label {background-color: #d4ebff;}#sk-container-id-6 input.sk-hidden--visually {border: 0;clip: rect(1px 1px 1px 1px);clip: rect(1px, 1px, 1px, 1px);height: 1px;margin: -1px;overflow: hidden;padding: 0;position: absolute;width: 1px;}#sk-container-id-6 div.sk-estimator {font-family: monospace;background-color: #f0f8ff;border: 1px dotted black;border-radius: 0.25em;box-sizing: border-box;margin-bottom: 0.5em;}#sk-container-id-6 div.sk-estimator:hover {background-color: #d4ebff;}#sk-container-id-6 div.sk-parallel-item::after {content: \"\";width: 100%;border-bottom: 1px solid gray;flex-grow: 1;}#sk-container-id-6 div.sk-label:hover label.sk-toggleable__label {background-color: #d4ebff;}#sk-container-id-6 div.sk-serial::before {content: \"\";position: absolute;border-left: 1px solid gray;box-sizing: border-box;top: 0;bottom: 0;left: 50%;z-index: 0;}#sk-container-id-6 div.sk-serial {display: flex;flex-direction: column;align-items: center;background-color: white;padding-right: 0.2em;padding-left: 0.2em;position: relative;}#sk-container-id-6 div.sk-item {position: relative;z-index: 1;}#sk-container-id-6 div.sk-parallel {display: flex;align-items: stretch;justify-content: center;background-color: white;position: relative;}#sk-container-id-6 div.sk-item::before, #sk-container-id-6 div.sk-parallel-item::before {content: \"\";position: absolute;border-left: 1px solid gray;box-sizing: border-box;top: 0;bottom: 0;left: 50%;z-index: -1;}#sk-container-id-6 div.sk-parallel-item {display: flex;flex-direction: column;z-index: 1;position: relative;background-color: white;}#sk-container-id-6 div.sk-parallel-item:first-child::after {align-self: flex-end;width: 50%;}#sk-container-id-6 div.sk-parallel-item:last-child::after {align-self: flex-start;width: 50%;}#sk-container-id-6 div.sk-parallel-item:only-child::after {width: 0;}#sk-container-id-6 div.sk-dashed-wrapped {border: 1px dashed gray;margin: 0 0.4em 0.5em 0.4em;box-sizing: border-box;padding-bottom: 0.4em;background-color: white;}#sk-container-id-6 div.sk-label label {font-family: monospace;font-weight: bold;display: inline-block;line-height: 1.2em;}#sk-container-id-6 div.sk-label-container {text-align: center;}#sk-container-id-6 div.sk-container {/* jupyter's `normalize.less` sets `[hidden] { display: none; }` but bootstrap.min.css set `[hidden] { display: none !important; }` so we also need the `!important` here to be able to override the default hidden behavior on the sphinx rendered scikit-learn.org. See: https://github.com/scikit-learn/scikit-learn/issues/21755 */display: inline-block !important;position: relative;}#sk-container-id-6 div.sk-text-repr-fallback {display: none;}</style><div id=\"sk-container-id-6\" class=\"sk-top-container\"><div class=\"sk-text-repr-fallback\"><pre>GridSearchCV(cv=4, estimator=RandomForestClassifier(n_jobs=-1), n_jobs=-1,\n",
       "             param_grid={&#x27;criterion&#x27;: [&#x27;gini&#x27;], &#x27;max_depth&#x27;: [10],\n",
       "                         &#x27;min_samples_leaf&#x27;: [2], &#x27;min_samples_split&#x27;: [0.1],\n",
       "                         &#x27;n_estimators&#x27;: [100, 200, 500]},\n",
       "             scoring=&#x27;accuracy&#x27;, verbose=1)</pre><b>In a Jupyter environment, please rerun this cell to show the HTML representation or trust the notebook. <br />On GitHub, the HTML representation is unable to render, please try loading this page with nbviewer.org.</b></div><div class=\"sk-container\" hidden><div class=\"sk-item sk-dashed-wrapped\"><div class=\"sk-label-container\"><div class=\"sk-label sk-toggleable\"><input class=\"sk-toggleable__control sk-hidden--visually\" id=\"sk-estimator-id-14\" type=\"checkbox\" ><label for=\"sk-estimator-id-14\" class=\"sk-toggleable__label sk-toggleable__label-arrow\">GridSearchCV</label><div class=\"sk-toggleable__content\"><pre>GridSearchCV(cv=4, estimator=RandomForestClassifier(n_jobs=-1), n_jobs=-1,\n",
       "             param_grid={&#x27;criterion&#x27;: [&#x27;gini&#x27;], &#x27;max_depth&#x27;: [10],\n",
       "                         &#x27;min_samples_leaf&#x27;: [2], &#x27;min_samples_split&#x27;: [0.1],\n",
       "                         &#x27;n_estimators&#x27;: [100, 200, 500]},\n",
       "             scoring=&#x27;accuracy&#x27;, verbose=1)</pre></div></div></div><div class=\"sk-parallel\"><div class=\"sk-parallel-item\"><div class=\"sk-item\"><div class=\"sk-label-container\"><div class=\"sk-label sk-toggleable\"><input class=\"sk-toggleable__control sk-hidden--visually\" id=\"sk-estimator-id-15\" type=\"checkbox\" ><label for=\"sk-estimator-id-15\" class=\"sk-toggleable__label sk-toggleable__label-arrow\">estimator: RandomForestClassifier</label><div class=\"sk-toggleable__content\"><pre>RandomForestClassifier(n_jobs=-1)</pre></div></div></div><div class=\"sk-serial\"><div class=\"sk-item\"><div class=\"sk-estimator sk-toggleable\"><input class=\"sk-toggleable__control sk-hidden--visually\" id=\"sk-estimator-id-16\" type=\"checkbox\" ><label for=\"sk-estimator-id-16\" class=\"sk-toggleable__label sk-toggleable__label-arrow\">RandomForestClassifier</label><div class=\"sk-toggleable__content\"><pre>RandomForestClassifier(n_jobs=-1)</pre></div></div></div></div></div></div></div></div></div></div>"
      ],
      "text/plain": [
       "GridSearchCV(cv=4, estimator=RandomForestClassifier(n_jobs=-1), n_jobs=-1,\n",
       "             param_grid={'criterion': ['gini'], 'max_depth': [10],\n",
       "                         'min_samples_leaf': [2], 'min_samples_split': [0.1],\n",
       "                         'n_estimators': [100, 200, 500]},\n",
       "             scoring='accuracy', verbose=1)"
      ]
     },
     "execution_count": 76,
     "metadata": {},
     "output_type": "execute_result"
    }
   ],
   "source": [
    "%%time\n",
    "grid_search_rfc.fit(df_train[:N], y_train[:N])"
   ]
  },
  {
   "cell_type": "markdown",
   "id": "430baefc",
   "metadata": {},
   "source": [
    "- Last round drilling down into n_estimators"
   ]
  },
  {
   "cell_type": "code",
   "execution_count": 77,
   "id": "c77f8a12",
   "metadata": {},
   "outputs": [
    {
     "data": {
      "text/plain": [
       "{100: 0.6987, 200: 0.6975, 500: 0.6980000000000001}"
      ]
     },
     "execution_count": 77,
     "metadata": {},
     "output_type": "execute_result"
    }
   ],
   "source": [
    "df_scores_rfc = pd.DataFrame(grid_search_rfc.cv_results_)\n",
    "dict(zip(df_scores_rfc.param_n_estimators, df_scores_rfc.mean_test_score))"
   ]
  },
  {
   "cell_type": "markdown",
   "id": "39768744",
   "metadata": {},
   "source": [
    "- Performance seems to level off in the range of 100-200 estimators"
   ]
  },
  {
   "cell_type": "markdown",
   "id": "619540ac",
   "metadata": {},
   "source": [
    "### Rerun last gridsearch on an N of 100k (up from 10k)"
   ]
  },
  {
   "cell_type": "code",
   "execution_count": 78,
   "id": "77b7ec90",
   "metadata": {},
   "outputs": [],
   "source": [
    "tree_params = {\n",
    "    'n_estimators': [100, 200, 500],\n",
    "    'min_samples_leaf':[2, 3, 5]\n",
    "}"
   ]
  },
  {
   "cell_type": "code",
   "execution_count": 79,
   "id": "170d13a7",
   "metadata": {},
   "outputs": [],
   "source": [
    "grid_search_rfc = GridSearchCV(\n",
    "    estimator=rfc_model, param_grid=tree_params,\n",
    "    cv=4, n_jobs=-1, verbose=1, scoring='accuracy')"
   ]
  },
  {
   "cell_type": "code",
   "execution_count": 80,
   "id": "8f2ade66",
   "metadata": {},
   "outputs": [
    {
     "name": "stdout",
     "output_type": "stream",
     "text": [
      "Fitting 4 folds for each of 9 candidates, totalling 36 fits\n",
      "CPU times: user 6min 38s, sys: 6.27 s, total: 6min 44s\n",
      "Wall time: 25min 10s\n"
     ]
    },
    {
     "data": {
      "text/html": [
       "<style>#sk-container-id-7 {color: black;background-color: white;}#sk-container-id-7 pre{padding: 0;}#sk-container-id-7 div.sk-toggleable {background-color: white;}#sk-container-id-7 label.sk-toggleable__label {cursor: pointer;display: block;width: 100%;margin-bottom: 0;padding: 0.3em;box-sizing: border-box;text-align: center;}#sk-container-id-7 label.sk-toggleable__label-arrow:before {content: \"▸\";float: left;margin-right: 0.25em;color: #696969;}#sk-container-id-7 label.sk-toggleable__label-arrow:hover:before {color: black;}#sk-container-id-7 div.sk-estimator:hover label.sk-toggleable__label-arrow:before {color: black;}#sk-container-id-7 div.sk-toggleable__content {max-height: 0;max-width: 0;overflow: hidden;text-align: left;background-color: #f0f8ff;}#sk-container-id-7 div.sk-toggleable__content pre {margin: 0.2em;color: black;border-radius: 0.25em;background-color: #f0f8ff;}#sk-container-id-7 input.sk-toggleable__control:checked~div.sk-toggleable__content {max-height: 200px;max-width: 100%;overflow: auto;}#sk-container-id-7 input.sk-toggleable__control:checked~label.sk-toggleable__label-arrow:before {content: \"▾\";}#sk-container-id-7 div.sk-estimator input.sk-toggleable__control:checked~label.sk-toggleable__label {background-color: #d4ebff;}#sk-container-id-7 div.sk-label input.sk-toggleable__control:checked~label.sk-toggleable__label {background-color: #d4ebff;}#sk-container-id-7 input.sk-hidden--visually {border: 0;clip: rect(1px 1px 1px 1px);clip: rect(1px, 1px, 1px, 1px);height: 1px;margin: -1px;overflow: hidden;padding: 0;position: absolute;width: 1px;}#sk-container-id-7 div.sk-estimator {font-family: monospace;background-color: #f0f8ff;border: 1px dotted black;border-radius: 0.25em;box-sizing: border-box;margin-bottom: 0.5em;}#sk-container-id-7 div.sk-estimator:hover {background-color: #d4ebff;}#sk-container-id-7 div.sk-parallel-item::after {content: \"\";width: 100%;border-bottom: 1px solid gray;flex-grow: 1;}#sk-container-id-7 div.sk-label:hover label.sk-toggleable__label {background-color: #d4ebff;}#sk-container-id-7 div.sk-serial::before {content: \"\";position: absolute;border-left: 1px solid gray;box-sizing: border-box;top: 0;bottom: 0;left: 50%;z-index: 0;}#sk-container-id-7 div.sk-serial {display: flex;flex-direction: column;align-items: center;background-color: white;padding-right: 0.2em;padding-left: 0.2em;position: relative;}#sk-container-id-7 div.sk-item {position: relative;z-index: 1;}#sk-container-id-7 div.sk-parallel {display: flex;align-items: stretch;justify-content: center;background-color: white;position: relative;}#sk-container-id-7 div.sk-item::before, #sk-container-id-7 div.sk-parallel-item::before {content: \"\";position: absolute;border-left: 1px solid gray;box-sizing: border-box;top: 0;bottom: 0;left: 50%;z-index: -1;}#sk-container-id-7 div.sk-parallel-item {display: flex;flex-direction: column;z-index: 1;position: relative;background-color: white;}#sk-container-id-7 div.sk-parallel-item:first-child::after {align-self: flex-end;width: 50%;}#sk-container-id-7 div.sk-parallel-item:last-child::after {align-self: flex-start;width: 50%;}#sk-container-id-7 div.sk-parallel-item:only-child::after {width: 0;}#sk-container-id-7 div.sk-dashed-wrapped {border: 1px dashed gray;margin: 0 0.4em 0.5em 0.4em;box-sizing: border-box;padding-bottom: 0.4em;background-color: white;}#sk-container-id-7 div.sk-label label {font-family: monospace;font-weight: bold;display: inline-block;line-height: 1.2em;}#sk-container-id-7 div.sk-label-container {text-align: center;}#sk-container-id-7 div.sk-container {/* jupyter's `normalize.less` sets `[hidden] { display: none; }` but bootstrap.min.css set `[hidden] { display: none !important; }` so we also need the `!important` here to be able to override the default hidden behavior on the sphinx rendered scikit-learn.org. See: https://github.com/scikit-learn/scikit-learn/issues/21755 */display: inline-block !important;position: relative;}#sk-container-id-7 div.sk-text-repr-fallback {display: none;}</style><div id=\"sk-container-id-7\" class=\"sk-top-container\"><div class=\"sk-text-repr-fallback\"><pre>GridSearchCV(cv=4, estimator=RandomForestClassifier(n_jobs=-1), n_jobs=-1,\n",
       "             param_grid={&#x27;min_samples_leaf&#x27;: [2, 3, 5],\n",
       "                         &#x27;n_estimators&#x27;: [100, 200, 500]},\n",
       "             scoring=&#x27;accuracy&#x27;, verbose=1)</pre><b>In a Jupyter environment, please rerun this cell to show the HTML representation or trust the notebook. <br />On GitHub, the HTML representation is unable to render, please try loading this page with nbviewer.org.</b></div><div class=\"sk-container\" hidden><div class=\"sk-item sk-dashed-wrapped\"><div class=\"sk-label-container\"><div class=\"sk-label sk-toggleable\"><input class=\"sk-toggleable__control sk-hidden--visually\" id=\"sk-estimator-id-17\" type=\"checkbox\" ><label for=\"sk-estimator-id-17\" class=\"sk-toggleable__label sk-toggleable__label-arrow\">GridSearchCV</label><div class=\"sk-toggleable__content\"><pre>GridSearchCV(cv=4, estimator=RandomForestClassifier(n_jobs=-1), n_jobs=-1,\n",
       "             param_grid={&#x27;min_samples_leaf&#x27;: [2, 3, 5],\n",
       "                         &#x27;n_estimators&#x27;: [100, 200, 500]},\n",
       "             scoring=&#x27;accuracy&#x27;, verbose=1)</pre></div></div></div><div class=\"sk-parallel\"><div class=\"sk-parallel-item\"><div class=\"sk-item\"><div class=\"sk-label-container\"><div class=\"sk-label sk-toggleable\"><input class=\"sk-toggleable__control sk-hidden--visually\" id=\"sk-estimator-id-18\" type=\"checkbox\" ><label for=\"sk-estimator-id-18\" class=\"sk-toggleable__label sk-toggleable__label-arrow\">estimator: RandomForestClassifier</label><div class=\"sk-toggleable__content\"><pre>RandomForestClassifier(n_jobs=-1)</pre></div></div></div><div class=\"sk-serial\"><div class=\"sk-item\"><div class=\"sk-estimator sk-toggleable\"><input class=\"sk-toggleable__control sk-hidden--visually\" id=\"sk-estimator-id-19\" type=\"checkbox\" ><label for=\"sk-estimator-id-19\" class=\"sk-toggleable__label sk-toggleable__label-arrow\">RandomForestClassifier</label><div class=\"sk-toggleable__content\"><pre>RandomForestClassifier(n_jobs=-1)</pre></div></div></div></div></div></div></div></div></div></div>"
      ],
      "text/plain": [
       "GridSearchCV(cv=4, estimator=RandomForestClassifier(n_jobs=-1), n_jobs=-1,\n",
       "             param_grid={'min_samples_leaf': [2, 3, 5],\n",
       "                         'n_estimators': [100, 200, 500]},\n",
       "             scoring='accuracy', verbose=1)"
      ]
     },
     "execution_count": 80,
     "metadata": {},
     "output_type": "execute_result"
    }
   ],
   "source": [
    "%%time\n",
    "grid_search_rfc.fit(df_train[:100_000], y_train[:100_000])"
   ]
  },
  {
   "cell_type": "code",
   "execution_count": 81,
   "id": "879ba182",
   "metadata": {},
   "outputs": [
    {
     "data": {
      "image/png": "[encoded data removed]",
      "text/plain": [
       "<Figure size 432x288 with 1 Axes>"
      ]
     },
     "metadata": {
      "needs_background": "light"
     },
     "output_type": "display_data"
    },
    {
     "data": {
      "image/png": "[encoded data removed]",
      "text/plain": [
       "<Figure size 432x288 with 1 Axes>"
      ]
     },
     "metadata": {
      "needs_background": "light"
     },
     "output_type": "display_data"
    }
   ],
   "source": [
    "df_scores_rfc = pd.DataFrame(grid_search_rfc.cv_results_)\n",
    "\n",
    "df_scores_rfc = pd.concat([\n",
    "    df_scores_rfc,\n",
    "    pd.DataFrame.from_records(df_scores_rfc.params.values, index=df_scores_rfc.index)\n",
    "], axis=1)\n",
    "\n",
    "for param in df_scores_rfc.params[0].keys():\n",
    "    groups = df_scores_rfc.groupby(param).mean_test_score\n",
    "    means = groups.mean()\n",
    "    stds = groups.std()\n",
    "    plt.errorbar(means.index, means.values, stds.values, fmt='ok', lw=3);\n",
    "    plt.title(param);\n",
    "    plt.show();"
   ]
  },
  {
   "cell_type": "code",
   "execution_count": 82,
   "id": "96b0274a",
   "metadata": {},
   "outputs": [
    {
     "data": {
      "text/plain": [
       "0.72307"
      ]
     },
     "execution_count": 82,
     "metadata": {},
     "output_type": "execute_result"
    }
   ],
   "source": [
    "df_scores_rfc.mean_test_score.max()"
   ]
  },
  {
   "cell_type": "code",
   "execution_count": null,
   "id": "d4b0d600",
   "metadata": {},
   "outputs": [],
   "source": []
  },
  {
   "cell_type": "code",
   "execution_count": null,
   "id": "72a4f728",
   "metadata": {},
   "outputs": [],
   "source": []
  },
  {
   "cell_type": "code",
   "execution_count": 83,
   "id": "f0b01309",
   "metadata": {},
   "outputs": [
    {
     "name": "stdout",
     "output_type": "stream",
     "text": [
      "Fitting 2 folds for each of 4 candidates, totalling 8 fits\n",
      "CPU times: user 7.83 s, sys: 231 ms, total: 8.06 s\n",
      "Wall time: 15.2 s\n"
     ]
    },
    {
     "data": {
      "text/html": [
       "<style>#sk-container-id-8 {color: black;background-color: white;}#sk-container-id-8 pre{padding: 0;}#sk-container-id-8 div.sk-toggleable {background-color: white;}#sk-container-id-8 label.sk-toggleable__label {cursor: pointer;display: block;width: 100%;margin-bottom: 0;padding: 0.3em;box-sizing: border-box;text-align: center;}#sk-container-id-8 label.sk-toggleable__label-arrow:before {content: \"▸\";float: left;margin-right: 0.25em;color: #696969;}#sk-container-id-8 label.sk-toggleable__label-arrow:hover:before {color: black;}#sk-container-id-8 div.sk-estimator:hover label.sk-toggleable__label-arrow:before {color: black;}#sk-container-id-8 div.sk-toggleable__content {max-height: 0;max-width: 0;overflow: hidden;text-align: left;background-color: #f0f8ff;}#sk-container-id-8 div.sk-toggleable__content pre {margin: 0.2em;color: black;border-radius: 0.25em;background-color: #f0f8ff;}#sk-container-id-8 input.sk-toggleable__control:checked~div.sk-toggleable__content {max-height: 200px;max-width: 100%;overflow: auto;}#sk-container-id-8 input.sk-toggleable__control:checked~label.sk-toggleable__label-arrow:before {content: \"▾\";}#sk-container-id-8 div.sk-estimator input.sk-toggleable__control:checked~label.sk-toggleable__label {background-color: #d4ebff;}#sk-container-id-8 div.sk-label input.sk-toggleable__control:checked~label.sk-toggleable__label {background-color: #d4ebff;}#sk-container-id-8 input.sk-hidden--visually {border: 0;clip: rect(1px 1px 1px 1px);clip: rect(1px, 1px, 1px, 1px);height: 1px;margin: -1px;overflow: hidden;padding: 0;position: absolute;width: 1px;}#sk-container-id-8 div.sk-estimator {font-family: monospace;background-color: #f0f8ff;border: 1px dotted black;border-radius: 0.25em;box-sizing: border-box;margin-bottom: 0.5em;}#sk-container-id-8 div.sk-estimator:hover {background-color: #d4ebff;}#sk-container-id-8 div.sk-parallel-item::after {content: \"\";width: 100%;border-bottom: 1px solid gray;flex-grow: 1;}#sk-container-id-8 div.sk-label:hover label.sk-toggleable__label {background-color: #d4ebff;}#sk-container-id-8 div.sk-serial::before {content: \"\";position: absolute;border-left: 1px solid gray;box-sizing: border-box;top: 0;bottom: 0;left: 50%;z-index: 0;}#sk-container-id-8 div.sk-serial {display: flex;flex-direction: column;align-items: center;background-color: white;padding-right: 0.2em;padding-left: 0.2em;position: relative;}#sk-container-id-8 div.sk-item {position: relative;z-index: 1;}#sk-container-id-8 div.sk-parallel {display: flex;align-items: stretch;justify-content: center;background-color: white;position: relative;}#sk-container-id-8 div.sk-item::before, #sk-container-id-8 div.sk-parallel-item::before {content: \"\";position: absolute;border-left: 1px solid gray;box-sizing: border-box;top: 0;bottom: 0;left: 50%;z-index: -1;}#sk-container-id-8 div.sk-parallel-item {display: flex;flex-direction: column;z-index: 1;position: relative;background-color: white;}#sk-container-id-8 div.sk-parallel-item:first-child::after {align-self: flex-end;width: 50%;}#sk-container-id-8 div.sk-parallel-item:last-child::after {align-self: flex-start;width: 50%;}#sk-container-id-8 div.sk-parallel-item:only-child::after {width: 0;}#sk-container-id-8 div.sk-dashed-wrapped {border: 1px dashed gray;margin: 0 0.4em 0.5em 0.4em;box-sizing: border-box;padding-bottom: 0.4em;background-color: white;}#sk-container-id-8 div.sk-label label {font-family: monospace;font-weight: bold;display: inline-block;line-height: 1.2em;}#sk-container-id-8 div.sk-label-container {text-align: center;}#sk-container-id-8 div.sk-container {/* jupyter's `normalize.less` sets `[hidden] { display: none; }` but bootstrap.min.css set `[hidden] { display: none !important; }` so we also need the `!important` here to be able to override the default hidden behavior on the sphinx rendered scikit-learn.org. See: https://github.com/scikit-learn/scikit-learn/issues/21755 */display: inline-block !important;position: relative;}#sk-container-id-8 div.sk-text-repr-fallback {display: none;}</style><div id=\"sk-container-id-8\" class=\"sk-top-container\"><div class=\"sk-text-repr-fallback\"><pre>GridSearchCV(cv=2, estimator=RandomForestClassifier(n_jobs=-1), n_jobs=-1,\n",
       "             param_grid={&#x27;max_depth&#x27;: [10, 20], &#x27;min_samples_leaf&#x27;: [5],\n",
       "                         &#x27;n_estimators&#x27;: [100, 200]},\n",
       "             scoring=&#x27;accuracy&#x27;, verbose=1)</pre><b>In a Jupyter environment, please rerun this cell to show the HTML representation or trust the notebook. <br />On GitHub, the HTML representation is unable to render, please try loading this page with nbviewer.org.</b></div><div class=\"sk-container\" hidden><div class=\"sk-item sk-dashed-wrapped\"><div class=\"sk-label-container\"><div class=\"sk-label sk-toggleable\"><input class=\"sk-toggleable__control sk-hidden--visually\" id=\"sk-estimator-id-20\" type=\"checkbox\" ><label for=\"sk-estimator-id-20\" class=\"sk-toggleable__label sk-toggleable__label-arrow\">GridSearchCV</label><div class=\"sk-toggleable__content\"><pre>GridSearchCV(cv=2, estimator=RandomForestClassifier(n_jobs=-1), n_jobs=-1,\n",
       "             param_grid={&#x27;max_depth&#x27;: [10, 20], &#x27;min_samples_leaf&#x27;: [5],\n",
       "                         &#x27;n_estimators&#x27;: [100, 200]},\n",
       "             scoring=&#x27;accuracy&#x27;, verbose=1)</pre></div></div></div><div class=\"sk-parallel\"><div class=\"sk-parallel-item\"><div class=\"sk-item\"><div class=\"sk-label-container\"><div class=\"sk-label sk-toggleable\"><input class=\"sk-toggleable__control sk-hidden--visually\" id=\"sk-estimator-id-21\" type=\"checkbox\" ><label for=\"sk-estimator-id-21\" class=\"sk-toggleable__label sk-toggleable__label-arrow\">estimator: RandomForestClassifier</label><div class=\"sk-toggleable__content\"><pre>RandomForestClassifier(n_jobs=-1)</pre></div></div></div><div class=\"sk-serial\"><div class=\"sk-item\"><div class=\"sk-estimator sk-toggleable\"><input class=\"sk-toggleable__control sk-hidden--visually\" id=\"sk-estimator-id-22\" type=\"checkbox\" ><label for=\"sk-estimator-id-22\" class=\"sk-toggleable__label sk-toggleable__label-arrow\">RandomForestClassifier</label><div class=\"sk-toggleable__content\"><pre>RandomForestClassifier(n_jobs=-1)</pre></div></div></div></div></div></div></div></div></div></div>"
      ],
      "text/plain": [
       "GridSearchCV(cv=2, estimator=RandomForestClassifier(n_jobs=-1), n_jobs=-1,\n",
       "             param_grid={'max_depth': [10, 20], 'min_samples_leaf': [5],\n",
       "                         'n_estimators': [100, 200]},\n",
       "             scoring='accuracy', verbose=1)"
      ]
     },
     "execution_count": 83,
     "metadata": {},
     "output_type": "execute_result"
    }
   ],
   "source": [
    "%%time\n",
    "tree_params = {\n",
    "    'n_estimators': [100, 200],\n",
    "    'max_depth': [10, 20],\n",
    "    'min_samples_leaf': [5],\n",
    "}\n",
    "rfc_model = RandomForestClassifier(n_jobs=-1)\n",
    "grid_search_rfc = GridSearchCV(\n",
    "    estimator=rfc_model, param_grid=tree_params,\n",
    "    cv=2, n_jobs=-1, verbose=1, scoring='accuracy')\n",
    "grid_search_rfc.fit(df_train[:N], y_train[:N])"
   ]
  },
  {
   "cell_type": "code",
   "execution_count": 84,
   "id": "efc03c3b",
   "metadata": {},
   "outputs": [
    {
     "data": {
      "text/plain": [
       "0.7046"
      ]
     },
     "execution_count": 84,
     "metadata": {},
     "output_type": "execute_result"
    }
   ],
   "source": [
    "pd.DataFrame(grid_search_rfc.cv_results_).mean_test_score.max()"
   ]
  },
  {
   "cell_type": "code",
   "execution_count": 85,
   "id": "245fd73d",
   "metadata": {},
   "outputs": [
    {
     "data": {
      "image/png": "[encoded data removed]",
      "text/plain": [
       "<Figure size 1080x720 with 1 Axes>"
      ]
     },
     "metadata": {
      "needs_background": "light"
     },
     "output_type": "display_data"
    }
   ],
   "source": [
    "df_scores_rfc = pd.DataFrame(grid_search_rfc.cv_results_)\n",
    "\n",
    "labels = np.arange(len(df_scores_rfc))\n",
    "legend = [str(v) for v in df_scores_rfc.params.values]\n",
    "stds = df_scores_rfc.std_test_score\n",
    "means = df_scores_rfc.mean_test_score\n",
    "ix_best_score = np.argmax(means)\n",
    "plt.figure(figsize=(15,10));\n",
    "for i in labels:\n",
    "    if i == ix_best_score:\n",
    "        plt.errorbar(labels[i], means[i], stds[i], fmt='or', lw=4)\n",
    "    else:\n",
    "        plt.errorbar(labels[i], means[i], stds[i], fmt='ok', lw=4)\n",
    "# plt.legend(str(legend[ix_best_score]));\n",
    "plt.title(f'''Random Forest Hyperparameter Search Scores\\n\n",
    "    Best Params:{legend[ix_best_score]}''');"
   ]
  },
  {
   "cell_type": "code",
   "execution_count": 86,
   "id": "c30934fe",
   "metadata": {},
   "outputs": [
    {
     "name": "stdout",
     "output_type": "stream",
     "text": [
      "CPU times: user 4min 5s, sys: 3.17 s, total: 4min 8s\n",
      "Wall time: 1min 28s\n"
     ]
    },
    {
     "data": {
      "text/plain": [
       "0.7159659080799274"
      ]
     },
     "execution_count": 86,
     "metadata": {},
     "output_type": "execute_result"
    }
   ],
   "source": [
    "%%time\n",
    "rfc_model = RandomForestClassifier(n_jobs=-1, **df_scores_rfc.params[ix_best_score])\n",
    "rfc_model.fit(df_train, y_train)\n",
    "rfc_model.score(df_test, y_test)"
   ]
  },
  {
   "cell_type": "markdown",
   "id": "cd13f425",
   "metadata": {},
   "source": [
    "### RF HP Tuning Remarks\n",
    "- This would be much less messy with more compute\n",
    "- I tried to approximate a joint param grid search with a sequence of smaller searches b/c I'm doing this on a laptop with limited computing power"
   ]
  },
  {
   "cell_type": "code",
   "execution_count": null,
   "id": "2ddc4b50",
   "metadata": {},
   "outputs": [],
   "source": []
  },
  {
   "cell_type": "markdown",
   "id": "301f5ffd",
   "metadata": {},
   "source": [
    "## Model Evaluation <a class=\"anchor\" id=\"model-evaluation\"></a>\n",
    "- Use the results from grid search to compare model performances on the test set"
   ]
  },
  {
   "cell_type": "code",
   "execution_count": 87,
   "id": "15a7c02d",
   "metadata": {},
   "outputs": [],
   "source": [
    "from sklearn.metrics import confusion_matrix, accuracy_score, f1_score"
   ]
  },
  {
   "cell_type": "code",
   "execution_count": 88,
   "id": "0916b18d",
   "metadata": {},
   "outputs": [],
   "source": [
    "def score_model(y_true, y_pred):\n",
    "    p = 3 # precision\n",
    "    cm = confusion_matrix(y_true, y_pred, normalize='all')\n",
    "    acc = (y_true==y_pred).sum()/len(y_true)\n",
    "    f1 = f1_score(y_true, y_pred)\n",
    "    return {\n",
    "          'accuracy': round(acc, p)\n",
    "        , 'f1': round(f1, p)\n",
    "        , 'confusion_matrix': pd.DataFrame(cm)\n",
    "    }"
   ]
  },
  {
   "cell_type": "code",
   "execution_count": 89,
   "id": "dff48206",
   "metadata": {},
   "outputs": [
    {
     "data": {
      "text/plain": [
       "{'learning_rate': 0.1,\n",
       " 'max_depth': None,\n",
       " 'max_iter': 200,\n",
       " 'max_leaf_nodes': 31,\n",
       " 'min_samples_leaf': 20}"
      ]
     },
     "execution_count": 89,
     "metadata": {},
     "output_type": "execute_result"
    }
   ],
   "source": [
    "best_hgbt_params"
   ]
  },
  {
   "cell_type": "code",
   "execution_count": 101,
   "id": "d69c9a83",
   "metadata": {},
   "outputs": [
    {
     "name": "stdout",
     "output_type": "stream",
     "text": [
      "hgbt params* {'learning_rate': 0.1, 'max_depth': None, 'max_iter': 200, 'max_leaf_nodes': 31, 'min_samples_leaf': 20}\n",
      "logreg params* {'C': 1.0, 'l1_ratio': 1.0, 'solver': 'saga', 'warm_start': True, 'n_jobs': -1, 'penalty': 'elasticnet'}\n",
      "rf_params* {'n_jobs': -1, 'n_estimators': 500, 'max_depth': 20, 'criterion': 'gini', 'min_samples_leaf': 5}\n"
     ]
    }
   ],
   "source": [
    "# \"star\" meaning optimal\n",
    "hgbt_params_star = best_hgbt_params\n",
    "print('hgbt params*', hgbt_params_star)\n",
    "\n",
    "logreg_params_star = logistic_params_star\n",
    "print('logreg params*', logreg_params_star)\n",
    "\n",
    "rf_params_star = {\n",
    "    'n_jobs':-1,\n",
    "    'n_estimators': 500,\n",
    "     'max_depth': 20,\n",
    "    'criterion': 'gini',\n",
    "    'min_samples_leaf': 5\n",
    "}\n",
    "print('rf_params*', rf_params_star)"
   ]
  },
  {
   "cell_type": "code",
   "execution_count": 94,
   "id": "b9bcfa6b",
   "metadata": {},
   "outputs": [],
   "source": [
    "# Instantiate base models\n",
    "hgbt_model = HGBT(**hgbt_params_star)\n",
    "logistic_model = LR(**logreg_params_star)\n",
    "rfc_model = RandomForestClassifier(**rf_params_star)"
   ]
  },
  {
   "cell_type": "code",
   "execution_count": 95,
   "id": "928d9bb2",
   "metadata": {},
   "outputs": [
    {
     "name": "stdout",
     "output_type": "stream",
     "text": [
      "CPU times: user 21.1 s, sys: 1.42 s, total: 22.5 s\n",
      "Wall time: 7.73 s\n"
     ]
    },
    {
     "data": {
      "text/plain": [
       "0.7251650326506646"
      ]
     },
     "execution_count": 95,
     "metadata": {},
     "output_type": "execute_result"
    }
   ],
   "source": [
    "%%time\n",
    "hgbt_model.fit(df_train, y_train)\n",
    "hgbt_model.score(df_test, y_test)"
   ]
  },
  {
   "cell_type": "code",
   "execution_count": 96,
   "id": "da65581f",
   "metadata": {},
   "outputs": [
    {
     "data": {
      "text/plain": [
       "{'accuracy': 0.725,\n",
       " 'f1': 0.697,\n",
       " 'confusion_matrix':           0         1\n",
       " 0  0.409139  0.090230\n",
       " 1  0.184605  0.316026}"
      ]
     },
     "execution_count": 96,
     "metadata": {},
     "output_type": "execute_result"
    }
   ],
   "source": [
    "score_model(y_test, hgbt_model.predict(df_test))"
   ]
  },
  {
   "cell_type": "code",
   "execution_count": 97,
   "id": "da0ae353",
   "metadata": {},
   "outputs": [
    {
     "name": "stdout",
     "output_type": "stream",
     "text": [
      "CPU times: user 2.74 s, sys: 56.7 ms, total: 2.8 s\n",
      "Wall time: 2.68 s\n"
     ]
    },
    {
     "data": {
      "text/plain": [
       "0.6963221294994751"
      ]
     },
     "execution_count": 97,
     "metadata": {},
     "output_type": "execute_result"
    }
   ],
   "source": [
    "%%time\n",
    "logistic_model.fit(df_train, y_train)\n",
    "logistic_model.score(df_test, y_test)"
   ]
  },
  {
   "cell_type": "code",
   "execution_count": 98,
   "id": "a11756dc",
   "metadata": {},
   "outputs": [
    {
     "data": {
      "text/plain": [
       "{'accuracy': 0.696,\n",
       " 'f1': 0.685,\n",
       " 'confusion_matrix':           0         1\n",
       " 0  0.366364  0.133005\n",
       " 1  0.170673  0.329959}"
      ]
     },
     "execution_count": 98,
     "metadata": {},
     "output_type": "execute_result"
    }
   ],
   "source": [
    "score_model(y_test, logistic_model.predict(df_test))"
   ]
  },
  {
   "cell_type": "code",
   "execution_count": 99,
   "id": "28372980",
   "metadata": {},
   "outputs": [
    {
     "name": "stderr",
     "output_type": "stream",
     "text": [
      "/Users/six/envs/stacked/lib/python3.8/site-packages/sklearn/linear_model/_logistic.py:444: ConvergenceWarning: lbfgs failed to converge (status=1):\n",
      "STOP: TOTAL NO. of ITERATIONS REACHED LIMIT.\n",
      "\n",
      "Increase the number of iterations (max_iter) or scale the data as shown in:\n",
      "    https://scikit-learn.org/stable/modules/preprocessing.html\n",
      "Please also refer to the documentation for alternative solver options:\n",
      "    https://scikit-learn.org/stable/modules/linear_model.html#logistic-regression\n",
      "  n_iter_i = _check_optimize_result(\n",
      "/Users/six/envs/stacked/lib/python3.8/site-packages/sklearn/linear_model/_logistic.py:444: ConvergenceWarning: lbfgs failed to converge (status=1):\n",
      "STOP: TOTAL NO. of ITERATIONS REACHED LIMIT.\n",
      "\n",
      "Increase the number of iterations (max_iter) or scale the data as shown in:\n",
      "    https://scikit-learn.org/stable/modules/preprocessing.html\n",
      "Please also refer to the documentation for alternative solver options:\n",
      "    https://scikit-learn.org/stable/modules/linear_model.html#logistic-regression\n",
      "  n_iter_i = _check_optimize_result(\n"
     ]
    },
    {
     "name": "stdout",
     "output_type": "stream",
     "text": [
      "CPU times: user 13min 22s, sys: 11 s, total: 13min 33s\n",
      "Wall time: 4min 29s\n"
     ]
    },
    {
     "data": {
      "text/plain": [
       "0.729097347022295"
      ]
     },
     "execution_count": 99,
     "metadata": {},
     "output_type": "execute_result"
    }
   ],
   "source": [
    "%%time\n",
    "rfc_model.fit(df_train, y_train)\n",
    "rfc_model.score(df_test, y_test)"
   ]
  },
  {
   "cell_type": "code",
   "execution_count": 100,
   "id": "ec435121",
   "metadata": {},
   "outputs": [
    {
     "data": {
      "text/plain": [
       "{'accuracy': 0.729,\n",
       " 'f1': 0.701,\n",
       " 'confusion_matrix':           0         1\n",
       " 0  0.411060  0.088308\n",
       " 1  0.182595  0.318037}"
      ]
     },
     "execution_count": 100,
     "metadata": {},
     "output_type": "execute_result"
    }
   ],
   "source": [
    "score_model(y_test, rfc_model.predict(df_test))"
   ]
  },
  {
   "cell_type": "markdown",
   "id": "e52dc45c",
   "metadata": {},
   "source": [
    "### Model Evaluation Summary\n",
    "- The Logistic Regression model provides good baseline accuracy of 70%.\n",
    "- The LR model could also be extended to capture the non-normality of the independent variables.\n",
    "- Both tree models (random forest and histogram boosted decision trees) achieve accuracies of ~73%.\n",
    "- The random forest slightly outperforms and trades a point of false negatives for a point of false positives.\n",
    "- Training times: LR trains in 3 sec, HGBT in 5 sec, RF in 1min 30sec.\n",
    "- RF training time was the bottleneck, and could benefit from more compute resources."
   ]
  },
  {
   "cell_type": "markdown",
   "id": "0587fbf4",
   "metadata": {},
   "source": [
    "# Summary Recap <a class=\"anchor\" id=\"summary-recap\"></a>\n",
    "- Copying all of the summaries down here for quick reference"
   ]
  },
  {
   "cell_type": "markdown",
   "id": "e6b21365",
   "metadata": {},
   "source": [
    "## Data Understanding Summary\n",
    "- Dataset is long and skinny\n",
    "- Appears normalized other than column 10, so normalize it.\n",
    "- No missing values\n",
    "- No all-zero columns\n",
    "- Columns are *not* normally distributed\n",
    "- No columnar colinearity\n",
    "- Target correlations look well-formed"
   ]
  },
  {
   "cell_type": "markdown",
   "id": "23adb579",
   "metadata": {},
   "source": [
    "## Outlier Detection Summary\n",
    "- Removing the outliers definitely helps unsquash the distributions"
   ]
  },
  {
   "cell_type": "markdown",
   "id": "76574026",
   "metadata": {},
   "source": [
    "## Feature Selection Summary\n",
    "- Identify the essential features in the dataset.\n",
    "    - Top correlated and feature mean splits by target variable give a good indication, but this is ultimately decided by the top-performing models.\n",
    "- What makes these features significant?\n",
    "    - Discrete versions of the Oneway Anova F and Chi^2 tests agree they are each significant.\n",
    "- How do they influence the outcome variable?\n",
    "    - We saw the difference in feature means when the label == 0 vs label == 1."
   ]
  },
  {
   "cell_type": "markdown",
   "id": "a1e39183",
   "metadata": {},
   "source": [
    "## Feature Engineering Summary\n",
    "- We created an augmented dataset from engineered features of the form f1*f2, f2*f3, f1^2, f2^2 ...etc\n",
    "- We went from a baseline dataset performance of .709, down to an augmented dataset performance of .705.\n",
    "- Augmentation did not increase performance of tree models.\n",
    "- Augmentation only of slightly marginal benefit for linear models."
   ]
  },
  {
   "cell_type": "markdown",
   "id": "f3ea5fa9",
   "metadata": {},
   "source": [
    "## Hyperparameter Tuning Summary\n",
    "- We will make use of validation datasets in the form of *cross-validation* in this section.\n",
    "- It will help us both optimize the hyperparamers while avoid overfitting to the training data.\n",
    "- We will tune one tree and one linear model.\n",
    "- Tuning will be done on a reduced N of 10k; testing will then be done on the full set with the optimal params.\n",
    "- Logistic Regression model was largely robust to hyperparameter selection.\n",
    "- RF model was most affected by the max_depth parameter, which we fine-tuned over two rounds."
   ]
  },
  {
   "cell_type": "markdown",
   "id": "18575f79",
   "metadata": {},
   "source": [
    "## Model Selection Summary\n",
    "- Going with the random forest and logistic regression models due to:\n",
    "    1. Have the highest overall performance\n",
    "    2. Maintain performance in low-data regimes (r^2 of ~.70(rand forest and logreg) vs .43(gbt) on 10k samples)\n",
    "2. Will become important in the next section on hyperparameter tuning."
   ]
  },
  {
   "cell_type": "markdown",
   "id": "58a7766e",
   "metadata": {},
   "source": [
    "## Model Evaluation Summary\n",
    "- The Logistic Regression model provides good baseline accuracy of 70%.\n",
    "- The LR model could also be extended to capture the non-normality of the independent variables.\n",
    "- Both tree models (random forest and histogram boosted decision trees) achieve accuracies of ~73%.\n",
    "- The random forest slightly outperforms and trades a point of false negatives for a point of false positives.\n",
    "- Training times: LR trains in 3 sec, HGBT in 5 sec, RF in 1min 30sec.\n",
    "- RF training time was the bottleneck, and could benefit from more compute resources."
   ]
  },
  {
   "cell_type": "markdown",
   "id": "f5d46c54",
   "metadata": {},
   "source": [
    "# Communication\n",
    "\n",
    "- Overall this appeared to be a pretty straitforward modeling excercise where:\n",
    "    - the data was mostly pre-cleaned, but a bit more helped,\n",
    "    - multiple different models were able to pick up on the patterns in the data,\n",
    "    - we fine-tuned a few models and analyzed the results,\n",
    "    - obtained a 73% accuracy on the hold-out set\n",
    "    - could possibly improve this by using more compute resources.\n",
    "\n",
    "- Future modeling iterations would involve better accounting for the non-normality of the input data and more extensive hyper-param search."
   ]
  },
  {
   "cell_type": "code",
   "execution_count": null,
   "id": "dda4ef0d",
   "metadata": {},
   "outputs": [],
   "source": []
  }
 ],
 "metadata": {
  "kernelspec": {
   "display_name": "Python 3 (ipykernel)",
   "language": "python",
   "name": "python3"
  },
  "language_info": {
   "codemirror_mode": {
    "name": "ipython",
    "version": 3
   },
   "file_extension": ".py",
   "mimetype": "text/x-python",
   "name": "python",
   "nbconvert_exporter": "python",
   "pygments_lexer": "ipython3",
   "version": "3.8.16"
  }
 },
 "nbformat": 4,
 "nbformat_minor": 5
}
