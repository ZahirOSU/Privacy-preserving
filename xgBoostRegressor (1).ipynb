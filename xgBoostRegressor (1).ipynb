{
 "cells": [
  {
   "cell_type": "code",
   "execution_count": null,
   "id": "91dd9637-706d-418b-a2c6-edea64fb5063",
   "metadata": {},
   "outputs": [],
   "source": [
    "\"\"\"\n",
    "4/26/2023\n",
    "\n",
    "Dataset used: 139,502 \"placed\" and 139,502 \"Not Placed\"\n",
    "                        train set: 67% (187,032)     test set: 33% (92,072)\n",
    "                        \n",
    "xgBoostRegressor and new weights with metrics MSE, RMSE, and MAE\n",
    "     New weights using\n",
    "     - feature importance\n",
    "     - Shapley\n",
    "     - permutation\n",
    "     \n",
    "     New features not used in current Z-engine:\n",
    "     - YearsOfExperienceScore\n",
    "     - SkillClusterToClusterScore\n",
    "     - RelavantMonthsOfExperience\n",
    "     - FeeEligibilityScore\n",
    "\n",
    "Comparison with current Z-engine: weighted sum on the same test datset\n",
    "\"\"\""
   ]
  },
  {
   "cell_type": "code",
   "execution_count": null,
   "id": "96ef1a04-eb51-4e1b-9801-dad1faf0a4cb",
   "metadata": {
    "tags": [],
    "is_executing": true
   },
   "outputs": [],
   "source": [
    " #pip install smart-open\n",
    "# to import datasets from s3"
   ]
  },
  {
   "cell_type": "code",
   "execution_count": null,
   "id": "c0ebf86b-9f06-4e35-b456-ca8f77a5503f",
   "metadata": {
    "tags": []
   },
   "outputs": [
    {
     "name": "stdout",
     "output_type": "stream",
     "text": [
      "Collecting package metadata (current_repodata.json): done\n",
      "Solving environment: \\ "
     ]
    }
   ],
   "source": [
    "# conda install -c conda-forge xgboost              # xgBoost library"
   ]
  },
  {
   "cell_type": "code",
   "execution_count": 3,
   "id": "58788d4f-c258-497f-8831-7eb9f3484f5a",
   "metadata": {
    "tags": []
   },
   "outputs": [
    {
     "name": "stdout",
     "output_type": "stream",
     "text": [
      "Collecting shap\n",
      "  Using cached shap-0.41.0-cp37-cp37m-manylinux_2_12_x86_64.manylinux2010_x86_64.whl (569 kB)\n",
      "Collecting slicer==0.0.7\n",
      "  Using cached slicer-0.0.7-py3-none-any.whl (14 kB)\n",
      "Requirement already satisfied: pandas in /opt/conda/lib/python3.7/site-packages (from shap) (1.3.5)\n",
      "Requirement already satisfied: numba in /opt/conda/lib/python3.7/site-packages (from shap) (0.56.4)\n",
      "Requirement already satisfied: tqdm>4.25.0 in /opt/conda/lib/python3.7/site-packages (from shap) (4.42.1)\n",
      "Requirement already satisfied: scikit-learn in /opt/conda/lib/python3.7/site-packages (from shap) (0.22.1)\n",
      "Requirement already satisfied: scipy in /opt/conda/lib/python3.7/site-packages (from shap) (1.4.1)\n",
      "Collecting packaging>20.9\n",
      "  Using cached packaging-23.1-py3-none-any.whl (48 kB)\n",
      "Requirement already satisfied: numpy in /opt/conda/lib/python3.7/site-packages (from shap) (1.21.6)\n",
      "Requirement already satisfied: cloudpickle in /opt/conda/lib/python3.7/site-packages (from shap) (2.2.1)\n",
      "Requirement already satisfied: llvmlite<0.40,>=0.39.0dev0 in /opt/conda/lib/python3.7/site-packages (from numba->shap) (0.39.1)\n",
      "Requirement already satisfied: setuptools in /opt/conda/lib/python3.7/site-packages (from numba->shap) (59.3.0)\n",
      "Requirement already satisfied: importlib-metadata in /opt/conda/lib/python3.7/site-packages (from numba->shap) (6.3.0)\n",
      "Requirement already satisfied: python-dateutil>=2.7.3 in /opt/conda/lib/python3.7/site-packages (from pandas->shap) (2.8.2)\n",
      "Requirement already satisfied: pytz>=2017.3 in /opt/conda/lib/python3.7/site-packages (from pandas->shap) (2019.3)\n",
      "Requirement already satisfied: joblib>=0.11 in /opt/conda/lib/python3.7/site-packages (from scikit-learn->shap) (1.2.0)\n",
      "Requirement already satisfied: six>=1.5 in /opt/conda/lib/python3.7/site-packages (from python-dateutil>=2.7.3->pandas->shap) (1.14.0)\n",
      "Requirement already satisfied: typing-extensions>=3.6.4 in /opt/conda/lib/python3.7/site-packages (from importlib-metadata->numba->shap) (4.5.0)\n",
      "Requirement already satisfied: zipp>=0.5 in /opt/conda/lib/python3.7/site-packages (from importlib-metadata->numba->shap) (3.15.0)\n",
      "Installing collected packages: slicer, packaging, shap\n",
      "  Attempting uninstall: packaging\n",
      "    Found existing installation: packaging 20.1\n",
      "    Uninstalling packaging-20.1:\n",
      "      Successfully uninstalled packaging-20.1\n",
      "\u001B[31mERROR: pip's dependency resolver does not currently take into account all the packages that are installed. This behaviour is the source of the following dependency conflicts.\n",
      "pytest-astropy 0.8.0 requires pytest-cov>=2.0, which is not installed.\n",
      "pytest-astropy 0.8.0 requires pytest-filter-subpackage>=0.1, which is not installed.\n",
      "sagemaker 2.145.0 requires importlib-metadata<5.0,>=1.4.0, but you have importlib-metadata 6.3.0 which is incompatible.\n",
      "sagemaker 2.145.0 requires PyYAML==5.4.1, but you have pyyaml 6.0 which is incompatible.\n",
      "docker-compose 1.29.2 requires PyYAML<6,>=3.10, but you have pyyaml 6.0 which is incompatible.\u001B[0m\u001B[31m\n",
      "\u001B[0mSuccessfully installed packaging-23.1 shap-0.41.0 slicer-0.0.7\n",
      "\u001B[33mWARNING: Running pip as the 'root' user can result in broken permissions and conflicting behaviour with the system package manager. It is recommended to use a virtual environment instead: https://pip.pypa.io/warnings/venv\u001B[0m\u001B[33m\n",
      "\u001B[0m\n",
      "\u001B[1m[\u001B[0m\u001B[34;49mnotice\u001B[0m\u001B[1;39;49m]\u001B[0m\u001B[39;49m A new release of pip is available: \u001B[0m\u001B[31;49m23.0.1\u001B[0m\u001B[39;49m -> \u001B[0m\u001B[32;49m23.1.2\u001B[0m\n",
      "\u001B[1m[\u001B[0m\u001B[34;49mnotice\u001B[0m\u001B[1;39;49m]\u001B[0m\u001B[39;49m To update, run: \u001B[0m\u001B[32;49mpip install --upgrade pip\u001B[0m\n",
      "Note: you may need to restart the kernel to use updated packages.\n"
     ]
    }
   ],
   "source": [
    "#pip install shap                    # Shapley library"
   ]
  },
  {
   "cell_type": "code",
   "execution_count": 7,
   "id": "1e79d802-55b4-47ec-9dd6-15cdd6960f48",
   "metadata": {
    "tags": []
   },
   "outputs": [],
   "source": [
    "import pandas as pd\n",
    "import numpy as np\n",
    "\n",
    "from sklearn.model_selection import train_test_split\n",
    "\n",
    "# xgBoostRegressor model\n",
    "from xgboost import XGBRegressor\n",
    "\n",
    "# additional weight extraction methods in additiona to built-in Feature Importance\n",
    "import shap\n",
    "from sklearn.inspection import permutation_importance\n",
    "\n",
    "# Regression metrics\n",
    "from sklearn.metrics import mean_squared_error as MSE\n",
    "from sklearn.metrics import mean_absolute_error as MAE\n",
    "\n",
    "import matplotlib.pyplot as plt\n",
    "%matplotlib inline\n",
    "import warnings\n",
    "warnings.filterwarnings('ignore')"
   ]
  },
  {
   "cell_type": "code",
   "execution_count": 8,
   "id": "10c381c9-25b9-4fa7-865f-b585926c5404",
   "metadata": {
    "tags": []
   },
   "outputs": [],
   "source": [
    "import smart_open\n",
    "\n",
    "# access dataset in s3\n",
    "with smart_open.open('s3://vector-services-ied-np/z-engine-weight-training/balanced_set.csv', 'r') as data_handler:\n",
    "    data = pd.read_csv(data_handler)"
   ]
  },
  {
   "cell_type": "code",
   "execution_count": 5,
   "id": "e3879074-f15c-494e-84d6-c5537409e879",
   "metadata": {
    "tags": []
   },
   "outputs": [
    {
     "name": "stdout",
     "output_type": "stream",
     "text": [
      "<class 'pandas.core.frame.DataFrame'>\n",
      "RangeIndex: 279004 entries, 0 to 279003\n",
      "Data columns (total 23 columns):\n",
      " #   Column                                   Non-Null Count   Dtype  \n",
      "---  ------                                   --------------   -----  \n",
      " 0   Unnamed: 0                               279004 non-null  int64  \n",
      " 1   LocatorKey                               279004 non-null  object \n",
      " 2   SalesforceID                             270167 non-null  object \n",
      " 3   JobPostingID                             279004 non-null  object \n",
      " 4   AverageWorkHistoryScore                  279004 non-null  float64\n",
      " 5   ComutabilityScore                        279004 non-null  float64\n",
      " 6   DescriptionClusterToClusterScore         279004 non-null  float64\n",
      " 7   EliteSkillScore                          279004 non-null  float64\n",
      " 8   FeeEligibilityScore                      279004 non-null  float64\n",
      " 9   FilteredRawScore                         279004 non-null  float64\n",
      " 10  JobSkillsScore                           279004 non-null  float64\n",
      " 11  JobSoftwareSkillsScore                   279004 non-null  float64\n",
      " 12  LatestWorkHistoryDescriptionVectorScore  279004 non-null  float64\n",
      " 13  LatestWorkHistoryTitleVectorScore        279004 non-null  float64\n",
      " 14  NrmlzdDescClusterScore                   279004 non-null  float64\n",
      " 15  NrmlzdSkillClusterScore                  279004 non-null  float64\n",
      " 16  NrmlzdTitleClusterScore                  279004 non-null  float64\n",
      " 17  OverallScore                             279004 non-null  float64\n",
      " 18  RelevantMonthsOfExperience               279004 non-null  int64  \n",
      " 19  SkillClusterToClusterScore               279004 non-null  float64\n",
      " 20  TitleClusterToClusterScore               279004 non-null  float64\n",
      " 21  YearsOfExperienceScore                   279004 non-null  float64\n",
      " 22  placed flag                              279004 non-null  int64  \n",
      "dtypes: float64(17), int64(3), object(3)\n",
      "memory usage: 49.0+ MB\n"
     ]
    }
   ],
   "source": [
    "# placed flag used for Placed (1.0) or Not Placed (0.0)\n",
    "data.info()"
   ]
  },
  {
   "cell_type": "code",
   "execution_count": 9,
   "id": "75a6c1dd-ab8e-4fa4-98cb-76e71f716cd4",
   "metadata": {
    "tags": []
   },
   "outputs": [],
   "source": [
    "# Select only the feature columns to use for xgBoostRegressor training\n",
    "\n",
    "columns = [ 'AverageWorkHistoryScore',\n",
    " 'ComutabilityScore',\n",
    " 'DescriptionClusterToClusterScore',\n",
    " 'EliteSkillScore',\n",
    " 'FeeEligibilityScore',\n",
    " 'JobSkillsScore',\n",
    " 'JobSoftwareSkillsScore',\n",
    " 'LatestWorkHistoryDescriptionVectorScore',\n",
    " 'LatestWorkHistoryTitleVectorScore',\n",
    " 'NrmlzdDescClusterScore',\n",
    " 'NrmlzdSkillClusterScore',\n",
    " 'NrmlzdTitleClusterScore',\n",
    " 'RelevantMonthsOfExperience',\n",
    " 'SkillClusterToClusterScore',\n",
    " 'TitleClusterToClusterScore',\n",
    " 'YearsOfExperienceScore']\n",
    "features = data[columns]\n",
    "\n",
    "# target variables: 1.0 Placed and 0.0 Not placed\n",
    "target = data[['placed flag']]"
   ]
  },
  {
   "cell_type": "code",
   "execution_count": 10,
   "id": "7fffaa52-6062-4c26-bb11-4d66b680b120",
   "metadata": {
    "tags": []
   },
   "outputs": [],
   "source": [
    "# Split data into training and test sets\n",
    "\n",
    "X=features\n",
    "y=np.ravel(target)\n",
    "X_train, X_test, y_train, y_test = train_test_split(X, y, test_size=0.33, random_state=42) "
   ]
  },
  {
   "cell_type": "code",
   "execution_count": 11,
   "id": "9f99fbfd-8bc0-4c2c-b315-d13c37efdda4",
   "metadata": {
    "tags": []
   },
   "outputs": [],
   "source": [
    "# Scale entry values to avoide skewing\n",
    "from sklearn.preprocessing import StandardScaler\n",
    "\n",
    "scaler = StandardScaler().fit(X_train)     # standard scaler is used on the train dataset\n",
    "X_train = scaler.transform(X_train)        # scale the train dataset\n",
    "X_test = scaler.transform(X_test)           # scale the test dataset"
   ]
  },
  {
   "cell_type": "code",
   "execution_count": 10,
   "id": "efb870d4-c0ff-48ca-a4f6-1c0106acecd7",
   "metadata": {
    "tags": []
   },
   "outputs": [
    {
     "data": {
      "text/plain": [
       "XGBRegressor(base_score=0.5, booster='gbtree', colsample_bylevel=1,\n",
       "             colsample_bynode=1, colsample_bytree=1, gamma=0, gpu_id=-1,\n",
       "             importance_type='gain', interaction_constraints='',\n",
       "             learning_rate=0.300000012, max_delta_step=0, max_depth=6,\n",
       "             min_child_weight=1, missing=nan, monotone_constraints='()',\n",
       "             n_estimators=100, n_jobs=0, num_parallel_tree=1,\n",
       "             objective='reg:squarederror', random_state=0, reg_alpha=0,\n",
       "             reg_lambda=1, scale_pos_weight=1, subsample=1, tree_method='exact',\n",
       "             validate_parameters=1, verbosity=None)"
      ]
     },
     "execution_count": 10,
     "metadata": {},
     "output_type": "execute_result"
    }
   ],
   "source": [
    "# Train the model using standard hyper parameters. The hyper parameters are shown\n",
    "\n",
    "xgb = XGBRegressor()\n",
    "xgb.fit(X_train, y_train)"
   ]
  },
  {
   "cell_type": "code",
   "execution_count": 11,
   "id": "aecba8b8-185f-42bf-81bc-18d253952b3e",
   "metadata": {
    "tags": []
   },
   "outputs": [
    {
     "data": {
      "text/plain": [
       "<BarContainer object of 16 artists>"
      ]
     },
     "execution_count": 11,
     "metadata": {},
     "output_type": "execute_result"
    },
    {
     "data": {
      "image/png": "[encoded data removed]",
      "text/plain": [
       "<Figure size 640x480 with 1 Axes>"
      ]
     },
     "metadata": {},
     "output_type": "display_data"
    }
   ],
   "source": [
    "# Bar chart of the features based on Feature Importance from the xgBoostRegressor model\n",
    "\n",
    "weights_xgb = xgb.feature_importances_          # weight vector\n",
    "feature_names = list(features.columns)\n",
    "plt.barh(list(features.columns), weights_xgb)"
   ]
  },
  {
   "cell_type": "code",
   "execution_count": 12,
   "id": "076109e5-60e5-4595-bfe1-f88f8ff137ae",
   "metadata": {
    "tags": []
   },
   "outputs": [],
   "source": [
    "# Function to compute the MSE, RMSE, and MAE of the predicted values\n",
    "\n",
    "def metrics(y_test, y_pred):\n",
    "    mse = MSE(y_test, y_pred)\n",
    "    rmse = np.sqrt(MSE(y_test, y_pred))\n",
    "    mae = MAE(y_test, y_pred)\n",
    "    print(\"MSE: % f\" %(mse))\n",
    "    print(\"RMSE : % f\" %(rmse))\n",
    "    print(\"MAE : % f\" %(mae))"
   ]
  },
  {
   "cell_type": "code",
   "execution_count": 13,
   "id": "9cae2093-621f-46c6-a7a7-d4344f24ebdd",
   "metadata": {
    "tags": []
   },
   "outputs": [
    {
     "name": "stdout",
     "output_type": "stream",
     "text": [
      "xgBoostRegressor inference:  [0.21284905 0.26337558 0.5423697  ... 0.13744926 0.8235928  0.3683502 ]\n",
      "\n",
      "with xgBoost Regressor\n",
      "\n",
      "MSE:  0.178839\n",
      "RMSE :  0.422893\n",
      "MAE :  0.358257\n"
     ]
    }
   ],
   "source": [
    "# Get inference values from the trained model on the test dataset.\n",
    "y_pred = xgb.predict(X_test)\n",
    "print(\"xgBoostRegressor inference: \", y_pred)\n",
    "print(\"\")\n",
    "\n",
    "# Compute MSE, RMSE, and MAE of the xgBoostRegressor model on the test dataset.\n",
    "print(\"with xgBoost Regressor\")\n",
    "print(\"\")\n",
    "metrics(y_test, y_pred)"
   ]
  },
  {
   "cell_type": "code",
   "execution_count": 14,
   "id": "6257ced6-4caa-4759-a148-98721d2a25f7",
   "metadata": {
    "tags": []
   },
   "outputs": [
    {
     "name": "stdout",
     "output_type": "stream",
     "text": [
      "[0.0374823  0.20832127 0.02038596 0.01418077 0.0418445  0.01831206\n",
      " 0.01703496 0.04080858 0.3887036  0.02086849 0.01679379 0.02835643\n",
      " 0.01805015 0.02007581 0.05758946 0.05119184]\n",
      "New Z-scores with Feature Importance weights:  [-0.70676198 -0.48785006 -0.09900133 ... -1.03830968  0.79895559\n",
      "  0.0572345 ]\n"
     ]
    }
   ],
   "source": [
    "# Get weighted sum on the test dataset using the newly found Feature Importance weights\n",
    "print(weights_xgb)\n",
    "new_z_scores = np.matmul(X_test, weights_xgb)\n",
    "print(\"New Z-scores with Feature Importance weights: \", new_z_scores)"
   ]
  },
  {
   "cell_type": "code",
   "execution_count": 15,
   "id": "e6361efa-6eb0-42c1-a48e-a6fbd0a9de22",
   "metadata": {
    "tags": []
   },
   "outputs": [],
   "source": [
    "from sklearn.preprocessing import MinMaxScaler\n",
    "\n",
    "# Function to scale weighted sums using standard and minmax \n",
    "def scale(z_scores):\n",
    "    z_scores = z_scores.reshape(-1, 1)\n",
    "    scaler_standard = StandardScaler().fit(z_scores)\n",
    "    z_scores_standard = scaler_standard.transform(z_scores)\n",
    "    scaler_minmax = MinMaxScaler().fit(z_scores)\n",
    "    z_scores_minmax = scaler_minmax.transform(z_scores)\n",
    "    \n",
    "    return z_scores_standard, z_scores_minmax"
   ]
  },
  {
   "cell_type": "code",
   "execution_count": 23,
   "id": "ba84dae6-f128-4953-a269-905eb5f21178",
   "metadata": {
    "tags": []
   },
   "outputs": [
    {
     "name": "stdout",
     "output_type": "stream",
     "text": [
      "with new weights from xgBoostRegressor Feature Importance\n",
      "Feature Importance stadard scaler\n",
      "MSE:  1.071327\n",
      "RMSE :  1.035049\n",
      "MAE :  0.824375\n",
      "Feature Importance minmax scaler\n",
      "MSE:  0.218211\n",
      "RMSE :  0.467130\n",
      "MAE :  0.441460\n"
     ]
    }
   ],
   "source": [
    "feature_standard, feature_minmax = scale(new_z_scores)\n",
    "print(\"with new weights from xgBoostRegressor Feature Importance\")\n",
    "\n",
    "print(\"Feature Importance standard scaler\")\n",
    "metrics(y_test, feature_standard)\n",
    "\n",
    "print(\"Feature Importance minmax scaler\")\n",
    "metrics(y_test, feature_minmax)"
   ]
  },
  {
   "cell_type": "code",
   "execution_count": 24,
   "id": "80bbf286-8188-4023-b36f-041de25d7be7",
   "metadata": {
    "tags": []
   },
   "outputs": [
    {
     "name": "stdout",
     "output_type": "stream",
     "text": [
      "Permutation importance:  {'importances_mean': array([0.19811828, 0.03409492, 0.02373024, 0.00078385, 0.02529603,\n",
      "       0.01105802, 0.00334853, 0.09924934, 0.17038937, 0.01815744,\n",
      "       0.00879154, 0.01291632, 0.01122409, 0.01070256, 0.01190106,\n",
      "       0.0247534 ]), 'importances_std': array([3.14711434e-03, 4.59857103e-04, 6.14740643e-04, 5.75746321e-05,\n",
      "       9.36162652e-04, 3.96828380e-04, 1.55804489e-04, 8.37457488e-04,\n",
      "       1.05937312e-03, 5.52730378e-04, 3.14891322e-04, 2.29312237e-04,\n",
      "       2.60538399e-04, 5.23475706e-04, 4.56183620e-04, 5.31623482e-04]), 'importances': array([[0.20095152, 0.19268729, 0.19658821, 0.1994278 , 0.20093658],\n",
      "       [0.0338441 , 0.03489315, 0.03428986, 0.03387164, 0.03357587],\n",
      "       [0.02350482, 0.02274274, 0.02364919, 0.0242777 , 0.02447675],\n",
      "       [0.0008385 , 0.00078321, 0.0008409 , 0.00068268, 0.00077394],\n",
      "       [0.02482513, 0.02366549, 0.02609461, 0.02603452, 0.02586038],\n",
      "       [0.01104569, 0.01103891, 0.01093399, 0.01051957, 0.01175194],\n",
      "       [0.00347577, 0.00341781, 0.00304183, 0.00339249, 0.00341475],\n",
      "       [0.09814687, 0.09967272, 0.09852986, 0.0993935 , 0.10050376],\n",
      "       [0.17042224, 0.16927095, 0.16946067, 0.17225333, 0.17053968],\n",
      "       [0.01736649, 0.01788965, 0.01906111, 0.01820671, 0.01826321],\n",
      "       [0.00878802, 0.0084519 , 0.00855217, 0.00935979, 0.00880581],\n",
      "       [0.01308297, 0.01265762, 0.01325338, 0.01290474, 0.01268291],\n",
      "       [0.01103951, 0.01089414, 0.01122393, 0.01130255, 0.01166034],\n",
      "       [0.0108014 , 0.0099886 , 0.01084872, 0.01033733, 0.01153675],\n",
      "       [0.01203709, 0.01181031, 0.01150773, 0.01270694, 0.01144321],\n",
      "       [0.02421531, 0.02477206, 0.02483439, 0.02425827, 0.02568695]])}\n",
      "Permutation importance weights:  [0.19811828 0.03409492 0.02373024 0.00078385 0.02529603 0.01105802\n",
      " 0.00334853 0.09924934 0.17038937 0.01815744 0.00879154 0.01291632\n",
      " 0.01122409 0.01070256 0.01190106 0.0247534 ]\n"
     ]
    }
   ],
   "source": [
    "# Permutation Importance\n",
    "perm_importance = permutation_importance(xgb, X_test, y_test)\n",
    "print(\"Permutation importance: \", perm_importance)\n",
    "perm_weights = perm_importance['importances_mean']\n",
    "print(\"Permutation importance weights: \", perm_weights)"
   ]
  },
  {
   "cell_type": "code",
   "execution_count": 25,
   "id": "a7f79aff-a0cb-45e1-a802-5cb6053f74fe",
   "metadata": {
    "tags": []
   },
   "outputs": [
    {
     "name": "stdout",
     "output_type": "stream",
     "text": [
      "with new weights from xgBoostRegressor Permutation Importance\n",
      "Permutation Importance stadard scaler\n",
      "MSE:  1.173867\n",
      "RMSE :  1.083451\n",
      "MAE :  0.822908\n",
      "Permutation Importance minmax scaler\n",
      "MSE:  0.287623\n",
      "RMSE :  0.536305\n",
      "MAE :  0.469152\n"
     ]
    }
   ],
   "source": [
    "perm_z_scores = np.matmul(X_test,perm_weights)\n",
    "\n",
    "perm_standard, perm_minmax = scale(perm_z_scores)\n",
    "\n",
    "print(\"with new weights from xgBoostRegressor Permutation Importance\")\n",
    "\n",
    "print(\"Permutation Importance standard scaler\")\n",
    "metrics(y_test, perm_standard)\n",
    "\n",
    "print(\"Permutation Importance minmax scaler\")\n",
    "metrics(y_test, perm_minmax)"
   ]
  },
  {
   "cell_type": "code",
   "execution_count": 28,
   "id": "0767d48f-6699-4e1d-97ac-b28834fe2aee",
   "metadata": {
    "tags": []
   },
   "outputs": [
    {
     "data": {
      "text/plain": [
       "array([0.07097949, 0.03314528, 0.02481066, 0.00250578, 0.02318066,\n",
       "       0.02056466, 0.00938576, 0.04774192, 0.11589911, 0.01437673,\n",
       "       0.01113185, 0.01916555, 0.01507601, 0.017559  , 0.02728132,\n",
       "       0.01960758], dtype=float32)"
      ]
     },
     "execution_count": 28,
     "metadata": {},
     "output_type": "execute_result"
    }
   ],
   "source": [
    "# Shapley\n",
    "# Shapley values: number of samples x number of features\n",
    "# We want the mean Shapley value of each feature\n",
    "\n",
    "explainer = shap.TreeExplainer(xgb)\n",
    "shap_values = explainer.shap_values(X_test)\n",
    "shap_mean = np.abs(shap_values).mean(axis=0)\n",
    "shap_mean"
   ]
  },
  {
   "cell_type": "code",
   "execution_count": 30,
   "id": "ba1f417f-db2b-42e9-b516-b23f632091a6",
   "metadata": {
    "tags": []
   },
   "outputs": [
    {
     "name": "stdout",
     "output_type": "stream",
     "text": [
      "with new Shapley weights from xgBoost Regressor\n",
      "Shapley Importance stadard scaler\n",
      "MSE:  1.134893\n",
      "RMSE :  1.065314\n",
      "MAE :  0.817313\n",
      "Shapley Importance stadard scaler\n",
      "MSE:  0.266844\n",
      "RMSE :  0.516570\n",
      "MAE :  0.462009\n"
     ]
    }
   ],
   "source": [
    "shap_z_scores = np.matmul(X_test, shap_mean)\n",
    "shap_standard, shap_minmax = scale(shap_z_scores)\n",
    "\n",
    "print(\"with new Shapley weights from xgBoost Regressor\")\n",
    "print(\"Shapley Importance standard scaler\")\n",
    "metrics(y_test, shap_standard)\n",
    "\n",
    "print(\"Shapley Importance minmax scaler\")\n",
    "metrics(y_test, shap_minmax)"
   ]
  },
  {
   "cell_type": "code",
   "execution_count": 38,
   "id": "d0626b71-e449-4194-a075-a4834e4a8d95",
   "metadata": {},
   "outputs": [
    {
     "data": {
      "text/html": [
       "<div>\n",
       "<style scoped>\n",
       "    .dataframe tbody tr th:only-of-type {\n",
       "        vertical-align: middle;\n",
       "    }\n",
       "\n",
       "    .dataframe tbody tr th {\n",
       "        vertical-align: top;\n",
       "    }\n",
       "\n",
       "    .dataframe thead th {\n",
       "        text-align: right;\n",
       "    }\n",
       "</style>\n",
       "<table border=\"1\" class=\"dataframe\">\n",
       "  <thead>\n",
       "    <tr style=\"text-align: right;\">\n",
       "      <th></th>\n",
       "      <th>NrmlzdTitleClusterScore</th>\n",
       "      <th>NrmlzdDescClusterScore</th>\n",
       "      <th>NrmlzdSkillClusterScore</th>\n",
       "      <th>LatestWorkHistoryDescriptionVectorScore</th>\n",
       "      <th>LatestWorkHistoryTitleVectorScore</th>\n",
       "      <th>AverageWorkHistoryScore</th>\n",
       "      <th>JobSkillsScore</th>\n",
       "      <th>JobSoftwareSkillsScore</th>\n",
       "      <th>ComutabilityScore</th>\n",
       "      <th>YearsOfExperienceScore</th>\n",
       "      <th>DescriptionClusterToClusterScore</th>\n",
       "      <th>TitleClusterToClusterScore</th>\n",
       "      <th>EliteSkillScore</th>\n",
       "      <th>FilteredRawScore</th>\n",
       "    </tr>\n",
       "  </thead>\n",
       "  <tbody>\n",
       "    <tr>\n",
       "      <th>0</th>\n",
       "      <td>0.655994</td>\n",
       "      <td>0.936249</td>\n",
       "      <td>0.954516</td>\n",
       "      <td>0.897801</td>\n",
       "      <td>0.416134</td>\n",
       "      <td>0.860224</td>\n",
       "      <td>0.685821</td>\n",
       "      <td>0.000000</td>\n",
       "      <td>1.0</td>\n",
       "      <td>1.000000</td>\n",
       "      <td>0.905699</td>\n",
       "      <td>0.477965</td>\n",
       "      <td>0.0</td>\n",
       "      <td>8.694937</td>\n",
       "    </tr>\n",
       "    <tr>\n",
       "      <th>1</th>\n",
       "      <td>0.866131</td>\n",
       "      <td>0.965632</td>\n",
       "      <td>0.895718</td>\n",
       "      <td>0.899660</td>\n",
       "      <td>0.814271</td>\n",
       "      <td>0.899660</td>\n",
       "      <td>0.557483</td>\n",
       "      <td>0.000000</td>\n",
       "      <td>0.0</td>\n",
       "      <td>1.000000</td>\n",
       "      <td>0.950384</td>\n",
       "      <td>0.770299</td>\n",
       "      <td>0.0</td>\n",
       "      <td>9.345664</td>\n",
       "    </tr>\n",
       "    <tr>\n",
       "      <th>2</th>\n",
       "      <td>0.943498</td>\n",
       "      <td>0.929602</td>\n",
       "      <td>0.982845</td>\n",
       "      <td>0.816494</td>\n",
       "      <td>0.542276</td>\n",
       "      <td>0.604478</td>\n",
       "      <td>0.732026</td>\n",
       "      <td>0.544263</td>\n",
       "      <td>0.0</td>\n",
       "      <td>0.670886</td>\n",
       "      <td>0.901425</td>\n",
       "      <td>0.602923</td>\n",
       "      <td>0.0</td>\n",
       "      <td>9.126186</td>\n",
       "    </tr>\n",
       "    <tr>\n",
       "      <th>3</th>\n",
       "      <td>0.793568</td>\n",
       "      <td>0.901341</td>\n",
       "      <td>0.815631</td>\n",
       "      <td>0.767869</td>\n",
       "      <td>0.792423</td>\n",
       "      <td>0.786914</td>\n",
       "      <td>0.863127</td>\n",
       "      <td>0.000000</td>\n",
       "      <td>0.0</td>\n",
       "      <td>1.000000</td>\n",
       "      <td>0.874471</td>\n",
       "      <td>1.000000</td>\n",
       "      <td>0.0</td>\n",
       "      <td>9.438727</td>\n",
       "    </tr>\n",
       "    <tr>\n",
       "      <th>4</th>\n",
       "      <td>0.998848</td>\n",
       "      <td>0.644051</td>\n",
       "      <td>0.890473</td>\n",
       "      <td>0.499489</td>\n",
       "      <td>1.000000</td>\n",
       "      <td>0.485634</td>\n",
       "      <td>0.586147</td>\n",
       "      <td>0.000000</td>\n",
       "      <td>1.0</td>\n",
       "      <td>0.000000</td>\n",
       "      <td>0.909619</td>\n",
       "      <td>1.000000</td>\n",
       "      <td>0.5</td>\n",
       "      <td>7.840209</td>\n",
       "    </tr>\n",
       "    <tr>\n",
       "      <th>...</th>\n",
       "      <td>...</td>\n",
       "      <td>...</td>\n",
       "      <td>...</td>\n",
       "      <td>...</td>\n",
       "      <td>...</td>\n",
       "      <td>...</td>\n",
       "      <td>...</td>\n",
       "      <td>...</td>\n",
       "      <td>...</td>\n",
       "      <td>...</td>\n",
       "      <td>...</td>\n",
       "      <td>...</td>\n",
       "      <td>...</td>\n",
       "      <td>...</td>\n",
       "    </tr>\n",
       "    <tr>\n",
       "      <th>278999</th>\n",
       "      <td>0.950208</td>\n",
       "      <td>0.794546</td>\n",
       "      <td>0.879721</td>\n",
       "      <td>0.587496</td>\n",
       "      <td>0.829518</td>\n",
       "      <td>0.587496</td>\n",
       "      <td>0.888116</td>\n",
       "      <td>0.000000</td>\n",
       "      <td>0.0</td>\n",
       "      <td>0.000000</td>\n",
       "      <td>0.787772</td>\n",
       "      <td>0.896770</td>\n",
       "      <td>0.0</td>\n",
       "      <td>8.038698</td>\n",
       "    </tr>\n",
       "    <tr>\n",
       "      <th>279000</th>\n",
       "      <td>0.630197</td>\n",
       "      <td>0.908230</td>\n",
       "      <td>0.872790</td>\n",
       "      <td>0.811066</td>\n",
       "      <td>0.605813</td>\n",
       "      <td>0.859738</td>\n",
       "      <td>0.619005</td>\n",
       "      <td>0.378318</td>\n",
       "      <td>0.0</td>\n",
       "      <td>1.000000</td>\n",
       "      <td>0.971502</td>\n",
       "      <td>0.523341</td>\n",
       "      <td>0.0</td>\n",
       "      <td>8.928976</td>\n",
       "    </tr>\n",
       "    <tr>\n",
       "      <th>279001</th>\n",
       "      <td>0.998996</td>\n",
       "      <td>0.917722</td>\n",
       "      <td>0.832165</td>\n",
       "      <td>0.900493</td>\n",
       "      <td>0.566587</td>\n",
       "      <td>0.838159</td>\n",
       "      <td>0.817954</td>\n",
       "      <td>0.000000</td>\n",
       "      <td>1.0</td>\n",
       "      <td>1.000000</td>\n",
       "      <td>0.957657</td>\n",
       "      <td>0.592976</td>\n",
       "      <td>0.0</td>\n",
       "      <td>9.360389</td>\n",
       "    </tr>\n",
       "    <tr>\n",
       "      <th>279002</th>\n",
       "      <td>0.929638</td>\n",
       "      <td>0.957528</td>\n",
       "      <td>0.969031</td>\n",
       "      <td>0.935558</td>\n",
       "      <td>0.946966</td>\n",
       "      <td>0.890787</td>\n",
       "      <td>0.824960</td>\n",
       "      <td>0.000000</td>\n",
       "      <td>0.0</td>\n",
       "      <td>1.000000</td>\n",
       "      <td>0.992683</td>\n",
       "      <td>0.902927</td>\n",
       "      <td>0.0</td>\n",
       "      <td>10.291831</td>\n",
       "    </tr>\n",
       "    <tr>\n",
       "      <th>279003</th>\n",
       "      <td>0.970360</td>\n",
       "      <td>0.920239</td>\n",
       "      <td>0.000000</td>\n",
       "      <td>0.753799</td>\n",
       "      <td>0.336514</td>\n",
       "      <td>0.754109</td>\n",
       "      <td>0.000000</td>\n",
       "      <td>0.000000</td>\n",
       "      <td>0.0</td>\n",
       "      <td>1.000000</td>\n",
       "      <td>0.737553</td>\n",
       "      <td>0.383439</td>\n",
       "      <td>0.0</td>\n",
       "      <td>5.856014</td>\n",
       "    </tr>\n",
       "  </tbody>\n",
       "</table>\n",
       "<p>279004 rows × 14 columns</p>\n",
       "</div>"
      ],
      "text/plain": [
       "        NrmlzdTitleClusterScore  NrmlzdDescClusterScore  \\\n",
       "0                      0.655994                0.936249   \n",
       "1                      0.866131                0.965632   \n",
       "2                      0.943498                0.929602   \n",
       "3                      0.793568                0.901341   \n",
       "4                      0.998848                0.644051   \n",
       "...                         ...                     ...   \n",
       "278999                 0.950208                0.794546   \n",
       "279000                 0.630197                0.908230   \n",
       "279001                 0.998996                0.917722   \n",
       "279002                 0.929638                0.957528   \n",
       "279003                 0.970360                0.920239   \n",
       "\n",
       "        NrmlzdSkillClusterScore  LatestWorkHistoryDescriptionVectorScore  \\\n",
       "0                      0.954516                                 0.897801   \n",
       "1                      0.895718                                 0.899660   \n",
       "2                      0.982845                                 0.816494   \n",
       "3                      0.815631                                 0.767869   \n",
       "4                      0.890473                                 0.499489   \n",
       "...                         ...                                      ...   \n",
       "278999                 0.879721                                 0.587496   \n",
       "279000                 0.872790                                 0.811066   \n",
       "279001                 0.832165                                 0.900493   \n",
       "279002                 0.969031                                 0.935558   \n",
       "279003                 0.000000                                 0.753799   \n",
       "\n",
       "        LatestWorkHistoryTitleVectorScore  AverageWorkHistoryScore  \\\n",
       "0                                0.416134                 0.860224   \n",
       "1                                0.814271                 0.899660   \n",
       "2                                0.542276                 0.604478   \n",
       "3                                0.792423                 0.786914   \n",
       "4                                1.000000                 0.485634   \n",
       "...                                   ...                      ...   \n",
       "278999                           0.829518                 0.587496   \n",
       "279000                           0.605813                 0.859738   \n",
       "279001                           0.566587                 0.838159   \n",
       "279002                           0.946966                 0.890787   \n",
       "279003                           0.336514                 0.754109   \n",
       "\n",
       "        JobSkillsScore  JobSoftwareSkillsScore  ComutabilityScore  \\\n",
       "0             0.685821                0.000000                1.0   \n",
       "1             0.557483                0.000000                0.0   \n",
       "2             0.732026                0.544263                0.0   \n",
       "3             0.863127                0.000000                0.0   \n",
       "4             0.586147                0.000000                1.0   \n",
       "...                ...                     ...                ...   \n",
       "278999        0.888116                0.000000                0.0   \n",
       "279000        0.619005                0.378318                0.0   \n",
       "279001        0.817954                0.000000                1.0   \n",
       "279002        0.824960                0.000000                0.0   \n",
       "279003        0.000000                0.000000                0.0   \n",
       "\n",
       "        YearsOfExperienceScore  DescriptionClusterToClusterScore  \\\n",
       "0                     1.000000                          0.905699   \n",
       "1                     1.000000                          0.950384   \n",
       "2                     0.670886                          0.901425   \n",
       "3                     1.000000                          0.874471   \n",
       "4                     0.000000                          0.909619   \n",
       "...                        ...                               ...   \n",
       "278999                0.000000                          0.787772   \n",
       "279000                1.000000                          0.971502   \n",
       "279001                1.000000                          0.957657   \n",
       "279002                1.000000                          0.992683   \n",
       "279003                1.000000                          0.737553   \n",
       "\n",
       "        TitleClusterToClusterScore  EliteSkillScore  FilteredRawScore  \n",
       "0                         0.477965              0.0          8.694937  \n",
       "1                         0.770299              0.0          9.345664  \n",
       "2                         0.602923              0.0          9.126186  \n",
       "3                         1.000000              0.0          9.438727  \n",
       "4                         1.000000              0.5          7.840209  \n",
       "...                            ...              ...               ...  \n",
       "278999                    0.896770              0.0          8.038698  \n",
       "279000                    0.523341              0.0          8.928976  \n",
       "279001                    0.592976              0.0          9.360389  \n",
       "279002                    0.902927              0.0         10.291831  \n",
       "279003                    0.383439              0.0          5.856014  \n",
       "\n",
       "[279004 rows x 14 columns]"
      ]
     },
     "execution_count": 38,
     "metadata": {},
     "output_type": "execute_result"
    }
   ],
   "source": [
    "# We want to compare with the current z_score metrics\n",
    "\n",
    "# Select only the features that are used in current Z-engine.\n",
    "\n",
    "cols = [ 'NrmlzdTitleClusterScore',\n",
    "         'NrmlzdDescClusterScore',\n",
    "         'NrmlzdSkillClusterScore',\n",
    "         'LatestWorkHistoryDescriptionVectorScore',\n",
    "         'LatestWorkHistoryTitleVectorScore',\n",
    "         'AverageWorkHistoryScore',\n",
    "        'JobSkillsScore',\n",
    "        'JobSoftwareSkillsScore',\n",
    "        'ComutabilityScore',\n",
    "        'YearsOfExperienceScore',\n",
    "        'DescriptionClusterToClusterScore',\n",
    "         'TitleClusterToClusterScore',\n",
    "        'EliteSkillScore',\n",
    "        'FilteredRawScore'\n",
    "]\n",
    "\n",
    "current_z  = data[cols]\n",
    "current_z"
   ]
  },
  {
   "cell_type": "code",
   "execution_count": 33,
   "id": "c1bb3e75-da9b-4b2a-bb77-c474efd452e7",
   "metadata": {
    "tags": []
   },
   "outputs": [],
   "source": [
    "# Split the dataset into train and test using the same random number generator as in xgBoostRegressor\n",
    "# Scole\n",
    "\n",
    "X = current_z\n",
    "X_train_current, X_test_current, y_train, y_test = train_test_split(X, y, test_size=0.33, random_state=42) \n",
    "\n",
    "#scaler = StandardScaler().fit(X_train_current)\n",
    "#X_test_current = scaler.transform(X_test_current) "
   ]
  },
  {
   "cell_type": "code",
   "execution_count": 39,
   "id": "fad2f4de-70da-4a82-b3e0-6abe891d68f0",
   "metadata": {},
   "outputs": [],
   "source": [
    "# Extract current Z-scores\n",
    "weights = [0.682, 0.684, 0.684, 1.0, 0.726, 0.797, 0.532, 0.891, 0.558, 0.090, 0.759, 0.774, 1.608, 0.79]\n",
    "current_z_scores = np.matmul(X_test_current, weights)"
   ]
  },
  {
   "cell_type": "code",
   "execution_count": 3,
   "id": "fb812be2-ae00-4145-976d-fb95b337dccf",
   "metadata": {
    "tags": []
   },
   "outputs": [],
   "source": [
    "def min_max(num):\n",
    "    print(\"min: \", min(num))\n",
    "    print(\"max: \", max(num))\n",
    "    \n",
    "min_max(current_z_scores)"
   ]
  },
  {
   "cell_type": "code",
   "execution_count": null,
   "id": "1a924be8-5cb6-4242-8c67-22cb756fd506",
   "metadata": {},
   "outputs": [],
   "source": [
    "current_standard, current_minmax = scale(current_z_scores)\n",
    "\n",
    "print(\"with new Shapley weights from xgBoost Regressor\")\n",
    "print(\"Current Z-scores standard scaler\")\n",
    "metrics(y_test, current_standard)\n",
    "\n",
    "print(\"Current Z-scores minmax scaler\")\n",
    "metrics(y_test, current_minmax)"
   ]
  },
  {
   "cell_type": "code",
   "execution_count": 19,
   "id": "ac956a17-7bb2-4f2f-b134-e8ea7ba07b13",
   "metadata": {
    "tags": []
   },
   "outputs": [
    {
     "name": "stdout",
     "output_type": "stream",
     "text": [
      "with new weights from DecisionTreeClassifier\n",
      "Decision tree weight standard scaler\n",
      "MSE:  1.172950\n",
      "RMSE :  1.083028\n",
      "MAE :  0.811601\n",
      "Decision tree weight minmax scaler\n",
      "MSE:  0.266538\n",
      "RMSE :  0.516273\n",
      "MAE :  0.469945\n"
     ]
    }
   ],
   "source": [
    "# from weight_extraction.ipynb\n",
    "# DecisionTreeClassifier and RandomForestClassifier return the same feature importance weights.\n",
    "\n",
    "dt_weights = [0.08553848, 0.02941326, 0.0647263, 0.00518431, 0.034758, 0.07174241,\n",
    " 0.02928398, 0.09578101, 0.18128402, 0.08011271, 0.06946803, 0.07658214,\n",
    " 0.05479345, 0.06338066, 0.04512305, 0.01282818]\n",
    "dt_z_scores = np.matmul(X_test, dt_weights)\n",
    "\n",
    "dt_standard, dt_minmax = scale(dt_z_scores)\n",
    "\n",
    "print(\"with new weights from DecisionTreeClassifier\")\n",
    "print(\"Decision tree weight standard scaler\")\n",
    "metrics(y_test, dt_standard)\n",
    "\n",
    "print(\"Decision tree weight minmax scaler\")\n",
    "metrics(y_test, dt_minmax)"
   ]
  }
 ],
 "metadata": {
  "availableInstances": [
   {
    "_defaultOrder": 0,
    "_isFastLaunch": true,
    "category": "General purpose",
    "gpuNum": 0,
    "hideHardwareSpecs": false,
    "memoryGiB": 4,
    "name": "ml.t3.medium",
    "vcpuNum": 2
   },
   {
    "_defaultOrder": 1,
    "_isFastLaunch": false,
    "category": "General purpose",
    "gpuNum": 0,
    "hideHardwareSpecs": false,
    "memoryGiB": 8,
    "name": "ml.t3.large",
    "vcpuNum": 2
   },
   {
    "_defaultOrder": 2,
    "_isFastLaunch": false,
    "category": "General purpose",
    "gpuNum": 0,
    "hideHardwareSpecs": false,
    "memoryGiB": 16,
    "name": "ml.t3.xlarge",
    "vcpuNum": 4
   },
   {
    "_defaultOrder": 3,
    "_isFastLaunch": false,
    "category": "General purpose",
    "gpuNum": 0,
    "hideHardwareSpecs": false,
    "memoryGiB": 32,
    "name": "ml.t3.2xlarge",
    "vcpuNum": 8
   },
   {
    "_defaultOrder": 4,
    "_isFastLaunch": true,
    "category": "General purpose",
    "gpuNum": 0,
    "hideHardwareSpecs": false,
    "memoryGiB": 8,
    "name": "ml.m5.large",
    "vcpuNum": 2
   },
   {
    "_defaultOrder": 5,
    "_isFastLaunch": false,
    "category": "General purpose",
    "gpuNum": 0,
    "hideHardwareSpecs": false,
    "memoryGiB": 16,
    "name": "ml.m5.xlarge",
    "vcpuNum": 4
   },
   {
    "_defaultOrder": 6,
    "_isFastLaunch": false,
    "category": "General purpose",
    "gpuNum": 0,
    "hideHardwareSpecs": false,
    "memoryGiB": 32,
    "name": "ml.m5.2xlarge",
    "vcpuNum": 8
   },
   {
    "_defaultOrder": 7,
    "_isFastLaunch": false,
    "category": "General purpose",
    "gpuNum": 0,
    "hideHardwareSpecs": false,
    "memoryGiB": 64,
    "name": "ml.m5.4xlarge",
    "vcpuNum": 16
   },
   {
    "_defaultOrder": 8,
    "_isFastLaunch": false,
    "category": "General purpose",
    "gpuNum": 0,
    "hideHardwareSpecs": false,
    "memoryGiB": 128,
    "name": "ml.m5.8xlarge",
    "vcpuNum": 32
   },
   {
    "_defaultOrder": 9,
    "_isFastLaunch": false,
    "category": "General purpose",
    "gpuNum": 0,
    "hideHardwareSpecs": false,
    "memoryGiB": 192,
    "name": "ml.m5.12xlarge",
    "vcpuNum": 48
   },
   {
    "_defaultOrder": 10,
    "_isFastLaunch": false,
    "category": "General purpose",
    "gpuNum": 0,
    "hideHardwareSpecs": false,
    "memoryGiB": 256,
    "name": "ml.m5.16xlarge",
    "vcpuNum": 64
   },
   {
    "_defaultOrder": 11,
    "_isFastLaunch": false,
    "category": "General purpose",
    "gpuNum": 0,
    "hideHardwareSpecs": false,
    "memoryGiB": 384,
    "name": "ml.m5.24xlarge",
    "vcpuNum": 96
   },
   {
    "_defaultOrder": 12,
    "_isFastLaunch": false,
    "category": "General purpose",
    "gpuNum": 0,
    "hideHardwareSpecs": false,
    "memoryGiB": 8,
    "name": "ml.m5d.large",
    "vcpuNum": 2
   },
   {
    "_defaultOrder": 13,
    "_isFastLaunch": false,
    "category": "General purpose",
    "gpuNum": 0,
    "hideHardwareSpecs": false,
    "memoryGiB": 16,
    "name": "ml.m5d.xlarge",
    "vcpuNum": 4
   },
   {
    "_defaultOrder": 14,
    "_isFastLaunch": false,
    "category": "General purpose",
    "gpuNum": 0,
    "hideHardwareSpecs": false,
    "memoryGiB": 32,
    "name": "ml.m5d.2xlarge",
    "vcpuNum": 8
   },
   {
    "_defaultOrder": 15,
    "_isFastLaunch": false,
    "category": "General purpose",
    "gpuNum": 0,
    "hideHardwareSpecs": false,
    "memoryGiB": 64,
    "name": "ml.m5d.4xlarge",
    "vcpuNum": 16
   },
   {
    "_defaultOrder": 16,
    "_isFastLaunch": false,
    "category": "General purpose",
    "gpuNum": 0,
    "hideHardwareSpecs": false,
    "memoryGiB": 128,
    "name": "ml.m5d.8xlarge",
    "vcpuNum": 32
   },
   {
    "_defaultOrder": 17,
    "_isFastLaunch": false,
    "category": "General purpose",
    "gpuNum": 0,
    "hideHardwareSpecs": false,
    "memoryGiB": 192,
    "name": "ml.m5d.12xlarge",
    "vcpuNum": 48
   },
   {
    "_defaultOrder": 18,
    "_isFastLaunch": false,
    "category": "General purpose",
    "gpuNum": 0,
    "hideHardwareSpecs": false,
    "memoryGiB": 256,
    "name": "ml.m5d.16xlarge",
    "vcpuNum": 64
   },
   {
    "_defaultOrder": 19,
    "_isFastLaunch": false,
    "category": "General purpose",
    "gpuNum": 0,
    "hideHardwareSpecs": false,
    "memoryGiB": 384,
    "name": "ml.m5d.24xlarge",
    "vcpuNum": 96
   },
   {
    "_defaultOrder": 20,
    "_isFastLaunch": false,
    "category": "General purpose",
    "gpuNum": 0,
    "hideHardwareSpecs": true,
    "memoryGiB": 0,
    "name": "ml.geospatial.interactive",
    "supportedImageNames": [
     "sagemaker-geospatial-v1-0"
    ],
    "vcpuNum": 0
   },
   {
    "_defaultOrder": 21,
    "_isFastLaunch": true,
    "category": "Compute optimized",
    "gpuNum": 0,
    "hideHardwareSpecs": false,
    "memoryGiB": 4,
    "name": "ml.c5.large",
    "vcpuNum": 2
   },
   {
    "_defaultOrder": 22,
    "_isFastLaunch": false,
    "category": "Compute optimized",
    "gpuNum": 0,
    "hideHardwareSpecs": false,
    "memoryGiB": 8,
    "name": "ml.c5.xlarge",
    "vcpuNum": 4
   },
   {
    "_defaultOrder": 23,
    "_isFastLaunch": false,
    "category": "Compute optimized",
    "gpuNum": 0,
    "hideHardwareSpecs": false,
    "memoryGiB": 16,
    "name": "ml.c5.2xlarge",
    "vcpuNum": 8
   },
   {
    "_defaultOrder": 24,
    "_isFastLaunch": false,
    "category": "Compute optimized",
    "gpuNum": 0,
    "hideHardwareSpecs": false,
    "memoryGiB": 32,
    "name": "ml.c5.4xlarge",
    "vcpuNum": 16
   },
   {
    "_defaultOrder": 25,
    "_isFastLaunch": false,
    "category": "Compute optimized",
    "gpuNum": 0,
    "hideHardwareSpecs": false,
    "memoryGiB": 72,
    "name": "ml.c5.9xlarge",
    "vcpuNum": 36
   },
   {
    "_defaultOrder": 26,
    "_isFastLaunch": false,
    "category": "Compute optimized",
    "gpuNum": 0,
    "hideHardwareSpecs": false,
    "memoryGiB": 96,
    "name": "ml.c5.12xlarge",
    "vcpuNum": 48
   },
   {
    "_defaultOrder": 27,
    "_isFastLaunch": false,
    "category": "Compute optimized",
    "gpuNum": 0,
    "hideHardwareSpecs": false,
    "memoryGiB": 144,
    "name": "ml.c5.18xlarge",
    "vcpuNum": 72
   },
   {
    "_defaultOrder": 28,
    "_isFastLaunch": false,
    "category": "Compute optimized",
    "gpuNum": 0,
    "hideHardwareSpecs": false,
    "memoryGiB": 192,
    "name": "ml.c5.24xlarge",
    "vcpuNum": 96
   },
   {
    "_defaultOrder": 29,
    "_isFastLaunch": true,
    "category": "Accelerated computing",
    "gpuNum": 1,
    "hideHardwareSpecs": false,
    "memoryGiB": 16,
    "name": "ml.g4dn.xlarge",
    "vcpuNum": 4
   },
   {
    "_defaultOrder": 30,
    "_isFastLaunch": false,
    "category": "Accelerated computing",
    "gpuNum": 1,
    "hideHardwareSpecs": false,
    "memoryGiB": 32,
    "name": "ml.g4dn.2xlarge",
    "vcpuNum": 8
   },
   {
    "_defaultOrder": 31,
    "_isFastLaunch": false,
    "category": "Accelerated computing",
    "gpuNum": 1,
    "hideHardwareSpecs": false,
    "memoryGiB": 64,
    "name": "ml.g4dn.4xlarge",
    "vcpuNum": 16
   },
   {
    "_defaultOrder": 32,
    "_isFastLaunch": false,
    "category": "Accelerated computing",
    "gpuNum": 1,
    "hideHardwareSpecs": false,
    "memoryGiB": 128,
    "name": "ml.g4dn.8xlarge",
    "vcpuNum": 32
   },
   {
    "_defaultOrder": 33,
    "_isFastLaunch": false,
    "category": "Accelerated computing",
    "gpuNum": 4,
    "hideHardwareSpecs": false,
    "memoryGiB": 192,
    "name": "ml.g4dn.12xlarge",
    "vcpuNum": 48
   },
   {
    "_defaultOrder": 34,
    "_isFastLaunch": false,
    "category": "Accelerated computing",
    "gpuNum": 1,
    "hideHardwareSpecs": false,
    "memoryGiB": 256,
    "name": "ml.g4dn.16xlarge",
    "vcpuNum": 64
   },
   {
    "_defaultOrder": 35,
    "_isFastLaunch": false,
    "category": "Accelerated computing",
    "gpuNum": 1,
    "hideHardwareSpecs": false,
    "memoryGiB": 61,
    "name": "ml.p3.2xlarge",
    "vcpuNum": 8
   },
   {
    "_defaultOrder": 36,
    "_isFastLaunch": false,
    "category": "Accelerated computing",
    "gpuNum": 4,
    "hideHardwareSpecs": false,
    "memoryGiB": 244,
    "name": "ml.p3.8xlarge",
    "vcpuNum": 32
   },
   {
    "_defaultOrder": 37,
    "_isFastLaunch": false,
    "category": "Accelerated computing",
    "gpuNum": 8,
    "hideHardwareSpecs": false,
    "memoryGiB": 488,
    "name": "ml.p3.16xlarge",
    "vcpuNum": 64
   },
   {
    "_defaultOrder": 38,
    "_isFastLaunch": false,
    "category": "Accelerated computing",
    "gpuNum": 8,
    "hideHardwareSpecs": false,
    "memoryGiB": 768,
    "name": "ml.p3dn.24xlarge",
    "vcpuNum": 96
   },
   {
    "_defaultOrder": 39,
    "_isFastLaunch": false,
    "category": "Memory Optimized",
    "gpuNum": 0,
    "hideHardwareSpecs": false,
    "memoryGiB": 16,
    "name": "ml.r5.large",
    "vcpuNum": 2
   },
   {
    "_defaultOrder": 40,
    "_isFastLaunch": false,
    "category": "Memory Optimized",
    "gpuNum": 0,
    "hideHardwareSpecs": false,
    "memoryGiB": 32,
    "name": "ml.r5.xlarge",
    "vcpuNum": 4
   },
   {
    "_defaultOrder": 41,
    "_isFastLaunch": false,
    "category": "Memory Optimized",
    "gpuNum": 0,
    "hideHardwareSpecs": false,
    "memoryGiB": 64,
    "name": "ml.r5.2xlarge",
    "vcpuNum": 8
   },
   {
    "_defaultOrder": 42,
    "_isFastLaunch": false,
    "category": "Memory Optimized",
    "gpuNum": 0,
    "hideHardwareSpecs": false,
    "memoryGiB": 128,
    "name": "ml.r5.4xlarge",
    "vcpuNum": 16
   },
   {
    "_defaultOrder": 43,
    "_isFastLaunch": false,
    "category": "Memory Optimized",
    "gpuNum": 0,
    "hideHardwareSpecs": false,
    "memoryGiB": 256,
    "name": "ml.r5.8xlarge",
    "vcpuNum": 32
   },
   {
    "_defaultOrder": 44,
    "_isFastLaunch": false,
    "category": "Memory Optimized",
    "gpuNum": 0,
    "hideHardwareSpecs": false,
    "memoryGiB": 384,
    "name": "ml.r5.12xlarge",
    "vcpuNum": 48
   },
   {
    "_defaultOrder": 45,
    "_isFastLaunch": false,
    "category": "Memory Optimized",
    "gpuNum": 0,
    "hideHardwareSpecs": false,
    "memoryGiB": 512,
    "name": "ml.r5.16xlarge",
    "vcpuNum": 64
   },
   {
    "_defaultOrder": 46,
    "_isFastLaunch": false,
    "category": "Memory Optimized",
    "gpuNum": 0,
    "hideHardwareSpecs": false,
    "memoryGiB": 768,
    "name": "ml.r5.24xlarge",
    "vcpuNum": 96
   },
   {
    "_defaultOrder": 47,
    "_isFastLaunch": false,
    "category": "Accelerated computing",
    "gpuNum": 1,
    "hideHardwareSpecs": false,
    "memoryGiB": 16,
    "name": "ml.g5.xlarge",
    "vcpuNum": 4
   },
   {
    "_defaultOrder": 48,
    "_isFastLaunch": false,
    "category": "Accelerated computing",
    "gpuNum": 1,
    "hideHardwareSpecs": false,
    "memoryGiB": 32,
    "name": "ml.g5.2xlarge",
    "vcpuNum": 8
   },
   {
    "_defaultOrder": 49,
    "_isFastLaunch": false,
    "category": "Accelerated computing",
    "gpuNum": 1,
    "hideHardwareSpecs": false,
    "memoryGiB": 64,
    "name": "ml.g5.4xlarge",
    "vcpuNum": 16
   },
   {
    "_defaultOrder": 50,
    "_isFastLaunch": false,
    "category": "Accelerated computing",
    "gpuNum": 1,
    "hideHardwareSpecs": false,
    "memoryGiB": 128,
    "name": "ml.g5.8xlarge",
    "vcpuNum": 32
   },
   {
    "_defaultOrder": 51,
    "_isFastLaunch": false,
    "category": "Accelerated computing",
    "gpuNum": 1,
    "hideHardwareSpecs": false,
    "memoryGiB": 256,
    "name": "ml.g5.16xlarge",
    "vcpuNum": 64
   },
   {
    "_defaultOrder": 52,
    "_isFastLaunch": false,
    "category": "Accelerated computing",
    "gpuNum": 4,
    "hideHardwareSpecs": false,
    "memoryGiB": 192,
    "name": "ml.g5.12xlarge",
    "vcpuNum": 48
   },
   {
    "_defaultOrder": 53,
    "_isFastLaunch": false,
    "category": "Accelerated computing",
    "gpuNum": 4,
    "hideHardwareSpecs": false,
    "memoryGiB": 384,
    "name": "ml.g5.24xlarge",
    "vcpuNum": 96
   },
   {
    "_defaultOrder": 54,
    "_isFastLaunch": false,
    "category": "Accelerated computing",
    "gpuNum": 8,
    "hideHardwareSpecs": false,
    "memoryGiB": 768,
    "name": "ml.g5.48xlarge",
    "vcpuNum": 192
   }
  ],
  "instance_type": "ml.t3.xlarge",
  "kernelspec": {
   "display_name": "Python 3 (Data Science)",
   "language": "python",
   "name": "python3__SAGEMAKER_INTERNAL__arn:aws:sagemaker:us-east-1:081325390199:image/datascience-1.0"
  },
  "language_info": {
   "codemirror_mode": {
    "name": "ipython",
    "version": 3
   },
   "file_extension": ".py",
   "mimetype": "text/x-python",
   "name": "python",
   "nbconvert_exporter": "python",
   "pygments_lexer": "ipython3",
   "version": "3.7.10"
  }
 },
 "nbformat": 4,
 "nbformat_minor": 5
}
